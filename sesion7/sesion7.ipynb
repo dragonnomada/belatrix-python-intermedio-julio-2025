{
 "cells": [
  {
   "cell_type": "markdown",
   "id": "138cf131",
   "metadata": {},
   "source": [
    "# Python Intermedio - Sesión 7\n",
    "\n",
    "![logo](https://www.belatrix.com/wp-content/uploads/2023/08/belatrix-logosweb-1.png)"
   ]
  }
 ],
 "metadata": {
  "language_info": {
   "name": "python"
  }
 },
 "nbformat": 4,
 "nbformat_minor": 5
}
