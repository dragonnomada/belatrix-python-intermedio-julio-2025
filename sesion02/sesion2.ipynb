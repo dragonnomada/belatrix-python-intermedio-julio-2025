{
  "nbformat": 4,
  "nbformat_minor": 0,
  "metadata": {
    "colab": {
      "provenance": []
    },
    "kernelspec": {
      "name": "python3",
      "display_name": "Python 3"
    },
    "language_info": {
      "name": "python"
    }
  },
  "cells": [
    {
      "cell_type": "markdown",
      "source": [
        "# Python Intermedio - Sesión 2\n",
        "\n",
        "![logo](https://www.belatrix.com/wp-content/uploads/2023/08/belatrix-logosweb-1.png)"
      ],
      "metadata": {
        "id": "cQa9-JKcVR1K"
      }
    },
    {
      "cell_type": "markdown",
      "source": [
        "> Módulo I – Introducción a Python\n",
        "\n",
        "1. Uso de Variables y Tipos de Datos\n",
        "2. Funciones y Expresiones Lambda\n",
        "3. Listas y Listas Generadas\n",
        "4. Tuplas y Diccionarios"
      ],
      "metadata": {
        "id": "w5NPqv7GVVlf"
      }
    },
    {
      "cell_type": "code",
      "execution_count": null,
      "metadata": {
        "id": "OkoYX4YdVDVK"
      },
      "outputs": [],
      "source": [
        "x = 78.5"
      ]
    },
    {
      "cell_type": "code",
      "source": [
        "u = [78.5, 81.5, 92.3, 73.1, 77.9]"
      ],
      "metadata": {
        "id": "UojFCzq4Vobu"
      },
      "execution_count": null,
      "outputs": []
    },
    {
      "cell_type": "code",
      "source": [
        "s = 0\n",
        "\n",
        "# for <elemento> in <secuencia>\n",
        "for u_i in u:\n",
        "  s = s + u_i # s = (0) + (78.5) = 78.5\n",
        "              # s = (78.5) + (81.5) = 160.0\n",
        "  print(u_i, s)"
      ],
      "metadata": {
        "colab": {
          "base_uri": "https://localhost:8080/"
        },
        "id": "9DzstrGkV6L8",
        "outputId": "bafe7b71-5b8b-4fcb-a125-140922124a92"
      },
      "execution_count": null,
      "outputs": [
        {
          "output_type": "stream",
          "name": "stdout",
          "text": [
            "78.5 78.5\n",
            "81.5 160.0\n",
            "92.3 252.3\n",
            "73.1 325.4\n",
            "77.9 403.29999999999995\n"
          ]
        }
      ]
    },
    {
      "cell_type": "markdown",
      "source": [
        "## Modelo de Lorenz (Desiguldad de recursos)\n",
        "\n",
        "1. Lista de recursos ordenados (ascendente)\n",
        "2. Sumas parciales $S_0 = r_0$, $S_1 = S_0 + r_1$, $S_2 = S_1 + r_2$, ..., $S_n = S_{n-1} + r_n$\n",
        "3. Proporciones parciales $P_0 = \\frac{S_0}{S_T}$, $P_2 = \\frac{S_1}{S_T}$, $P_2 = \\frac{S_2}{S_T}$, ..., $P_n = \\frac{S_n}{S_T}$"
      ],
      "metadata": {
        "id": "3OwNSOP2WvhB"
      }
    },
    {
      "cell_type": "code",
      "source": [
        "poblacion = [12_500, 14_400, 8_000, 6_200, 24_000, 48_000, 5_800] # salarios\n",
        "\n",
        "poblacion"
      ],
      "metadata": {
        "colab": {
          "base_uri": "https://localhost:8080/"
        },
        "id": "jmPcnJmmW5-N",
        "outputId": "005cdf1f-4f02-4b00-b654-9ded1bb992dc"
      },
      "execution_count": null,
      "outputs": [
        {
          "output_type": "execute_result",
          "data": {
            "text/plain": [
              "[12500, 14400, 8000, 6200, 24000, 48000, 5800]"
            ]
          },
          "metadata": {},
          "execution_count": 5
        }
      ]
    },
    {
      "cell_type": "code",
      "source": [
        "poblacion_ordenada = sorted(poblacion)\n",
        "\n",
        "poblacion_ordenada"
      ],
      "metadata": {
        "colab": {
          "base_uri": "https://localhost:8080/"
        },
        "id": "7IByZh18X2Z_",
        "outputId": "06b9e495-d8dd-4376-859c-c69fd5585ed3"
      },
      "execution_count": null,
      "outputs": [
        {
          "output_type": "execute_result",
          "data": {
            "text/plain": [
              "[5800, 6200, 8000, 12500, 14400, 24000, 48000]"
            ]
          },
          "metadata": {},
          "execution_count": 8
        }
      ]
    },
    {
      "cell_type": "code",
      "source": [
        "sumas = []\n",
        "proporciones = []\n",
        "\n",
        "s = 0\n",
        "\n",
        "# for <elemento> in <secuencia>\n",
        "for r in poblacion_ordenada:\n",
        "  s = s + r\n",
        "  sumas.append(s)\n",
        "\n",
        "  p = s / sum(poblacion_ordenada)\n",
        "  proporciones.append(p)\n",
        "\n",
        "  print(s, p)"
      ],
      "metadata": {
        "colab": {
          "base_uri": "https://localhost:8080/"
        },
        "id": "Cux9r2D8YAUy",
        "outputId": "88b622a6-e627-491c-ae31-9b756c0e6482"
      },
      "execution_count": null,
      "outputs": [
        {
          "output_type": "stream",
          "name": "stdout",
          "text": [
            "5800 0.04878048780487805\n",
            "12000 0.10092514718250631\n",
            "20000 0.16820857863751051\n",
            "32500 0.27333894028595457\n",
            "46900 0.39444911690496215\n",
            "70900 0.5962994112699748\n",
            "118900 1.0\n"
          ]
        }
      ]
    },
    {
      "cell_type": "code",
      "source": [
        "sumas"
      ],
      "metadata": {
        "colab": {
          "base_uri": "https://localhost:8080/"
        },
        "id": "DkG18R2CZYDl",
        "outputId": "2c1660c7-1161-4553-83e1-001807414a7c"
      },
      "execution_count": null,
      "outputs": [
        {
          "output_type": "execute_result",
          "data": {
            "text/plain": [
              "[5800, 12000, 20000, 32500, 46900, 70900, 118900]"
            ]
          },
          "metadata": {},
          "execution_count": 15
        }
      ]
    },
    {
      "cell_type": "code",
      "source": [
        "proporciones"
      ],
      "metadata": {
        "colab": {
          "base_uri": "https://localhost:8080/"
        },
        "id": "EGgkGhfUZjBf",
        "outputId": "ad761825-1b6b-4eb4-e5e1-233a4166061a"
      },
      "execution_count": null,
      "outputs": [
        {
          "output_type": "execute_result",
          "data": {
            "text/plain": [
              "[0.04878048780487805,\n",
              " 0.10092514718250631,\n",
              " 0.16820857863751051,\n",
              " 0.27333894028595457,\n",
              " 0.39444911690496215,\n",
              " 0.5962994112699748,\n",
              " 1.0]"
            ]
          },
          "metadata": {},
          "execution_count": 16
        }
      ]
    },
    {
      "cell_type": "code",
      "source": [
        "# pip install seaborn\n",
        "import seaborn\n",
        "\n",
        "n = len(sumas)\n",
        "\n",
        "# range(n) -> 0, 1, 2, ..., n-2, n-1\n",
        "# range(a, b) -> a, a+1, a+2, ..., b-2, b-1\n",
        "# range(a, b, s) -> a, a+s, a+2s, ..., b-2s, b-1s\n",
        "\n",
        "seaborn.scatterplot(x=range(n), y=sumas)"
      ],
      "metadata": {
        "colab": {
          "base_uri": "https://localhost:8080/",
          "height": 468
        },
        "id": "4oabx-ouZmqF",
        "outputId": "02e937a8-2f43-449a-80bc-1034a3f1c5b3"
      },
      "execution_count": null,
      "outputs": [
        {
          "output_type": "execute_result",
          "data": {
            "text/plain": [
              "<Axes: >"
            ]
          },
          "metadata": {},
          "execution_count": 19
        },
        {
          "output_type": "display_data",
          "data": {
            "text/plain": [
              "<Figure size 640x480 with 1 Axes>"
            ],
            "image/png": "[encoded data removed]"
          },
          "metadata": {}
        }
      ]
    },
    {
      "cell_type": "code",
      "source": [
        "seaborn.scatterplot(x=range(n), y=proporciones)"
      ],
      "metadata": {
        "colab": {
          "base_uri": "https://localhost:8080/",
          "height": 468
        },
        "id": "0Di98ihMcJbz",
        "outputId": "5a5bc868-ab4d-4753-cdf9-b0181b79eb86"
      },
      "execution_count": null,
      "outputs": [
        {
          "output_type": "execute_result",
          "data": {
            "text/plain": [
              "<Axes: >"
            ]
          },
          "metadata": {},
          "execution_count": 20
        },
        {
          "output_type": "display_data",
          "data": {
            "text/plain": [
              "<Figure size 640x480 with 1 Axes>"
            ],
            "image/png": "[encoded data removed]"
          },
          "metadata": {}
        }
      ]
    },
    {
      "cell_type": "code",
      "source": [
        "seaborn.lineplot(x=range(n), y=proporciones, marker=\"o\", linestyle=\"dotted\", color=\"crimson\")"
      ],
      "metadata": {
        "colab": {
          "base_uri": "https://localhost:8080/",
          "height": 468
        },
        "id": "BZLYyp9rcPj6",
        "outputId": "b43b4672-49a7-48b7-f2cf-b04cc612d1e4"
      },
      "execution_count": null,
      "outputs": [
        {
          "output_type": "execute_result",
          "data": {
            "text/plain": [
              "<Axes: >"
            ]
          },
          "metadata": {},
          "execution_count": 67
        },
        {
          "output_type": "display_data",
          "data": {
            "text/plain": [
              "<Figure size 640x480 with 1 Axes>"
            ],
            "image/png": "[encoded data removed]"
          },
          "metadata": {}
        }
      ]
    },
    {
      "cell_type": "markdown",
      "source": [
        "# Listas Generadas\n",
        "\n",
        "Vamos a generar una lista a partir de un iterador\n",
        "\n",
        "```python\n",
        "<variable> = [ <expresion> for <elemento> in <secuencia> ]\n",
        "```"
      ],
      "metadata": {
        "id": "FcwmAbWddJAj"
      }
    },
    {
      "cell_type": "code",
      "source": [
        "edades = [18, 19, 25, 23, 12, 17, 19]\n",
        "\n",
        "# [ T(x) for x in A ]\n",
        "edades2 = [ edad ** 2 for edad in edades ]\n",
        "\n",
        "print(edades)\n",
        "print(edades2)"
      ],
      "metadata": {
        "colab": {
          "base_uri": "https://localhost:8080/"
        },
        "id": "0SEl6kHAdm93",
        "outputId": "19b27d0c-6552-4669-9c86-bc359460232a"
      },
      "execution_count": null,
      "outputs": [
        {
          "output_type": "stream",
          "name": "stdout",
          "text": [
            "[18, 19, 25, 23, 12, 17, 19]\n",
            "[324, 361, 625, 529, 144, 289, 361]\n"
          ]
        }
      ]
    },
    {
      "cell_type": "code",
      "source": [
        "recursos = sorted([12_500, 14_400, 8_000, 6_200, 24_000, 48_000, 5_800])\n",
        "\n",
        "recursos"
      ],
      "metadata": {
        "colab": {
          "base_uri": "https://localhost:8080/"
        },
        "id": "8mq6tjD1eIZd",
        "outputId": "6679863f-e4c7-4cd1-a95a-df9cb529c0d7"
      },
      "execution_count": null,
      "outputs": [
        {
          "output_type": "execute_result",
          "data": {
            "text/plain": [
              "[5800, 6200, 8000, 12500, 14400, 24000, 48000]"
            ]
          },
          "metadata": {},
          "execution_count": 50
        }
      ]
    },
    {
      "cell_type": "code",
      "source": [
        "# Sublista [i:j-1]\n",
        "recursos[0:7] # 0, 1, 2, 3, 4, 5, 6"
      ],
      "metadata": {
        "colab": {
          "base_uri": "https://localhost:8080/"
        },
        "id": "WauLdB_weaSp",
        "outputId": "9e34ba36-436b-48e0-b970-eefd2b673711"
      },
      "execution_count": null,
      "outputs": [
        {
          "output_type": "execute_result",
          "data": {
            "text/plain": [
              "[5800, 6200, 8000, 12500, 14400, 24000, 48000]"
            ]
          },
          "metadata": {},
          "execution_count": 72
        }
      ]
    },
    {
      "cell_type": "code",
      "source": [
        "s0 = sum(recursos[0:1]) # 0\n",
        "s0"
      ],
      "metadata": {
        "colab": {
          "base_uri": "https://localhost:8080/"
        },
        "id": "aPZPJW0_fPGJ",
        "outputId": "90dd2d4a-f23e-4f5e-8e54-bd90cd64072e"
      },
      "execution_count": null,
      "outputs": [
        {
          "output_type": "execute_result",
          "data": {
            "text/plain": [
              "5800"
            ]
          },
          "metadata": {},
          "execution_count": 61
        }
      ]
    },
    {
      "cell_type": "code",
      "source": [
        "s1 = sum(recursos[0:2]) # 0, 1\n",
        "s1"
      ],
      "metadata": {
        "colab": {
          "base_uri": "https://localhost:8080/"
        },
        "id": "skn7LuVafU-W",
        "outputId": "c6e5624c-0ebb-40dc-bb06-a213f2261fb8"
      },
      "execution_count": null,
      "outputs": [
        {
          "output_type": "execute_result",
          "data": {
            "text/plain": [
              "12000"
            ]
          },
          "metadata": {},
          "execution_count": 62
        }
      ]
    },
    {
      "cell_type": "code",
      "source": [
        "s2 = sum(recursos[0:3]) # 0, 1, 2\n",
        "s2"
      ],
      "metadata": {
        "colab": {
          "base_uri": "https://localhost:8080/"
        },
        "id": "ScuN0Ekcfd3T",
        "outputId": "748b4ff8-ce44-4872-fb34-23c745cce968"
      },
      "execution_count": null,
      "outputs": [
        {
          "output_type": "execute_result",
          "data": {
            "text/plain": [
              "20000"
            ]
          },
          "metadata": {},
          "execution_count": 63
        }
      ]
    },
    {
      "cell_type": "code",
      "source": [
        "sn_1 = sum(recursos[0:n])\n",
        "sn_1"
      ],
      "metadata": {
        "colab": {
          "base_uri": "https://localhost:8080/"
        },
        "id": "EqCxG0yBhogY",
        "outputId": "e0044a45-2516-43a2-97c6-8393da6c5cfc"
      },
      "execution_count": null,
      "outputs": [
        {
          "output_type": "execute_result",
          "data": {
            "text/plain": [
              "118900"
            ]
          },
          "metadata": {},
          "execution_count": 73
        }
      ]
    },
    {
      "cell_type": "code",
      "source": [
        "[ sum(recursos[0:j]) for j in range(1, n + 1) ] # j in range(1, n+1)"
      ],
      "metadata": {
        "colab": {
          "base_uri": "https://localhost:8080/"
        },
        "id": "kDcojimJfi7_",
        "outputId": "fa97da3d-3f54-4feb-c227-6381df234bbd"
      },
      "execution_count": null,
      "outputs": [
        {
          "output_type": "execute_result",
          "data": {
            "text/plain": [
              "[5800, 12000, 20000, 32500, 46900, 70900, 118900]"
            ]
          },
          "metadata": {},
          "execution_count": 64
        }
      ]
    },
    {
      "cell_type": "code",
      "source": [
        "[ sum(recursos[0:k+1]) for k in range(n) ]"
      ],
      "metadata": {
        "colab": {
          "base_uri": "https://localhost:8080/"
        },
        "id": "k9x-CiD1h0kx",
        "outputId": "1a12be8d-6c18-4174-8b26-0711e0288d7f"
      },
      "execution_count": null,
      "outputs": [
        {
          "output_type": "execute_result",
          "data": {
            "text/plain": [
              "[5800, 12000, 20000, 32500, 46900, 70900, 118900]"
            ]
          },
          "metadata": {},
          "execution_count": 74
        }
      ]
    },
    {
      "cell_type": "code",
      "source": [
        "sumas = [ sum(recursos[:k+1]) for k in range(n) ]\n",
        "sumas"
      ],
      "metadata": {
        "colab": {
          "base_uri": "https://localhost:8080/"
        },
        "id": "0U-A9Wv3iAVY",
        "outputId": "f1198219-ce7d-4a02-955f-796636fb607a"
      },
      "execution_count": null,
      "outputs": [
        {
          "output_type": "execute_result",
          "data": {
            "text/plain": [
              "[5800, 12000, 20000, 32500, 46900, 70900, 118900]"
            ]
          },
          "metadata": {},
          "execution_count": 75
        }
      ]
    },
    {
      "cell_type": "code",
      "source": [
        "proporciones = [ s / sum(recursos) for s in sumas ]\n",
        "\n",
        "proporciones"
      ],
      "metadata": {
        "colab": {
          "base_uri": "https://localhost:8080/"
        },
        "id": "lcDeMsk7iJyU",
        "outputId": "378e0f5c-b5f5-4371-d044-fd86abb5aa13"
      },
      "execution_count": null,
      "outputs": [
        {
          "output_type": "execute_result",
          "data": {
            "text/plain": [
              "[0.04878048780487805,\n",
              " 0.10092514718250631,\n",
              " 0.16820857863751051,\n",
              " 0.27333894028595457,\n",
              " 0.39444911690496215,\n",
              " 0.5962994112699748,\n",
              " 1.0]"
            ]
          },
          "metadata": {},
          "execution_count": 77
        }
      ]
    },
    {
      "cell_type": "markdown",
      "source": [
        "# Ejemplo: Curva de Lorenz de los recursos"
      ],
      "metadata": {
        "id": "91d_uczKieJ8"
      }
    },
    {
      "cell_type": "code",
      "source": [
        "import seaborn\n",
        "\n",
        "recursos = [2_800, 3_400, 7_800, 14_500, 19_600, 20_000, 21_000] # gasto en vaciones\n",
        "\n",
        "n = len(recursos)\n",
        "\n",
        "sumas = [sum(recursos[:j]) for j in range(1, n + 1)]\n",
        "\n",
        "proporciones = [sj / sum(recursos) for sj in sumas]\n",
        "proporciones_ideales = [(j + 1) / n for j in range(n)]\n",
        "\n",
        "seaborn.lineplot(x=range(n), y=proporciones, marker=\"o\")\n",
        "seaborn.lineplot(x=range(n), y=proporciones_ideales, marker=\"o\")"
      ],
      "metadata": {
        "colab": {
          "base_uri": "https://localhost:8080/",
          "height": 468
        },
        "id": "XoVIQ94zih9I",
        "outputId": "c6961712-c27a-4296-9ba5-b5b70f3a3787"
      },
      "execution_count": null,
      "outputs": [
        {
          "output_type": "execute_result",
          "data": {
            "text/plain": [
              "<Axes: >"
            ]
          },
          "metadata": {},
          "execution_count": 87
        },
        {
          "output_type": "display_data",
          "data": {
            "text/plain": [
              "<Figure size 640x480 with 1 Axes>"
            ],
            "image/png": "[encoded data removed]"
          },
          "metadata": {}
        }
      ]
    },
    {
      "cell_type": "markdown",
      "source": [
        "# Colecciones: Tuplas y Diccionarios\n",
        "\n",
        "Las listas son estructuras numéricamente-indexadas que permiten alamacenar elementos de manera dinámica, su función es recolectar muchos datos y mantenerlos.\n",
        "\n",
        "Las tuplas son estructuras numéricamente-indexadas que permiten acoplar elementos de manera estática (fija), su función es empaquetar o transportar datos en una forma uniforme.\n",
        "\n",
        "Los diccionarios son estructuras genéricamente-indexadas que permiten modelar elementos en forma de registros o *frames*, su función es modelar o unificar datos en una manera natural.\n",
        "\n",
        "> Sintaxis: Lista\n",
        "\n",
        "```python\n",
        "<variable> = [ <elemento1>, <elemento2>, ..., <elementoN> ]\n",
        "```\n",
        "\n",
        "> Sintaxis: Tupla\n",
        "\n",
        "```python\n",
        "<variable> = ( <elemento1>, <elemento2>, ..., <elementoK> )\n",
        "\n",
        "<variable> = <elemento1>, <elemento2>, ..., <elementoK>\n",
        "```\n",
        "\n",
        "> Sintaxis: Diccionario\n",
        "\n",
        "```python\n",
        "<variable> = { <clave1>: <elemento1>, <clave2>: <elemento2>, ..., <claveD>: <elementoD> }\n",
        "\n",
        "<variable> = {\n",
        "  <clave1>: <elemento1>,\n",
        "  <clave2>: <elemento2>,\n",
        "  ...,\n",
        "  <claveD>: <elementoD>\n",
        "}\n",
        "```"
      ],
      "metadata": {
        "id": "KAOIJtH3ladL"
      }
    },
    {
      "cell_type": "markdown",
      "source": [
        "## Tuplas: Acoplar y desacoplar valores para su transporte"
      ],
      "metadata": {
        "id": "DZbf8dSnpQVv"
      }
    },
    {
      "cell_type": "code",
      "source": [
        "# Acoplar: Unir valores dentro de una k-tupla para retenerlos en una variable\n",
        "punto = (4, 5) # 2-tupla (x, y)\n",
        "\n",
        "persona = (\"Alberto\", 33) # 2-tupla (nombre, edad)\n",
        "\n",
        "muestra = (2, 7.6, 45) # 3-tupla (minutos, pH, temperatura)\n",
        "\n",
        "nombreTupla = (\"María\",) # 1-tupla (nombre,)\n",
        "\n",
        "reporte = (17, 8, 7.3, 4.5, 18) # 5-tupla (total, mínimo, promedio, varianza, máximo)"
      ],
      "metadata": {
        "id": "JBkpU_D1pM6g"
      },
      "execution_count": null,
      "outputs": []
    },
    {
      "cell_type": "code",
      "source": [
        "# Desacoplar: Separar valores de una k-tupla dentro de k variables nuevas\n",
        "x, y = punto # 2-tupla\n",
        "print(x, y)\n",
        "\n",
        "nombre, edad = persona # 2-tupla\n",
        "print(nombre, edad)\n",
        "\n",
        "minutos, ph, temperatura = muestra # 3-tupla\n",
        "print(minutos, ph, temperatura)\n",
        "\n",
        "nom, = nombreTupla # 1-tupla\n",
        "print(nom)\n",
        "\n",
        "total, minimo, promedio, varianza, maximo = reporte # 5-tupla\n",
        "print(total, minimo, promedio, varianza, maximo)"
      ],
      "metadata": {
        "colab": {
          "base_uri": "https://localhost:8080/"
        },
        "id": "RrkdrxsNqc66",
        "outputId": "ec583f9e-e7c3-41b8-9383-86642c58e81f"
      },
      "execution_count": null,
      "outputs": [
        {
          "output_type": "stream",
          "name": "stdout",
          "text": [
            "4 5\n",
            "Alberto 33\n",
            "2 7.6 45\n",
            "María\n",
            "17 8 7.3 4.5 18\n"
          ]
        }
      ]
    },
    {
      "cell_type": "markdown",
      "source": [
        "### Listas de tuplas"
      ],
      "metadata": {
        "id": "il1L3SWFrYWa"
      }
    },
    {
      "cell_type": "code",
      "source": [
        "puntos = [\n",
        "    (4, 5),\n",
        "    (7, 8),\n",
        "    (6, 3),\n",
        "    (5, 9),\n",
        "    (1, 2),\n",
        "    (10, 21),\n",
        "    (9, 16),\n",
        "]"
      ],
      "metadata": {
        "id": "9MYQ25nPrZ8V"
      },
      "execution_count": null,
      "outputs": []
    },
    {
      "cell_type": "code",
      "source": [
        "for punto in puntos:\n",
        "  x, y = punto\n",
        "  print(x, y, x + y)"
      ],
      "metadata": {
        "colab": {
          "base_uri": "https://localhost:8080/"
        },
        "id": "ayOUCr0WrqSi",
        "outputId": "7b6d4259-e204-4b74-db18-e76db5c542ee"
      },
      "execution_count": null,
      "outputs": [
        {
          "output_type": "stream",
          "name": "stdout",
          "text": [
            "4 5 9\n",
            "7 8 15\n",
            "6 3 9\n",
            "5 9 14\n",
            "1 2 3\n",
            "10 21 31\n",
            "9 16 25\n"
          ]
        }
      ]
    },
    {
      "cell_type": "code",
      "source": [
        "for x, y in puntos:\n",
        "  print(x, y, x + y)"
      ],
      "metadata": {
        "colab": {
          "base_uri": "https://localhost:8080/"
        },
        "id": "Iuq1yL_NsJfi",
        "outputId": "c2ee30e7-3948-48d4-c7b2-31f9e2fd211e"
      },
      "execution_count": null,
      "outputs": [
        {
          "output_type": "stream",
          "name": "stdout",
          "text": [
            "4 5 9\n",
            "7 8 15\n",
            "6 3 9\n",
            "5 9 14\n",
            "1 2 3\n",
            "10 21 31\n",
            "9 16 25\n"
          ]
        }
      ]
    },
    {
      "cell_type": "code",
      "source": [
        "print(f\"      x    |        y   |        x * y\")\n",
        "print(f\" --------- | ---------- | --------------\")\n",
        "for x, y in puntos:\n",
        "  print(f\"{x:10} | {y:10} | {x * y: 10}\")"
      ],
      "metadata": {
        "colab": {
          "base_uri": "https://localhost:8080/"
        },
        "id": "sZXfzATpsP6E",
        "outputId": "91db68d6-b751-43bf-f1c6-6cf34fe12586"
      },
      "execution_count": null,
      "outputs": [
        {
          "output_type": "stream",
          "name": "stdout",
          "text": [
            "      x    |        y   |        x * y\n",
            " --------- | ---------- | --------------\n",
            "         4 |          5 |         20\n",
            "         7 |          8 |         56\n",
            "         6 |          3 |         18\n",
            "         5 |          9 |         45\n",
            "         1 |          2 |          2\n",
            "        10 |         21 |        210\n",
            "         9 |         16 |        144\n"
          ]
        }
      ]
    },
    {
      "cell_type": "code",
      "source": [
        "# puntos (lista) -> 2-tupla\n",
        "# x, y <- puntos\n",
        "\n",
        "x, y = zip(*puntos) # Desacopla una lista de tuplas en listas independientes\n",
        "\n",
        "print(x)\n",
        "print(y)"
      ],
      "metadata": {
        "colab": {
          "base_uri": "https://localhost:8080/"
        },
        "id": "evWvKnzzsp87",
        "outputId": "7f031bf8-d590-468e-afc9-443ff3951d5f"
      },
      "execution_count": null,
      "outputs": [
        {
          "output_type": "stream",
          "name": "stdout",
          "text": [
            "(4, 7, 6, 5, 1, 10, 9)\n",
            "(5, 8, 3, 9, 2, 21, 16)\n"
          ]
        }
      ]
    },
    {
      "cell_type": "code",
      "source": [
        "import seaborn\n",
        "\n",
        "seaborn.barplot(x=x, y=y)"
      ],
      "metadata": {
        "colab": {
          "base_uri": "https://localhost:8080/",
          "height": 468
        },
        "id": "HPfubChXtA4x",
        "outputId": "fe02471d-5ae0-44f1-f0de-86bbf5f29994"
      },
      "execution_count": null,
      "outputs": [
        {
          "output_type": "execute_result",
          "data": {
            "text/plain": [
              "<Axes: >"
            ]
          },
          "metadata": {},
          "execution_count": 117
        },
        {
          "output_type": "display_data",
          "data": {
            "text/plain": [
              "<Figure size 640x480 with 1 Axes>"
            ],
            "image/png": "[encoded data removed]"
          },
          "metadata": {}
        }
      ]
    },
    {
      "cell_type": "markdown",
      "source": [
        "# Diccionarios: Clave-Valor"
      ],
      "metadata": {
        "id": "ocZt-MU-tR9Q"
      }
    },
    {
      "cell_type": "code",
      "source": [
        "persona = {\n",
        "    \"nombre\": \"Alberto\",\n",
        "    \"edad\": 33,\n",
        "    \"casado\": True,\n",
        "    \"salario\": 15800,\n",
        "    \"horasTrabajo\": 16\n",
        "}\n",
        "\n",
        "producto = {\n",
        "    \"nombre\": \"Galletas Marías\",\n",
        "    \"precio\": 21.5,\n",
        "    \"cantidad\": 12,\n",
        "    \"existencias\": 100\n",
        "}"
      ],
      "metadata": {
        "id": "fMbh4_B5tXMK"
      },
      "execution_count": null,
      "outputs": []
    },
    {
      "cell_type": "code",
      "source": [
        "persona[\"nombre\"]"
      ],
      "metadata": {
        "colab": {
          "base_uri": "https://localhost:8080/",
          "height": 56
        },
        "id": "mHY-metltxop",
        "outputId": "efe79aa4-2379-4153-f13b-aa3f29914b26"
      },
      "execution_count": null,
      "outputs": [
        {
          "output_type": "execute_result",
          "data": {
            "text/plain": [
              "'Alberto'"
            ],
            "application/vnd.google.colaboratory.intrinsic+json": {
              "type": "string"
            }
          },
          "metadata": {},
          "execution_count": 120
        }
      ]
    },
    {
      "cell_type": "code",
      "source": [
        "persona[\"edad\"]"
      ],
      "metadata": {
        "colab": {
          "base_uri": "https://localhost:8080/"
        },
        "id": "5LbwFUXht3AF",
        "outputId": "d5e653c0-339b-4249-b27c-cd5560635588"
      },
      "execution_count": null,
      "outputs": [
        {
          "output_type": "execute_result",
          "data": {
            "text/plain": [
              "33"
            ]
          },
          "metadata": {},
          "execution_count": 121
        }
      ]
    },
    {
      "cell_type": "code",
      "source": [
        "persona[\"ubicacion\"] = (80, -101)\n",
        "\n",
        "persona"
      ],
      "metadata": {
        "colab": {
          "base_uri": "https://localhost:8080/"
        },
        "id": "yxd9lsR0t4O5",
        "outputId": "37d0d5d6-5bd5-4db3-e367-eeca03e4f7bd"
      },
      "execution_count": null,
      "outputs": [
        {
          "output_type": "execute_result",
          "data": {
            "text/plain": [
              "{'nombre': 'Alberto',\n",
              " 'edad': 33,\n",
              " 'casado': True,\n",
              " 'salario': 15800,\n",
              " 'horasTrabajo': 16,\n",
              " 'ubicacion': (80, -101)}"
            ]
          },
          "metadata": {},
          "execution_count": 122
        }
      ]
    },
    {
      "cell_type": "code",
      "source": [
        "persona[\"casado\"] = False\n",
        "\n",
        "persona"
      ],
      "metadata": {
        "colab": {
          "base_uri": "https://localhost:8080/"
        },
        "id": "1sTeZgp5uCzX",
        "outputId": "9b9cd694-2401-4890-c913-a00966b44f82"
      },
      "execution_count": null,
      "outputs": [
        {
          "output_type": "execute_result",
          "data": {
            "text/plain": [
              "{'nombre': 'Alberto',\n",
              " 'edad': 33,\n",
              " 'casado': False,\n",
              " 'salario': 15800,\n",
              " 'horasTrabajo': 16,\n",
              " 'ubicacion': (80, -101)}"
            ]
          },
          "metadata": {},
          "execution_count": 123
        }
      ]
    },
    {
      "cell_type": "markdown",
      "source": [
        "### Listas de Diccionarios (*ListFrames*)"
      ],
      "metadata": {
        "id": "vyi110UBuJUn"
      }
    },
    {
      "cell_type": "code",
      "source": [
        "personas = [\n",
        "    {\n",
        "        \"nombre\": \"Paco\",\n",
        "        \"edad\": 21\n",
        "    },\n",
        "    {\n",
        "        \"nombre\": \"Pedro\",\n",
        "        \"edad\": 17\n",
        "    },\n",
        "    {\n",
        "        \"nombre\": \"Ana\",\n",
        "        \"edad\": 29\n",
        "    },\n",
        "    {\n",
        "        \"nombre\": \"Carla\",\n",
        "        \"edad\": 16\n",
        "    },\n",
        "]\n",
        "\n",
        "personas"
      ],
      "metadata": {
        "colab": {
          "base_uri": "https://localhost:8080/"
        },
        "id": "B_GFosKUuIwI",
        "outputId": "88fa1dc9-e5ce-424a-a944-c3633ab0c621"
      },
      "execution_count": null,
      "outputs": [
        {
          "output_type": "execute_result",
          "data": {
            "text/plain": [
              "[{'nombre': 'Paco', 'edad': 21},\n",
              " {'nombre': 'Pedro', 'edad': 17},\n",
              " {'nombre': 'Ana', 'edad': 29},\n",
              " {'nombre': 'Carla', 'edad': 16}]"
            ]
          },
          "metadata": {},
          "execution_count": 124
        }
      ]
    },
    {
      "cell_type": "code",
      "source": [
        "[ persona[\"edad\"] for persona in personas ]"
      ],
      "metadata": {
        "colab": {
          "base_uri": "https://localhost:8080/"
        },
        "id": "1b2RoCb8uZnT",
        "outputId": "73820738-d166-48e5-d5c8-f192941ea9a4"
      },
      "execution_count": null,
      "outputs": [
        {
          "output_type": "execute_result",
          "data": {
            "text/plain": [
              "[21, 17, 29, 16]"
            ]
          },
          "metadata": {},
          "execution_count": 125
        }
      ]
    },
    {
      "cell_type": "code",
      "source": [
        "[ persona[\"nombre\"] for persona in personas ]"
      ],
      "metadata": {
        "colab": {
          "base_uri": "https://localhost:8080/"
        },
        "id": "gjwbPvNEuoLE",
        "outputId": "c4c8ed4d-8cc1-4664-cd43-204ec774d95a"
      },
      "execution_count": null,
      "outputs": [
        {
          "output_type": "execute_result",
          "data": {
            "text/plain": [
              "['Paco', 'Pedro', 'Ana', 'Carla']"
            ]
          },
          "metadata": {},
          "execution_count": 128
        }
      ]
    },
    {
      "cell_type": "code",
      "source": [
        "punto = {\n",
        "    \"x\": 12,\n",
        "    \"y\": 15\n",
        "}\n",
        "\n",
        "punto"
      ],
      "metadata": {
        "colab": {
          "base_uri": "https://localhost:8080/"
        },
        "id": "fEWIJ4R-uvMz",
        "outputId": "dca3be4c-0cee-4a25-f07c-4901bd679661"
      },
      "execution_count": null,
      "outputs": [
        {
          "output_type": "execute_result",
          "data": {
            "text/plain": [
              "{'x': 12, 'y': 15}"
            ]
          },
          "metadata": {},
          "execution_count": 131
        }
      ]
    },
    {
      "cell_type": "code",
      "source": [
        "p1 = dict(x=12, y=15)\n",
        "\n",
        "p1"
      ],
      "metadata": {
        "colab": {
          "base_uri": "https://localhost:8080/"
        },
        "id": "2n-eiO4xvCFm",
        "outputId": "21be3ff1-1d6b-4715-9046-b56516f87eb8"
      },
      "execution_count": null,
      "outputs": [
        {
          "output_type": "execute_result",
          "data": {
            "text/plain": [
              "{'x': 12, 'y': 15}"
            ]
          },
          "metadata": {},
          "execution_count": 132
        }
      ]
    },
    {
      "cell_type": "code",
      "source": [
        "puntos = [\n",
        "    dict(x=4, y=5),\n",
        "    dict(x=12, y=4),\n",
        "    dict(x=6, y=-3),\n",
        "    dict(x=7, y=-1),\n",
        "    dict(x=9, y=12),\n",
        "]\n",
        "\n",
        "puntos"
      ],
      "metadata": {
        "colab": {
          "base_uri": "https://localhost:8080/"
        },
        "id": "79rxaQ2LvTl_",
        "outputId": "59837d72-4387-4106-f1ae-c5b1a33e30ae"
      },
      "execution_count": null,
      "outputs": [
        {
          "output_type": "execute_result",
          "data": {
            "text/plain": [
              "[{'x': 4, 'y': 5},\n",
              " {'x': 12, 'y': 4},\n",
              " {'x': 6, 'y': -3},\n",
              " {'x': 7, 'y': -1},\n",
              " {'x': 9, 'y': 12}]"
            ]
          },
          "metadata": {},
          "execution_count": 133
        }
      ]
    },
    {
      "cell_type": "code",
      "source": [
        "[ punto[\"y\"] for punto in puntos]"
      ],
      "metadata": {
        "colab": {
          "base_uri": "https://localhost:8080/"
        },
        "id": "fXStsErIvezI",
        "outputId": "2f5d83cf-87f7-4e88-aabb-43fb0bbc3e76"
      },
      "execution_count": null,
      "outputs": [
        {
          "output_type": "execute_result",
          "data": {
            "text/plain": [
              "[5, 4, -3, -1, 12]"
            ]
          },
          "metadata": {},
          "execution_count": 136
        }
      ]
    }
  ]
}