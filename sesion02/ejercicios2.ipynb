{
  "nbformat": 4,
  "nbformat_minor": 0,
  "metadata": {
    "colab": {
      "provenance": []
    },
    "kernelspec": {
      "name": "python3",
      "display_name": "Python 3"
    },
    "language_info": {
      "name": "python"
    }
  },
  "cells": [
    {
      "cell_type": "markdown",
      "source": [
        "# Python Intermedio - Ejercicios 2\n",
        "\n",
        "![logo](https://www.belatrix.com/wp-content/uploads/2023/08/belatrix-logosweb-1.png)"
      ],
      "metadata": {
        "id": "bBljOeJuTjIj"
      }
    },
    {
      "cell_type": "markdown",
      "source": [
        "> Diseña una variable de cada tipo de dato básico (`int`, `float`, `str` y `bool`)\n",
        "\n",
        "Combina las variables en un reporte simple usando `print(•)`"
      ],
      "metadata": {
        "id": "BSDMaOFhTZGS"
      }
    },
    {
      "cell_type": "code",
      "execution_count": null,
      "metadata": {
        "id": "vdbD06A0TA1C"
      },
      "outputs": [],
      "source": [
        "# Tu código aquí"
      ]
    },
    {
      "cell_type": "markdown",
      "source": [
        "> Determina el porcentaje de inflación de un producto que costaba $129.5$ y ahora cuesta $192.5$"
      ],
      "metadata": {
        "id": "eUls3LFfUgOR"
      }
    },
    {
      "cell_type": "code",
      "source": [
        "# Tu código aquí"
      ],
      "metadata": {
        "id": "cTaKQ4TPUhYS"
      },
      "execution_count": null,
      "outputs": []
    },
    {
      "cell_type": "markdown",
      "source": [
        "> Genera una gráfica con los siguientes puntos\n",
        "\n",
        "x | y\n",
        "--- | ---\n",
        "1 | 3\n",
        "2 | 4\n",
        "3 | 0.5\n",
        "6 | 2\n",
        "7 | -1\n",
        "10 | 2.5\n",
        "12 | -0.5"
      ],
      "metadata": {
        "id": "5L-zLHTbUyY-"
      }
    },
    {
      "cell_type": "code",
      "source": [
        "# Tu código aquí"
      ],
      "metadata": {
        "id": "380IqKIvUuah"
      },
      "execution_count": null,
      "outputs": []
    }
  ]
}