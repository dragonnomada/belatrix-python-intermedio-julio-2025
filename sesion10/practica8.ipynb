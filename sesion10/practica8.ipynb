{
 "cells": [
  {
   "cell_type": "markdown",
   "id": "915d5f62",
   "metadata": {},
   "source": [
    "# Python Intermedio - Práctica 8\n",
    "\n",
    "![logo](https://www.belatrix.com/wp-content/uploads/2023/08/belatrix-logosweb-1.png)"
   ]
  },
  {
   "cell_type": "markdown",
   "id": "b6e77580",
   "metadata": {},
   "source": [
    "## Montar un Servidor para subir y descargar archivos"
   ]
  },
  {
   "cell_type": "code",
   "execution_count": null,
   "id": "6888b018",
   "metadata": {},
   "outputs": [],
   "source": [
    "from flask import Flask, request, send_from_directory, render_template, redirect, url_for\n",
    "import os\n",
    "\n",
    "app = Flask(__name__)\n",
    "\n",
    "UPLOAD_FOLDER = \"uploads\"\n",
    "os.makedirs(UPLOAD_FOLDER, exist_ok=True)\n",
    "\n",
    "app.config[\"UPLOAD_FOLDER\"] = UPLOAD_FOLDER\n",
    "\n",
    "# Página principal con formulario\n",
    "@app.route(\"/\")\n",
    "def index():\n",
    "    archivos = os.listdir(app.config[\"UPLOAD_FOLDER\"])\n",
    "    return render_template(\"index.html\", archivos=archivos)\n",
    "\n",
    "# Ruta para subir archivos\n",
    "@app.route(\"/upload\", methods=[\"POST\"])\n",
    "def upload_file():\n",
    "    if \"archivo\" not in request.files:\n",
    "        return \"No se envió ningún archivo\"\n",
    "    archivo = request.files[\"archivo\"]\n",
    "    if archivo.filename == \"\":\n",
    "        return \"Nombre de archivo vacío\"\n",
    "    archivo.save(os.path.join(app.config[\"UPLOAD_FOLDER\"], archivo.filename))\n",
    "    return redirect(url_for(\"index\"))\n",
    "\n",
    "# Ruta para descargar archivos\n",
    "@app.route(\"/download/<nombre>\")\n",
    "def download_file(nombre):\n",
    "    return send_from_directory(app.config[\"UPLOAD_FOLDER\"], nombre, as_attachment=True)\n",
    "\n",
    "app.run(debug=True)"
   ]
  }
 ],
 "metadata": {
  "kernelspec": {
   "display_name": "Python 3",
   "language": "python",
   "name": "python3"
  },
  "language_info": {
   "name": "python",
   "version": "3.12.4"
  }
 },
 "nbformat": 4,
 "nbformat_minor": 5
}
