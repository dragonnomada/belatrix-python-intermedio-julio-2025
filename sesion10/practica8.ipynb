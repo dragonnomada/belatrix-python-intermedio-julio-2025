{
 "cells": [
  {
   "cell_type": "markdown",
   "id": "915d5f62",
   "metadata": {},
   "source": [
    "# Python Intermedio - Práctica 8\n",
    "\n",
    "![logo](https://www.belatrix.com/wp-content/uploads/2023/08/belatrix-logosweb-1.png)"
   ]
  },
  {
   "cell_type": "markdown",
   "id": "b6e77580",
   "metadata": {},
   "source": [
    "## Montar un Servidor para subir y descargar archivos"
   ]
  }
 ],
 "metadata": {
  "language_info": {
   "name": "python"
  }
 },
 "nbformat": 4,
 "nbformat_minor": 5
}
