{
 "cells": [
  {
   "cell_type": "markdown",
   "id": "915d5f62",
   "metadata": {},
   "source": [
    "# Python Intermedio - Práctica 6\n",
    "\n",
    "![logo](https://www.belatrix.com/wp-content/uploads/2023/08/belatrix-logosweb-1.png)"
   ]
  },
  {
   "cell_type": "markdown",
   "id": "b6e77580",
   "metadata": {},
   "source": [
    "## Montar un Servidor para consultar datos JSON y CSV"
   ]
  }
 ],
 "metadata": {
  "language_info": {
   "name": "python"
  }
 },
 "nbformat": 4,
 "nbformat_minor": 5
}
