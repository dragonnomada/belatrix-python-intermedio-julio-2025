{
 "cells": [
  {
   "cell_type": "markdown",
   "id": "915d5f62",
   "metadata": {},
   "source": [
    "# Python Intermedio - Práctica 6\n",
    "\n",
    "![logo](https://www.belatrix.com/wp-content/uploads/2023/08/belatrix-logosweb-1.png)"
   ]
  },
  {
   "cell_type": "markdown",
   "id": "b6e77580",
   "metadata": {},
   "source": [
    "## Montar un Servidor para consultar datos JSON y CSV"
   ]
  },
  {
   "cell_type": "markdown",
   "id": "0a3c4467",
   "metadata": {},
   "source": [
    "### Configurar un servidor de Flask"
   ]
  },
  {
   "cell_type": "code",
   "execution_count": 2,
   "id": "67c8690d",
   "metadata": {},
   "outputs": [],
   "source": [
    "# ! pip install flask\n",
    "from flask import Flask"
   ]
  },
  {
   "cell_type": "markdown",
   "id": "2fe67634",
   "metadata": {},
   "source": [
    "Iniciar el servidor"
   ]
  },
  {
   "cell_type": "code",
   "execution_count": 5,
   "id": "f80b435e",
   "metadata": {},
   "outputs": [
    {
     "name": "stdout",
     "output_type": "stream",
     "text": [
      " * Serving Flask app '__main__'\n",
      " * Debug mode: off\n"
     ]
    },
    {
     "name": "stderr",
     "output_type": "stream",
     "text": [
      "\u001b[31m\u001b[1mWARNING: This is a development server. Do not use it in a production deployment. Use a production WSGI server instead.\u001b[0m\n",
      " * Running on http://127.0.0.1:5000\n",
      "\u001b[33mPress CTRL+C to quit\u001b[0m\n"
     ]
    }
   ],
   "source": [
    "app = Flask(__name__)\n",
    "\n",
    "app.run()"
   ]
  },
  {
   "cell_type": "markdown",
   "id": "d19bcc92",
   "metadata": {},
   "source": [
    "### Controlar una ruta"
   ]
  },
  {
   "cell_type": "code",
   "execution_count": 12,
   "id": "7bdbb48f",
   "metadata": {},
   "outputs": [
    {
     "name": "stdout",
     "output_type": "stream",
     "text": [
      " * Serving Flask app '__main__'\n",
      " * Debug mode: off\n"
     ]
    },
    {
     "name": "stderr",
     "output_type": "stream",
     "text": [
      "\u001b[31m\u001b[1mWARNING: This is a development server. Do not use it in a production deployment. Use a production WSGI server instead.\u001b[0m\n",
      " * Running on all addresses (0.0.0.0)\n",
      " * Running on http://127.0.0.1:4000\n",
      " * Running on http://10.5.78.88:4000\n",
      "\u001b[33mPress CTRL+C to quit\u001b[0m\n",
      "127.0.0.1 - - [25/Jul/2025 12:25:41] \"GET / HTTP/1.1\" 200 -\n"
     ]
    }
   ],
   "source": [
    "app = Flask(__name__)\n",
    "\n",
    "@app.route(\"/\")\n",
    "def ruta_inicio():\n",
    "    return \"Hola mundo 🌎\"\n",
    "\n",
    "app.run(host=\"0.0.0.0\", port=4000)"
   ]
  },
  {
   "cell_type": "markdown",
   "id": "145f184c",
   "metadata": {},
   "source": [
    "### Configurar una ruta con datos JSON"
   ]
  },
  {
   "cell_type": "code",
   "execution_count": 13,
   "id": "be1e20f9",
   "metadata": {},
   "outputs": [
    {
     "name": "stdout",
     "output_type": "stream",
     "text": [
      " * Serving Flask app '__main__'\n",
      " * Debug mode: off\n"
     ]
    },
    {
     "name": "stderr",
     "output_type": "stream",
     "text": [
      "\u001b[31m\u001b[1mWARNING: This is a development server. Do not use it in a production deployment. Use a production WSGI server instead.\u001b[0m\n",
      " * Running on all addresses (0.0.0.0)\n",
      " * Running on http://127.0.0.1:4000\n",
      " * Running on http://10.5.78.88:4000\n",
      "\u001b[33mPress CTRL+C to quit\u001b[0m\n",
      "127.0.0.1 - - [25/Jul/2025 12:27:36] \"GET / HTTP/1.1\" 200 -\n",
      "127.0.0.1 - - [25/Jul/2025 12:27:41] \"GET /json HTTP/1.1\" 200 -\n"
     ]
    }
   ],
   "source": [
    "app = Flask(__name__)\n",
    "\n",
    "@app.route(\"/\")\n",
    "def ruta_inicio():\n",
    "    return \"Visita /json\"\n",
    "\n",
    "@app.route(\"/json\")\n",
    "def ruta_json():\n",
    "    return {\n",
    "        \"nombre\": \"Coca Cola\",\n",
    "        \"precio\": 23.5,\n",
    "        \"alimento\": False,\n",
    "        \"bebida\": True,\n",
    "        \"basico\": False\n",
    "    }\n",
    "\n",
    "app.run(host=\"0.0.0.0\", port=4000)"
   ]
  },
  {
   "cell_type": "markdown",
   "id": "f1668b88",
   "metadata": {},
   "source": [
    "### Devolver una interfaz HTML"
   ]
  },
  {
   "cell_type": "code",
   "execution_count": 19,
   "id": "12397ec6",
   "metadata": {},
   "outputs": [
    {
     "name": "stdout",
     "output_type": "stream",
     "text": [
      " * Serving Flask app '__main__'\n",
      " * Debug mode: off\n"
     ]
    },
    {
     "name": "stderr",
     "output_type": "stream",
     "text": [
      "\u001b[31m\u001b[1mWARNING: This is a development server. Do not use it in a production deployment. Use a production WSGI server instead.\u001b[0m\n",
      " * Running on all addresses (0.0.0.0)\n",
      " * Running on http://127.0.0.1:4000\n",
      " * Running on http://10.5.78.88:4000\n",
      "\u001b[33mPress CTRL+C to quit\u001b[0m\n",
      "127.0.0.1 - - [25/Jul/2025 12:32:43] \"GET / HTTP/1.1\" 200 -\n",
      "127.0.0.1 - - [25/Jul/2025 12:32:51] \"GET /json HTTP/1.1\" 200 -\n"
     ]
    }
   ],
   "source": [
    "app = Flask(__name__)\n",
    "\n",
    "@app.route(\"/\")\n",
    "def ruta_inicio():\n",
    "    return \"\"\"\n",
    "        <h1>Bienvenido</h1>\n",
    "        <p>\n",
    "            Por favor visita <a href=\"json\">esta página</a>,\n",
    "            para consultar los datos del producto\n",
    "        </p>\n",
    "        <!-- <img src=\"https://placehold.co/300\"> -->\n",
    "        <img \n",
    "            src=\"https://www.cityclub.com.mx/on/demandware.static/-/Sites-soriana-grocery-master-catalog/default/dw2a7fcb9e/images/product/7501055300075_A.jpg\"\n",
    "            width=\"300\"\n",
    "            height=\"300\"    \n",
    "        >\n",
    "    \"\"\"\n",
    "\n",
    "@app.route(\"/json\")\n",
    "def ruta_json():\n",
    "    return {\n",
    "        \"nombre\": \"Coca Cola\",\n",
    "        \"precio\": 23.5,\n",
    "        \"alimento\": False,\n",
    "        \"bebida\": True,\n",
    "        \"basico\": False\n",
    "    }\n",
    "\n",
    "app.run(host=\"0.0.0.0\", port=4000)"
   ]
  },
  {
   "cell_type": "markdown",
   "id": "ff8245f8",
   "metadata": {},
   "source": [
    "### Obtener datos CSV"
   ]
  },
  {
   "cell_type": "code",
   "execution_count": null,
   "id": "a80479b9",
   "metadata": {},
   "outputs": [
    {
     "name": "stdout",
     "output_type": "stream",
     "text": [
      " * Serving Flask app '__main__'\n",
      " * Debug mode: off\n"
     ]
    },
    {
     "name": "stderr",
     "output_type": "stream",
     "text": [
      "\u001b[31m\u001b[1mWARNING: This is a development server. Do not use it in a production deployment. Use a production WSGI server instead.\u001b[0m\n",
      " * Running on all addresses (0.0.0.0)\n",
      " * Running on http://127.0.0.1:4000\n",
      " * Running on http://10.5.78.88:4000\n",
      "\u001b[33mPress CTRL+C to quit\u001b[0m\n",
      "127.0.0.1 - - [25/Jul/2025 12:42:03] \"GET / HTTP/1.1\" 200 -\n",
      "127.0.0.1 - - [25/Jul/2025 12:42:04] \"GET /personas/csv HTTP/1.1\" 200 -\n",
      "127.0.0.1 - - [25/Jul/2025 12:42:09] \"GET /personas/html HTTP/1.1\" 200 -\n",
      "127.0.0.1 - - [25/Jul/2025 12:42:12] \"GET /personas/csv HTTP/1.1\" 200 -\n"
     ]
    }
   ],
   "source": [
    "import pandas\n",
    "\n",
    "app = Flask(__name__)\n",
    "\n",
    "@app.route(\"/\")\n",
    "def ruta_inicio():\n",
    "    return \"\"\"\n",
    "        <h1>Bienvenido</h1>\n",
    "        <p>\n",
    "            Ver los datos de las personas:\n",
    "            <a href=\"/personas/csv\" target=\"_blank\">Consultar CSV</a>\n",
    "        </p>\n",
    "        <p>\n",
    "            Ver los datos de las personas:\n",
    "            <a href=\"/personas/html\" target=\"_blank\">Consultar Tabla</a>\n",
    "        </p>\n",
    "        <p>\n",
    "            Descargar los datos de las personas:\n",
    "            <a href=\"/personas/csv\" target=\"_blank\" download=\"personas.csv\">Descargar</a>\n",
    "        </p>\n",
    "    \"\"\"\n",
    "\n",
    "@app.route(\"/personas/csv\")\n",
    "def ruta_personas_csv():\n",
    "    personas = pandas.read_excel(\"Personas.xlsx\")\n",
    "\n",
    "    return personas.to_csv()\n",
    "\n",
    "@app.route(\"/personas/html\")\n",
    "def ruta_personas_html():\n",
    "    personas = pandas.read_excel(\"Personas.xlsx\")\n",
    "    \n",
    "    return personas.to_html()\n",
    "\n",
    "app.run(host=\"0.0.0.0\", port=4000)"
   ]
  }
 ],
 "metadata": {
  "kernelspec": {
   "display_name": "Python 3",
   "language": "python",
   "name": "python3"
  },
  "language_info": {
   "codemirror_mode": {
    "name": "ipython",
    "version": 3
   },
   "file_extension": ".py",
   "mimetype": "text/x-python",
   "name": "python",
   "nbconvert_exporter": "python",
   "pygments_lexer": "ipython3",
   "version": "3.12.4"
  }
 },
 "nbformat": 4,
 "nbformat_minor": 5
}
