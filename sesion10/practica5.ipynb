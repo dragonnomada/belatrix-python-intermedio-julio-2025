{
 "cells": [
  {
   "cell_type": "markdown",
   "id": "915d5f62",
   "metadata": {},
   "source": [
    "# Python Intermedio - Práctica 5\n",
    "\n",
    "![logo](https://www.belatrix.com/wp-content/uploads/2023/08/belatrix-logosweb-1.png)"
   ]
  },
  {
   "cell_type": "markdown",
   "id": "b6e77580",
   "metadata": {},
   "source": [
    "## Encriptación y desencriptación de archivos y carpetas"
   ]
  },
  {
   "cell_type": "code",
   "execution_count": 2,
   "id": "e436793e",
   "metadata": {},
   "outputs": [],
   "source": [
    "# pip install cryptography\n",
    "from cryptography.fernet import Fernet"
   ]
  },
  {
   "cell_type": "markdown",
   "id": "15ae2d29",
   "metadata": {},
   "source": [
    "### Generar una llave de cifrado y guardarla"
   ]
  },
  {
   "cell_type": "code",
   "execution_count": 3,
   "id": "c7ddc1d3",
   "metadata": {},
   "outputs": [
    {
     "data": {
      "text/plain": [
       "b'HqPXc6qiN2ItlTyfjVSY3QIgs0SQOYWfe9Ep7JqlEHI='"
      ]
     },
     "execution_count": 3,
     "metadata": {},
     "output_type": "execute_result"
    }
   ],
   "source": [
    "llave = Fernet.generate_key()\n",
    "\n",
    "llave"
   ]
  },
  {
   "cell_type": "code",
   "execution_count": 4,
   "id": "364ab13d",
   "metadata": {},
   "outputs": [],
   "source": [
    "with open(\"llave.key\", \"wb\") as file:\n",
    "    file.write(llave)"
   ]
  },
  {
   "cell_type": "markdown",
   "id": "111e734d",
   "metadata": {},
   "source": [
    "### Recuperar la llave de cifrado"
   ]
  },
  {
   "cell_type": "code",
   "execution_count": 5,
   "id": "7beeb4c3",
   "metadata": {},
   "outputs": [
    {
     "data": {
      "text/plain": [
       "b'HqPXc6qiN2ItlTyfjVSY3QIgs0SQOYWfe9Ep7JqlEHI='"
      ]
     },
     "execution_count": 5,
     "metadata": {},
     "output_type": "execute_result"
    }
   ],
   "source": [
    "with open(\"llave.key\", \"rb\") as file:\n",
    "    llave = file.read()\n",
    "\n",
    "llave"
   ]
  },
  {
   "cell_type": "markdown",
   "id": "af806309",
   "metadata": {},
   "source": [
    "### Crear un cifrador que utilice la llave"
   ]
  },
  {
   "cell_type": "code",
   "execution_count": 6,
   "id": "6090de0b",
   "metadata": {},
   "outputs": [
    {
     "data": {
      "text/plain": [
       "<cryptography.fernet.Fernet at 0x107886f00>"
      ]
     },
     "execution_count": 6,
     "metadata": {},
     "output_type": "execute_result"
    }
   ],
   "source": [
    "cifrador = Fernet(llave)\n",
    "cifrador"
   ]
  },
  {
   "cell_type": "markdown",
   "id": "33f5a3d5",
   "metadata": {},
   "source": [
    "### Cifrar un texto"
   ]
  },
  {
   "cell_type": "code",
   "execution_count": 7,
   "id": "d22c7120",
   "metadata": {},
   "outputs": [],
   "source": [
    "texto = \"\"\"\n",
    "Hola, este es un mensaje importante y secreto,\n",
    "debe ser transmitido con cifrado por correo tradicional.\n",
    "\n",
    "La llave le será entregada personalmente al jefe de departamento\n",
    "mediante una USB, para que pueda decifrar este mensaje:\n",
    "\n",
    "Hola jefe,\n",
    "\n",
    "Vamos por unos drinks?\n",
    "\n",
    "Saludos cordiales.\n",
    "\"\"\""
   ]
  },
  {
   "cell_type": "markdown",
   "id": "71bf8b74",
   "metadata": {},
   "source": [
    "Texto codificado en bytes:"
   ]
  },
  {
   "cell_type": "code",
   "execution_count": 8,
   "id": "e55d2369",
   "metadata": {},
   "outputs": [
    {
     "data": {
      "text/plain": [
       "b'\\nHola, este es un mensaje importante y secreto,\\ndebe ser transmitido con cifrado por correo tradicional.\\n\\nLa llave le ser\\xc3\\xa1 entregada personalmente al jefe de departamento\\nmediante una USB, para que pueda decifrar este mensaje:\\n\\nHola jefe,\\n\\nVamos por unos drinks?\\n\\nSaludos cordiales.\\n'"
      ]
     },
     "execution_count": 8,
     "metadata": {},
     "output_type": "execute_result"
    }
   ],
   "source": [
    "texto.encode()"
   ]
  },
  {
   "cell_type": "markdown",
   "id": "b36bfd99",
   "metadata": {},
   "source": [
    "Texto cifrado:"
   ]
  },
  {
   "cell_type": "code",
   "execution_count": 9,
   "id": "cbd01d98",
   "metadata": {},
   "outputs": [
    {
     "data": {
      "text/plain": [
       "b'gAAAAABog6SJtf7FDpuybwYWMjhDgO3jXwJWNuz9G8eYKhd-3L9RSD_LjI2RGXlwjvFI-ZyDuzIgazIMIo53kY1ftSagVbzJpj7ggG65xaEVcZA-rnqMfwll17P_91fBEAbN2Hrbg4XD1ApZ6E2yml7_9YIJKbC4anVTg8QhLzlozyO_HL1cruYzcFTp-n214urO508CBrV7m63rUKqF-DW_s2nNYq4k6mDVxgCPVbLsVMukllCWFaUT3bGB-6UyoIXhvSjeCR_FUAo4U5aO7Oe1T1kFl-5EoqKJKaTIywk292lClsGksM6rz63gynsURBBU5r6SxtLhTsMl0m15N5CHf7k5rUMDww1FYSYxdxN9osbGORhnkII9xb7wPDXhZHooLMs1-qO43H-3lLPU9ppqBTr4dXITk0ZfR7V17mXxMP_fSUldtpKMUiSTCzGNC7FxZRagkquv'"
      ]
     },
     "execution_count": 9,
     "metadata": {},
     "output_type": "execute_result"
    }
   ],
   "source": [
    "texto_cifrado = cifrador.encrypt(texto.encode())\n",
    "texto_cifrado"
   ]
  },
  {
   "cell_type": "markdown",
   "id": "663463fb",
   "metadata": {},
   "source": [
    "Ahora podemos guardar el texto cifrado o mandarlo por internet"
   ]
  },
  {
   "cell_type": "code",
   "execution_count": null,
   "id": "8f0316b2",
   "metadata": {},
   "outputs": [],
   "source": [
    "with open(\"texto_cifrado.bin\", \"wb\") as file:\n",
    "    file.write(texto_cifrado)"
   ]
  },
  {
   "cell_type": "markdown",
   "id": "ed304e33",
   "metadata": {},
   "source": [
    "### Descifrar un texto"
   ]
  },
  {
   "cell_type": "code",
   "execution_count": 13,
   "id": "99e0c7d9",
   "metadata": {},
   "outputs": [
    {
     "name": "stdout",
     "output_type": "stream",
     "text": [
      "\n",
      "Hola, este es un mensaje importante y secreto,\n",
      "debe ser transmitido con cifrado por correo tradicional.\n",
      "\n",
      "La llave le será entregada personalmente al jefe de departamento\n",
      "mediante una USB, para que pueda decifrar este mensaje:\n",
      "\n",
      "Hola jefe,\n",
      "\n",
      "Vamos por unos drinks?\n",
      "\n",
      "Saludos cordiales.\n",
      "\n"
     ]
    }
   ],
   "source": [
    "with open(\"llave.key\", \"rb\") as file:\n",
    "    llave = file.read()\n",
    "\n",
    "cifrador = Fernet(llave)\n",
    "\n",
    "with open(\"texto_cifrado.bin\", \"rb\") as file:\n",
    "    texto_cifrado = file.read()\n",
    "    texto_descifrado = cifrador.decrypt(texto_cifrado)\n",
    "\n",
    "print(texto_descifrado.decode())"
   ]
  },
  {
   "cell_type": "markdown",
   "id": "bcb2bb39",
   "metadata": {},
   "source": [
    "### Cifrar un archivo"
   ]
  },
  {
   "cell_type": "markdown",
   "id": "3122717d",
   "metadata": {},
   "source": [
    "Cargar la llave y crear un cifrador con esa llave"
   ]
  },
  {
   "cell_type": "code",
   "execution_count": null,
   "id": "07a4180b",
   "metadata": {},
   "outputs": [],
   "source": [
    "with open(\"llave.key\", \"rb\") as file:\n",
    "    llave = file.read()\n",
    "\n",
    "cifrador = Fernet(llave)"
   ]
  },
  {
   "cell_type": "markdown",
   "id": "21750ca1",
   "metadata": {},
   "source": [
    "Extraer el contenido de un archivo, cifrarlo y guardarlo en otro archivo"
   ]
  },
  {
   "cell_type": "code",
   "execution_count": 21,
   "id": "9b778014",
   "metadata": {},
   "outputs": [],
   "source": [
    "archivo = \"Reporte.pdf\"\n",
    "\n",
    "with open(archivo, \"rb\") as file:\n",
    "    contenido = file.read()\n",
    "\n",
    "contenido_cifrado = cifrador.encrypt(contenido)\n",
    "\n",
    "with open(f\"{archivo}.enc\", \"wb\") as file:\n",
    "    file.write(contenido_cifrado)"
   ]
  },
  {
   "cell_type": "markdown",
   "id": "0dd3adc8",
   "metadata": {},
   "source": [
    "### Descifrar un archivo"
   ]
  },
  {
   "cell_type": "markdown",
   "id": "23bab801",
   "metadata": {},
   "source": [
    "Cargar la llave y crear un cifrador con esa llave"
   ]
  },
  {
   "cell_type": "code",
   "execution_count": null,
   "id": "b02fac1a",
   "metadata": {},
   "outputs": [],
   "source": [
    "with open(\"llave.key\", \"rb\") as file:\n",
    "    llave = file.read()\n",
    "\n",
    "cifrador = Fernet(llave)"
   ]
  },
  {
   "cell_type": "markdown",
   "id": "ec07b718",
   "metadata": {},
   "source": [
    "Extraer el contenido del archivo cifrado, descifrarlo y guardarlo en otro archivo"
   ]
  },
  {
   "cell_type": "code",
   "execution_count": 22,
   "id": "0263b3d4",
   "metadata": {},
   "outputs": [],
   "source": [
    "archivo_encriptado = \"Reporte.pdf.enc\"\n",
    "archivo_restaturado = \"Reporte_restaurado.pdf\"\n",
    "\n",
    "with open(archivo_encriptado, \"rb\") as file:\n",
    "    contenido_cifrado = file.read()\n",
    "\n",
    "contenido_descifrado = cifrador.decrypt(contenido_cifrado)\n",
    "\n",
    "with open(f\"{archivo_restaturado}\", \"wb\") as file:\n",
    "    file.write(contenido_descifrado)"
   ]
  },
  {
   "cell_type": "markdown",
   "id": "f18baf55",
   "metadata": {},
   "source": [
    "### Cifrar y descifrar carpetas"
   ]
  },
  {
   "cell_type": "markdown",
   "id": "8493adc3",
   "metadata": {},
   "source": [
    "Para cifrar y descifrar una carpeta crearemos un archivo `.zip` temporal que contenga todos los archivos y subcarpetas.\n",
    "\n",
    "Luego cifraremos el archivo `.zip` como otro archivo con el mismo nombre de la carpeta, pero alguna extensión para diferenciarlo (la extensión no importa mucho, solo que no sea común para no confundirse con otro tipo de archivo).\n",
    "\n",
    "El archivo cifrado se puede ahora enviar de forma segura, y se recomienda mandar la llave por un medio seguro.\n",
    "\n",
    "Al final, para descifrar la carpeta se aplicará el proceso inverso de descifrar el archivo comprimido y descomprimir la carpeta en algún lado.\n",
    "\n",
    "Borraremos los archivos temporales para que el proceso sea transparente."
   ]
  },
  {
   "cell_type": "markdown",
   "id": "e69190d2",
   "metadata": {},
   "source": [
    "Pasos para cifrar una carpeta: \n",
    "\n",
    "1. Generar y guardar una llave de encriptado\n",
    "2. Comprimir la carpeta\n",
    "3. Extraer el contenido (bytes) de la carpeta comprimida\n",
    "4. Encriptar el contenido (bytes) de la carpeta comprimida\n",
    "5. Guardar el archivo como `<carpeta>.zip.enc` o `<carpeta>.sec`\n",
    "6. Borrar el archivo comprimido"
   ]
  },
  {
   "cell_type": "markdown",
   "id": "09d1c69e",
   "metadata": {},
   "source": [
    "Pasos para descifrar una carpeta: \n",
    "\n",
    "1. Recuperar la misma llave de encriptado\n",
    "2. Extraer el contenido (bytes) del archivo encriptado\n",
    "3. Desencriptar el contenido (bytes) de la carpeta comprimida\n",
    "4. Guardar el archivo como comprimido `.zip`\n",
    "5. Descomprimir el archivo comprimido\n",
    "6. Borrar el archivo comprimido"
   ]
  },
  {
   "cell_type": "markdown",
   "id": "878e44c4",
   "metadata": {},
   "source": [
    "### Notas de seguridad"
   ]
  },
  {
   "cell_type": "markdown",
   "id": "6ec3bcf7",
   "metadata": {},
   "source": [
    "El método `Fernet` es moderno y seguro y tiene las siguientes ventajas:\n",
    "\n",
    "* Usa una llave no genérica que se puede compartir como un archivo físico o almacenar en una base de datos y consultar fácilmente sin romper la seguridad\n",
    "* Evita tener una clave pública y otra privada, haciendo que el usario pueda descifrar por sí mismo el archivo si posee la llave.\n",
    "* Es posible definir una llave de texto en lugar de crear una llave segura, pero esto hace menos seguro el proceso\n",
    "* Usa un codificado en `Base64`, por lo que podemos enviar los datos cifrados directamente por internet sin corromperlos, y descifrarlos directamente en la respuesta, sin tener que enviar archivos.\n",
    "\n",
    "Pero, también existen algunas desventajas que debemos considerar para procesos robustos:\n",
    "\n",
    "* Se usa el algoritmo **AES-128** que es menos seguro que el estándar **AES-256** para cifrado de una única llave\n",
    "* El servidor no puede borrar la llave si se requiere dejar sin cifrado al archivo, para esto se utilizan métodos RSA donde se requiere la clave privada que nunca se le entrega al usuario, por si hay que borrarla y bloquearle el acceso (cifrado asimétrico)"
   ]
  }
 ],
 "metadata": {
  "kernelspec": {
   "display_name": "Python 3",
   "language": "python",
   "name": "python3"
  },
  "language_info": {
   "codemirror_mode": {
    "name": "ipython",
    "version": 3
   },
   "file_extension": ".py",
   "mimetype": "text/x-python",
   "name": "python",
   "nbconvert_exporter": "python",
   "pygments_lexer": "ipython3",
   "version": "3.12.4"
  }
 },
 "nbformat": 4,
 "nbformat_minor": 5
}
