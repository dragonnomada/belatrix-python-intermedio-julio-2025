{
  "nbformat": 4,
  "nbformat_minor": 0,
  "metadata": {
    "colab": {
      "provenance": []
    },
    "kernelspec": {
      "name": "python3",
      "display_name": "Python 3"
    },
    "language_info": {
      "name": "python"
    }
  },
  "cells": [
    {
      "cell_type": "markdown",
      "source": [
        "# Python Intermedio - Sesión 8\n",
        "\n",
        "![logo](https://www.belatrix.com/wp-content/uploads/2023/08/belatrix-logosweb-1.png)"
      ],
      "metadata": {
        "id": "mLvLoNxvlYx2"
      }
    },
    {
      "cell_type": "markdown",
      "source": [
        "# Bases de Datos (SQLite 3)\n",
        "\n",
        "SQLite 3 es un tipo de base de datos SQL que se encuentra de forma nativa en Python (en las versiones más recientes). De tal modo que podemos hacer pruebas locales, antes de consumir un conector a bases de datos remotas, por ejemplo, Oracle SQL, SQLServer, MySQL o PostgreSQL."
      ],
      "metadata": {
        "id": "CxD4s3CHld3y"
      }
    },
    {
      "cell_type": "code",
      "execution_count": 43,
      "metadata": {
        "colab": {
          "base_uri": "https://localhost:8080/",
          "height": 36
        },
        "id": "DOEUtZ8xlMoq",
        "outputId": "9a2731d7-e938-465f-9515-e468fbc668b6"
      },
      "outputs": [
        {
          "output_type": "execute_result",
          "data": {
            "text/plain": [
              "'2.6.0'"
            ],
            "application/vnd.google.colaboratory.intrinsic+json": {
              "type": "string"
            }
          },
          "metadata": {},
          "execution_count": 43
        }
      ],
      "source": [
        "import sqlite3\n",
        "\n",
        "sqlite3.version"
      ]
    },
    {
      "cell_type": "markdown",
      "source": [
        "## Conector a la base datos\n",
        "\n",
        "El conector establece una conexión a la base de datos (en SQLite la conexión es local a un archivo y en otros motores, la conexión sería remota a un servidor o a un puerto de la computadora)."
      ],
      "metadata": {
        "id": "_51t2FBumNqJ"
      }
    },
    {
      "cell_type": "code",
      "source": [
        "conn = sqlite3.connect(\"prueba.db\")\n",
        "\n",
        "#conn.close()"
      ],
      "metadata": {
        "id": "NgtinaU9mNOq"
      },
      "execution_count": 44,
      "outputs": []
    },
    {
      "cell_type": "markdown",
      "source": [
        "## Cursor\n",
        "\n",
        "El cursor representa un objeto capaz de ejecutar sentencias (lanzar queries/consultas) y adquirir los resultados.\n",
        "\n",
        "Hay dos tipos de sentencias que podemos hacer:\n",
        "\n",
        "* `SELECT` - Se consideran de lectura, por lo que no necesitan avisarle a la conexión que hay cambios pendiente\n",
        "* `INSERT / UPDATE / DELETE / CREATE` - Se consideran de escritura (tienen un efecto en la base de datos), por que sí necistan avisarle a la conexión que hay pendientes y los procese (enviar a la base de datos)\n",
        "\n",
        "Al crear tablas y definir los campos de la tabla, podemos utilizar los siguientes tipos de datos para retener información:\n",
        "\n",
        "* `INTEGER` - Un número entero\n",
        "* `REAL` - Un número decimal\n",
        "* `TEXT` - Un texto\n",
        "* `BLOB` - Bytes o archivos binarios\n",
        "* `BOOLEAN` - Es un número entero (0 y 1)"
      ],
      "metadata": {
        "id": "FjQcJofIm10L"
      }
    },
    {
      "cell_type": "code",
      "source": [
        "cursor = conn.cursor()\n",
        "\n",
        "cursor.execute(\"\"\"\n",
        "\n",
        "CREATE TABLE IF NOT EXISTS pruebas (\n",
        "  id INTEGER PRIMARY KEY AUTOINCREMENT,\n",
        "  nombre TEXT NOT NULL,\n",
        "  mensaje TEXT DEFAULT 'Sin mensaje'\n",
        ")\n",
        "\n",
        "\"\"\")\n",
        "\n",
        "# IMPORTE: Como es una consulta de escritura (CREATE)\n",
        "# debemos notificar el envío a la base de datos: HACER COMMIT\n",
        "conn.commit()\n",
        "\n",
        "cursor.close()"
      ],
      "metadata": {
        "id": "0LFvlH1nmxAl"
      },
      "execution_count": 45,
      "outputs": []
    },
    {
      "cell_type": "markdown",
      "source": [
        "## Insertar nuevos valores\n",
        "\n",
        "Las bases de datos se orginazan en tablas y las tablas en registros, entonces, para insertar un registro haremos uso de `INSERT INTO` para insertar los valores obligatorios al menos y eso formará un nuevo registro con su identificador.\n",
        "\n",
        "```sql\n",
        "INSERT INTO <tabla> (<campos>) VALUES (<valores>)\n",
        "```"
      ],
      "metadata": {
        "id": "sWXKaUJrqIhU"
      }
    },
    {
      "cell_type": "code",
      "source": [
        "cursor = conn.cursor()\n",
        "\n",
        "cursor.execute(\"INSERT INTO pruebas (nombre, mensaje) VALUES (?, ?)\",\n",
        "  (\"Prueba 1\", \"Hola esta es la primera prueba\"))\n",
        "\n",
        "# IMPORTANTE: INSERT es una consulta de tipo escritura,\n",
        "# por lo que debemos HACER COMMIT\n",
        "conn.commit()\n",
        "\n",
        "cursor.close()"
      ],
      "metadata": {
        "id": "IO1S70aXqKvb"
      },
      "execution_count": 46,
      "outputs": []
    },
    {
      "cell_type": "markdown",
      "source": [
        "> Ejercicio: Hacer que el usuario ingrese los datos de la prueba"
      ],
      "metadata": {
        "id": "Z5ucHqMarSv7"
      }
    },
    {
      "cell_type": "code",
      "source": [
        "cursor = conn.cursor()\n",
        "\n",
        "nombre = input(\"Nombre: \")\n",
        "mensaje = input(\"Mensaje: \")\n",
        "\n",
        "cursor.execute(\"INSERT INTO pruebas (nombre, mensaje) VALUES (?, ?)\",\n",
        "  (nombre, mensaje))\n",
        "\n",
        "# IMPORTANTE: INSERT es una consulta de tipo escritura,\n",
        "# por lo que debemos HACER COMMIT\n",
        "conn.commit()\n",
        "\n",
        "cursor.close()"
      ],
      "metadata": {
        "colab": {
          "base_uri": "https://localhost:8080/"
        },
        "id": "Ht9Bf9xLrIRu",
        "outputId": "71ffd449-4d9b-42e5-b98b-d49c485c6069"
      },
      "execution_count": 47,
      "outputs": [
        {
          "name": "stdout",
          "output_type": "stream",
          "text": [
            "Nombre: Hola\n",
            "Mensaje: mundo\n"
          ]
        }
      ]
    },
    {
      "cell_type": "markdown",
      "source": [
        "## Consultar *todos* los valores\n",
        "\n",
        "Para recuperar los registros de una tabla usaremos `SELECT` y podrémos recuperar cada registro que equivale a una tupla de los campos seleccionados, por ejemplo, si se seleccionan 2 campos, podremos iterar una 2-tupla, y así sucesivamente.\n",
        "\n",
        "```sql\n",
        "SELECT <campos> FROM <tabla>\n",
        "```"
      ],
      "metadata": {
        "id": "E66FPCMArikf"
      }
    },
    {
      "cell_type": "code",
      "source": [
        "cursor = conn.cursor()\n",
        "\n",
        "cursor.execute(\"SELECT id, nombre, mensaje FROM pruebas\")\n",
        "\n",
        "# El cursor ejecuta la consulta,\n",
        "# pero ahora hay que recuperar los resultados\n",
        "# mediante alguna estrategia fetch*, por ejemplo, `fetchall`\n",
        "pruebas = cursor.fetchall()\n",
        "\n",
        "print(pruebas)\n",
        "\n",
        "cursor.close()"
      ],
      "metadata": {
        "colab": {
          "base_uri": "https://localhost:8080/"
        },
        "id": "zqL84MyCriIy",
        "outputId": "b1593d00-e8e4-4143-de3a-7f2f1385dc35"
      },
      "execution_count": 48,
      "outputs": [
        {
          "output_type": "stream",
          "name": "stdout",
          "text": [
            "[(1, 'Prueba 1', 'Hola esta es la primera prueba'), (2, 'Hola', 'mundo')]\n"
          ]
        }
      ]
    },
    {
      "cell_type": "markdown",
      "source": [
        "**Nota**: Los resultados de `fetchall()` es una lista de $k$-tuplas, para los $k$ campos consultados. Por ejemplo, si solicitamos 3 campos, tendremos una lista de 3-tuplas."
      ],
      "metadata": {
        "id": "yD6nb7krsf78"
      }
    },
    {
      "cell_type": "code",
      "source": [
        "for id, nombre, mensaje in pruebas:\n",
        "  print(f\"[{id:04d}] {nombre:20}\")\n",
        "  print(f\">>> {mensaje}\")\n",
        "  print()"
      ],
      "metadata": {
        "colab": {
          "base_uri": "https://localhost:8080/"
        },
        "id": "g62JEZXosuXV",
        "outputId": "e59ee14f-5a59-4121-a8e5-007ce6094be6"
      },
      "execution_count": 49,
      "outputs": [
        {
          "output_type": "stream",
          "name": "stdout",
          "text": [
            "[0001] Prueba 1            \n",
            ">>> Hola esta es la primera prueba\n",
            "\n",
            "[0002] Hola                \n",
            ">>> mundo\n",
            "\n"
          ]
        }
      ]
    },
    {
      "cell_type": "markdown",
      "source": [
        "> Ejercicio: Mostrar las pruebas con pandas"
      ],
      "metadata": {
        "id": "ATnCFPT7tCpy"
      }
    },
    {
      "cell_type": "code",
      "source": [
        "import pandas\n",
        "\n",
        "data = pandas.DataFrame(pruebas, columns=[\"ID\", \"Nombre\", \"Mensaje\"]).set_index(\"ID\")\n",
        "\n",
        "data.head()"
      ],
      "metadata": {
        "colab": {
          "base_uri": "https://localhost:8080/",
          "height": 142
        },
        "id": "i6d0eNCltCTt",
        "outputId": "0d13236d-5d58-4315-fcd0-6eb8234d2d97"
      },
      "execution_count": 50,
      "outputs": [
        {
          "output_type": "execute_result",
          "data": {
            "text/plain": [
              "      Nombre                         Mensaje\n",
              "ID                                          \n",
              "1   Prueba 1  Hola esta es la primera prueba\n",
              "2       Hola                           mundo"
            ],
            "text/html": [
              "\n",
              "  <div id=\"df-8e214ffa-5671-4eb6-a95e-42ccb8f55680\" class=\"colab-df-container\">\n",
              "    <div>\n",
              "<style scoped>\n",
              "    .dataframe tbody tr th:only-of-type {\n",
              "        vertical-align: middle;\n",
              "    }\n",
              "\n",
              "    .dataframe tbody tr th {\n",
              "        vertical-align: top;\n",
              "    }\n",
              "\n",
              "    .dataframe thead th {\n",
              "        text-align: right;\n",
              "    }\n",
              "</style>\n",
              "<table border=\"1\" class=\"dataframe\">\n",
              "  <thead>\n",
              "    <tr style=\"text-align: right;\">\n",
              "      <th></th>\n",
              "      <th>Nombre</th>\n",
              "      <th>Mensaje</th>\n",
              "    </tr>\n",
              "    <tr>\n",
              "      <th>ID</th>\n",
              "      <th></th>\n",
              "      <th></th>\n",
              "    </tr>\n",
              "  </thead>\n",
              "  <tbody>\n",
              "    <tr>\n",
              "      <th>1</th>\n",
              "      <td>Prueba 1</td>\n",
              "      <td>Hola esta es la primera prueba</td>\n",
              "    </tr>\n",
              "    <tr>\n",
              "      <th>2</th>\n",
              "      <td>Hola</td>\n",
              "      <td>mundo</td>\n",
              "    </tr>\n",
              "  </tbody>\n",
              "</table>\n",
              "</div>\n",
              "    <div class=\"colab-df-buttons\">\n",
              "\n",
              "  <div class=\"colab-df-container\">\n",
              "    <button class=\"colab-df-convert\" onclick=\"convertToInteractive('df-8e214ffa-5671-4eb6-a95e-42ccb8f55680')\"\n",
              "            title=\"Convert this dataframe to an interactive table.\"\n",
              "            style=\"display:none;\">\n",
              "\n",
              "  <svg xmlns=\"http://www.w3.org/2000/svg\" height=\"24px\" viewBox=\"0 -960 960 960\">\n",
              "    <path d=\"M120-120v-720h720v720H120Zm60-500h600v-160H180v160Zm220 220h160v-160H400v160Zm0 220h160v-160H400v160ZM180-400h160v-160H180v160Zm440 0h160v-160H620v160ZM180-180h160v-160H180v160Zm440 0h160v-160H620v160Z\"/>\n",
              "  </svg>\n",
              "    </button>\n",
              "\n",
              "  <style>\n",
              "    .colab-df-container {\n",
              "      display:flex;\n",
              "      gap: 12px;\n",
              "    }\n",
              "\n",
              "    .colab-df-convert {\n",
              "      background-color: #E8F0FE;\n",
              "      border: none;\n",
              "      border-radius: 50%;\n",
              "      cursor: pointer;\n",
              "      display: none;\n",
              "      fill: #1967D2;\n",
              "      height: 32px;\n",
              "      padding: 0 0 0 0;\n",
              "      width: 32px;\n",
              "    }\n",
              "\n",
              "    .colab-df-convert:hover {\n",
              "      background-color: #E2EBFA;\n",
              "      box-shadow: 0px 1px 2px rgba(60, 64, 67, 0.3), 0px 1px 3px 1px rgba(60, 64, 67, 0.15);\n",
              "      fill: #174EA6;\n",
              "    }\n",
              "\n",
              "    .colab-df-buttons div {\n",
              "      margin-bottom: 4px;\n",
              "    }\n",
              "\n",
              "    [theme=dark] .colab-df-convert {\n",
              "      background-color: #3B4455;\n",
              "      fill: #D2E3FC;\n",
              "    }\n",
              "\n",
              "    [theme=dark] .colab-df-convert:hover {\n",
              "      background-color: #434B5C;\n",
              "      box-shadow: 0px 1px 3px 1px rgba(0, 0, 0, 0.15);\n",
              "      filter: drop-shadow(0px 1px 2px rgba(0, 0, 0, 0.3));\n",
              "      fill: #FFFFFF;\n",
              "    }\n",
              "  </style>\n",
              "\n",
              "    <script>\n",
              "      const buttonEl =\n",
              "        document.querySelector('#df-8e214ffa-5671-4eb6-a95e-42ccb8f55680 button.colab-df-convert');\n",
              "      buttonEl.style.display =\n",
              "        google.colab.kernel.accessAllowed ? 'block' : 'none';\n",
              "\n",
              "      async function convertToInteractive(key) {\n",
              "        const element = document.querySelector('#df-8e214ffa-5671-4eb6-a95e-42ccb8f55680');\n",
              "        const dataTable =\n",
              "          await google.colab.kernel.invokeFunction('convertToInteractive',\n",
              "                                                    [key], {});\n",
              "        if (!dataTable) return;\n",
              "\n",
              "        const docLinkHtml = 'Like what you see? Visit the ' +\n",
              "          '<a target=\"_blank\" href=https://colab.research.google.com/notebooks/data_table.ipynb>data table notebook</a>'\n",
              "          + ' to learn more about interactive tables.';\n",
              "        element.innerHTML = '';\n",
              "        dataTable['output_type'] = 'display_data';\n",
              "        await google.colab.output.renderOutput(dataTable, element);\n",
              "        const docLink = document.createElement('div');\n",
              "        docLink.innerHTML = docLinkHtml;\n",
              "        element.appendChild(docLink);\n",
              "      }\n",
              "    </script>\n",
              "  </div>\n",
              "\n",
              "\n",
              "    <div id=\"df-2b3fda7e-24b2-48aa-9563-c5c53351f885\">\n",
              "      <button class=\"colab-df-quickchart\" onclick=\"quickchart('df-2b3fda7e-24b2-48aa-9563-c5c53351f885')\"\n",
              "                title=\"Suggest charts\"\n",
              "                style=\"display:none;\">\n",
              "\n",
              "<svg xmlns=\"http://www.w3.org/2000/svg\" height=\"24px\"viewBox=\"0 0 24 24\"\n",
              "     width=\"24px\">\n",
              "    <g>\n",
              "        <path d=\"M19 3H5c-1.1 0-2 .9-2 2v14c0 1.1.9 2 2 2h14c1.1 0 2-.9 2-2V5c0-1.1-.9-2-2-2zM9 17H7v-7h2v7zm4 0h-2V7h2v10zm4 0h-2v-4h2v4z\"/>\n",
              "    </g>\n",
              "</svg>\n",
              "      </button>\n",
              "\n",
              "<style>\n",
              "  .colab-df-quickchart {\n",
              "      --bg-color: #E8F0FE;\n",
              "      --fill-color: #1967D2;\n",
              "      --hover-bg-color: #E2EBFA;\n",
              "      --hover-fill-color: #174EA6;\n",
              "      --disabled-fill-color: #AAA;\n",
              "      --disabled-bg-color: #DDD;\n",
              "  }\n",
              "\n",
              "  [theme=dark] .colab-df-quickchart {\n",
              "      --bg-color: #3B4455;\n",
              "      --fill-color: #D2E3FC;\n",
              "      --hover-bg-color: #434B5C;\n",
              "      --hover-fill-color: #FFFFFF;\n",
              "      --disabled-bg-color: #3B4455;\n",
              "      --disabled-fill-color: #666;\n",
              "  }\n",
              "\n",
              "  .colab-df-quickchart {\n",
              "    background-color: var(--bg-color);\n",
              "    border: none;\n",
              "    border-radius: 50%;\n",
              "    cursor: pointer;\n",
              "    display: none;\n",
              "    fill: var(--fill-color);\n",
              "    height: 32px;\n",
              "    padding: 0;\n",
              "    width: 32px;\n",
              "  }\n",
              "\n",
              "  .colab-df-quickchart:hover {\n",
              "    background-color: var(--hover-bg-color);\n",
              "    box-shadow: 0 1px 2px rgba(60, 64, 67, 0.3), 0 1px 3px 1px rgba(60, 64, 67, 0.15);\n",
              "    fill: var(--button-hover-fill-color);\n",
              "  }\n",
              "\n",
              "  .colab-df-quickchart-complete:disabled,\n",
              "  .colab-df-quickchart-complete:disabled:hover {\n",
              "    background-color: var(--disabled-bg-color);\n",
              "    fill: var(--disabled-fill-color);\n",
              "    box-shadow: none;\n",
              "  }\n",
              "\n",
              "  .colab-df-spinner {\n",
              "    border: 2px solid var(--fill-color);\n",
              "    border-color: transparent;\n",
              "    border-bottom-color: var(--fill-color);\n",
              "    animation:\n",
              "      spin 1s steps(1) infinite;\n",
              "  }\n",
              "\n",
              "  @keyframes spin {\n",
              "    0% {\n",
              "      border-color: transparent;\n",
              "      border-bottom-color: var(--fill-color);\n",
              "      border-left-color: var(--fill-color);\n",
              "    }\n",
              "    20% {\n",
              "      border-color: transparent;\n",
              "      border-left-color: var(--fill-color);\n",
              "      border-top-color: var(--fill-color);\n",
              "    }\n",
              "    30% {\n",
              "      border-color: transparent;\n",
              "      border-left-color: var(--fill-color);\n",
              "      border-top-color: var(--fill-color);\n",
              "      border-right-color: var(--fill-color);\n",
              "    }\n",
              "    40% {\n",
              "      border-color: transparent;\n",
              "      border-right-color: var(--fill-color);\n",
              "      border-top-color: var(--fill-color);\n",
              "    }\n",
              "    60% {\n",
              "      border-color: transparent;\n",
              "      border-right-color: var(--fill-color);\n",
              "    }\n",
              "    80% {\n",
              "      border-color: transparent;\n",
              "      border-right-color: var(--fill-color);\n",
              "      border-bottom-color: var(--fill-color);\n",
              "    }\n",
              "    90% {\n",
              "      border-color: transparent;\n",
              "      border-bottom-color: var(--fill-color);\n",
              "    }\n",
              "  }\n",
              "</style>\n",
              "\n",
              "      <script>\n",
              "        async function quickchart(key) {\n",
              "          const quickchartButtonEl =\n",
              "            document.querySelector('#' + key + ' button');\n",
              "          quickchartButtonEl.disabled = true;  // To prevent multiple clicks.\n",
              "          quickchartButtonEl.classList.add('colab-df-spinner');\n",
              "          try {\n",
              "            const charts = await google.colab.kernel.invokeFunction(\n",
              "                'suggestCharts', [key], {});\n",
              "          } catch (error) {\n",
              "            console.error('Error during call to suggestCharts:', error);\n",
              "          }\n",
              "          quickchartButtonEl.classList.remove('colab-df-spinner');\n",
              "          quickchartButtonEl.classList.add('colab-df-quickchart-complete');\n",
              "        }\n",
              "        (() => {\n",
              "          let quickchartButtonEl =\n",
              "            document.querySelector('#df-2b3fda7e-24b2-48aa-9563-c5c53351f885 button');\n",
              "          quickchartButtonEl.style.display =\n",
              "            google.colab.kernel.accessAllowed ? 'block' : 'none';\n",
              "        })();\n",
              "      </script>\n",
              "    </div>\n",
              "\n",
              "    </div>\n",
              "  </div>\n"
            ],
            "application/vnd.google.colaboratory.intrinsic+json": {
              "type": "dataframe",
              "variable_name": "data",
              "summary": "{\n  \"name\": \"data\",\n  \"rows\": 2,\n  \"fields\": [\n    {\n      \"column\": \"ID\",\n      \"properties\": {\n        \"dtype\": \"number\",\n        \"std\": 0,\n        \"min\": 1,\n        \"max\": 2,\n        \"num_unique_values\": 2,\n        \"samples\": [\n          2,\n          1\n        ],\n        \"semantic_type\": \"\",\n        \"description\": \"\"\n      }\n    },\n    {\n      \"column\": \"Nombre\",\n      \"properties\": {\n        \"dtype\": \"string\",\n        \"num_unique_values\": 2,\n        \"samples\": [\n          \"Hola\",\n          \"Prueba 1\"\n        ],\n        \"semantic_type\": \"\",\n        \"description\": \"\"\n      }\n    },\n    {\n      \"column\": \"Mensaje\",\n      \"properties\": {\n        \"dtype\": \"string\",\n        \"num_unique_values\": 2,\n        \"samples\": [\n          \"mundo\",\n          \"Hola esta es la primera prueba\"\n        ],\n        \"semantic_type\": \"\",\n        \"description\": \"\"\n      }\n    }\n  ]\n}"
            }
          },
          "metadata": {},
          "execution_count": 50
        }
      ]
    },
    {
      "cell_type": "markdown",
      "source": [
        "## Caso de uso: Simulador de Ventas"
      ],
      "metadata": {
        "id": "Tpi9KbXn09mP"
      }
    },
    {
      "cell_type": "code",
      "source": [
        "import sqlite3\n",
        "import numpy\n",
        "import pandas\n",
        "import seaborn\n",
        "import matplotlib.pyplot as pyplot"
      ],
      "metadata": {
        "id": "yxqjwzFW1WEl"
      },
      "execution_count": 63,
      "outputs": []
    },
    {
      "cell_type": "code",
      "source": [
        "conn = sqlite3.connect(\"ventas.db\")"
      ],
      "metadata": {
        "id": "Y9QyLRJQ1TDb"
      },
      "execution_count": 64,
      "outputs": []
    },
    {
      "cell_type": "code",
      "source": [
        "cursor = conn.cursor()\n",
        "\n",
        "cursor.execute(\"\"\"\n",
        "\n",
        "CREATE TABLE IF NOT EXISTS clientes (\n",
        "  id INTEGER PRIMARY KEY AUTOINCREMENT,\n",
        "  nombre TEXT NOT NULL,\n",
        "  sexo TEXT NOT NULL,\n",
        "  edad INTEGER NOT NULL,\n",
        "  casado INTEGER NOT NULL\n",
        ")\n",
        "\n",
        "\"\"\")\n",
        "\n",
        "cursor.execute(\"\"\"\n",
        "\n",
        "CREATE TABLE IF NOT EXISTS productos (\n",
        "  id INTEGER PRIMARY KEY AUTOINCREMENT,\n",
        "  nombre TEXT NOT NULL,\n",
        "  precio REAL NOT NULL,\n",
        "  departamento TEXT NOT NULL,\n",
        "  categoria TEXT NOT NULL\n",
        ")\n",
        "\n",
        "\"\"\")\n",
        "\n",
        "cursor.execute(\"\"\"\n",
        "\n",
        "CREATE TABLE IF NOT EXISTS ventas (\n",
        "  id INTEGER PRIMARY KEY AUTOINCREMENT,\n",
        "  id_cliente INTEGER NOT NULL,\n",
        "  fecha TEXT NOT NULL\n",
        ")\n",
        "\n",
        "\"\"\")\n",
        "\n",
        "cursor.execute(\"\"\"\n",
        "\n",
        "CREATE TABLE IF NOT EXISTS venta_producto (\n",
        "  id INTEGER PRIMARY KEY AUTOINCREMENT,\n",
        "  id_venta INTEGER NOT NULL,\n",
        "  id_producto INTEGER NOT NULL\n",
        ")\n",
        "\n",
        "\"\"\")\n",
        "\n",
        "conn.commit()\n",
        "\n",
        "cursor.close()"
      ],
      "metadata": {
        "id": "IMoKzj_z1nC0"
      },
      "execution_count": 65,
      "outputs": []
    },
    {
      "cell_type": "code",
      "source": [
        "def crearCliente(nombre, sexo, edad, casado):\n",
        "  cursor = conn.cursor()\n",
        "\n",
        "  cursor.execute(\"INSERT INTO clientes (nombre, sexo, edad, casado) \"\\\n",
        "                 \"VALUES (?, ?, ?, ?)\", (nombre, sexo, edad, casado))\n",
        "\n",
        "  conn.commit()\n",
        "\n",
        "  cursor.close()"
      ],
      "metadata": {
        "id": "ttKDA6483gJG"
      },
      "execution_count": 66,
      "outputs": []
    },
    {
      "cell_type": "code",
      "source": [
        "# crearCliente(\"Prueba 1\", \"ROBOT\", 23, False)"
      ],
      "metadata": {
        "id": "WKQBPpMR3_QW"
      },
      "execution_count": 55,
      "outputs": []
    },
    {
      "cell_type": "code",
      "source": [
        "nombres_masculinos = [\"Alberto\", \"Benito\", \"Carlos\", \"Daniel\", \"Eduardo\"]\n",
        "nombres_femeninos = [\"Ana\", \"Beatriz\", \"Carla\", \"Daniela\", \"Edna\"]\n",
        "apellidos = [\"Ávila\", \"Benitez\", \"Camacho\", \"Díaz\", \"Espinoza\"]\n",
        "\n",
        "for i in range(100):\n",
        "  sexo = numpy.random.choice([\"HOMBRE\", \"MUJER\"])\n",
        "\n",
        "  if sexo == \"HOMBRE\":\n",
        "    nombre = numpy.random.choice(nombres_masculinos)\n",
        "  else:\n",
        "    nombre = numpy.random.choice(nombres_femeninos)\n",
        "\n",
        "  apellidoPaterno = numpy.random.choice(apellidos)\n",
        "  apellidoMaterno = numpy.random.choice(apellidos)\n",
        "\n",
        "  if sexo == \"HOMBRE\":\n",
        "    edad = numpy.random.normal(30, 6)\n",
        "  else:\n",
        "    edad = numpy.random.normal(25, 15)\n",
        "\n",
        "  if edad <= 18:\n",
        "    edad += numpy.random.uniform(18, 30)\n",
        "\n",
        "  edad = int(edad)\n",
        "\n",
        "  if sexo == \"HOMBRE\":\n",
        "    if edad < 24:\n",
        "      casado = numpy.random.choice([True, False], p=[0.1, 0.9])\n",
        "    elif edad >= 24 and edad < 30:\n",
        "      casado = numpy.random.choice([True, False], p=[0.3, 0.7])\n",
        "    elif edad >= 30 and edad < 40:\n",
        "      casado = numpy.random.choice([True, False], p=[0.8, 0.2])\n",
        "    elif edad >= 40 and edad < 50:\n",
        "      casado = numpy.random.choice([True, False], p=[0.5, 0.5])\n",
        "    elif edad >= 50:\n",
        "      casado = numpy.random.choice([True, False], p=[0.7, 0.3])\n",
        "  else:\n",
        "    if edad < 24:\n",
        "      casado = numpy.random.choice([True, False], p=[0.2, 0.8])\n",
        "    elif edad >= 24 and edad < 30:\n",
        "      casado = numpy.random.choice([True, False], p=[0.4, 0.6])\n",
        "    elif edad >= 30 and edad < 40:\n",
        "      casado = numpy.random.choice([True, False], p=[0.9, 0.1])\n",
        "    elif edad >= 40 and edad < 50:\n",
        "      casado = numpy.random.choice([True, False], p=[0.6, 0.4])\n",
        "    elif edad >= 50:\n",
        "      casado = numpy.random.choice([True, False], p=[0.4, 0.6])\n",
        "\n",
        "  casado = bool(casado)\n",
        "\n",
        "  crearCliente(f\"{nombre} {apellidoPaterno} {apellidoMaterno}\", sexo, edad, casado)"
      ],
      "metadata": {
        "id": "Qg_ihlEW4N_L"
      },
      "execution_count": 67,
      "outputs": []
    },
    {
      "cell_type": "code",
      "source": [
        "def obtenerClientes():\n",
        "  cursor = conn.cursor()\n",
        "  cursor.execute(\"SELECT id, nombre, sexo, edad, casado FROM clientes\")\n",
        "  clientes = cursor.fetchall()\n",
        "  cursor.close()\n",
        "  return clientes"
      ],
      "metadata": {
        "id": "MaHi2Jae6SGo"
      },
      "execution_count": 68,
      "outputs": []
    },
    {
      "cell_type": "code",
      "source": [
        "obtenerClientes()"
      ],
      "metadata": {
        "colab": {
          "base_uri": "https://localhost:8080/"
        },
        "id": "T7L4wKHC6h0a",
        "outputId": "0275c80d-d72f-4197-ca67-0743fc967638"
      },
      "execution_count": 69,
      "outputs": [
        {
          "output_type": "execute_result",
          "data": {
            "text/plain": [
              "[(1, 'Carla Ávila Camacho', 'MUJER', 55, 0),\n",
              " (2, 'Carlos Camacho Benitez', 'HOMBRE', 34, 1),\n",
              " (3, 'Daniela Camacho Espinoza', 'MUJER', 42, 1),\n",
              " (4, 'Benito Ávila Benitez', 'HOMBRE', 35, 1),\n",
              " (5, 'Daniela Camacho Benitez', 'MUJER', 22, 1),\n",
              " (6, 'Edna Benitez Díaz', 'MUJER', 28, 0),\n",
              " (7, 'Benito Benitez Ávila', 'HOMBRE', 27, 0),\n",
              " (8, 'Eduardo Espinoza Camacho', 'HOMBRE', 37, 1),\n",
              " (9, 'Beatriz Espinoza Benitez', 'MUJER', 32, 1),\n",
              " (10, 'Daniel Benitez Espinoza', 'HOMBRE', 33, 0),\n",
              " (11, 'Benito Ávila Benitez', 'HOMBRE', 27, 0),\n",
              " (12, 'Alberto Díaz Ávila', 'HOMBRE', 41, 1),\n",
              " (13, 'Alberto Benitez Díaz', 'HOMBRE', 29, 0),\n",
              " (14, 'Alberto Camacho Benitez', 'HOMBRE', 30, 1),\n",
              " (15, 'Ana Benitez Camacho', 'MUJER', 43, 1),\n",
              " (16, 'Edna Ávila Benitez', 'MUJER', 21, 1),\n",
              " (17, 'Ana Camacho Camacho', 'MUJER', 24, 1),\n",
              " (18, 'Alberto Ávila Camacho', 'HOMBRE', 26, 0),\n",
              " (19, 'Ana Ávila Espinoza', 'MUJER', 62, 0),\n",
              " (20, 'Ana Díaz Ávila', 'MUJER', 46, 1),\n",
              " (21, 'Edna Espinoza Benitez', 'MUJER', 22, 0),\n",
              " (22, 'Edna Espinoza Espinoza', 'MUJER', 31, 1),\n",
              " (23, 'Benito Díaz Benitez', 'HOMBRE', 35, 1),\n",
              " (24, 'Alberto Díaz Camacho', 'HOMBRE', 29, 0),\n",
              " (25, 'Ana Espinoza Camacho', 'MUJER', 26, 0),\n",
              " (26, 'Ana Benitez Camacho', 'MUJER', 28, 1),\n",
              " (27, 'Beatriz Ávila Camacho', 'MUJER', 19, 0),\n",
              " (28, 'Carlos Camacho Espinoza', 'HOMBRE', 27, 1),\n",
              " (29, 'Ana Camacho Espinoza', 'MUJER', 21, 1),\n",
              " (30, 'Alberto Espinoza Benitez', 'HOMBRE', 24, 0),\n",
              " (31, 'Alberto Díaz Benitez', 'HOMBRE', 35, 1),\n",
              " (32, 'Ana Camacho Espinoza', 'MUJER', 44, 0),\n",
              " (33, 'Daniel Camacho Ávila', 'HOMBRE', 25, 0),\n",
              " (34, 'Carla Díaz Benitez', 'MUJER', 33, 1),\n",
              " (35, 'Daniela Díaz Ávila', 'MUJER', 31, 1),\n",
              " (36, 'Carla Espinoza Benitez', 'MUJER', 34, 1),\n",
              " (37, 'Ana Benitez Ávila', 'MUJER', 31, 1),\n",
              " (38, 'Beatriz Benitez Camacho', 'MUJER', 23, 0),\n",
              " (39, 'Daniel Díaz Espinoza', 'HOMBRE', 22, 0),\n",
              " (40, 'Eduardo Ávila Díaz', 'HOMBRE', 32, 1),\n",
              " (41, 'Eduardo Díaz Espinoza', 'HOMBRE', 41, 0),\n",
              " (42, 'Daniela Espinoza Ávila', 'MUJER', 30, 1),\n",
              " (43, 'Carla Benitez Ávila', 'MUJER', 47, 0),\n",
              " (44, 'Eduardo Camacho Benitez', 'HOMBRE', 33, 1),\n",
              " (45, 'Daniela Espinoza Ávila', 'MUJER', 40, 0),\n",
              " (46, 'Benito Camacho Díaz', 'HOMBRE', 28, 0),\n",
              " (47, 'Daniela Espinoza Díaz', 'MUJER', 19, 0),\n",
              " (48, 'Carlos Benitez Camacho', 'HOMBRE', 26, 0),\n",
              " (49, 'Carlos Benitez Espinoza', 'HOMBRE', 38, 1),\n",
              " (50, 'Carla Espinoza Espinoza', 'MUJER', 28, 0),\n",
              " (51, 'Alberto Espinoza Camacho', 'HOMBRE', 27, 0),\n",
              " (52, 'Carlos Ávila Camacho', 'HOMBRE', 24, 0),\n",
              " (53, 'Ana Camacho Camacho', 'MUJER', 34, 1),\n",
              " (54, 'Benito Díaz Ávila', 'HOMBRE', 38, 1),\n",
              " (55, 'Ana Benitez Ávila', 'MUJER', 35, 1),\n",
              " (56, 'Daniel Díaz Ávila', 'HOMBRE', 26, 0),\n",
              " (57, 'Carla Ávila Camacho', 'MUJER', 40, 1),\n",
              " (58, 'Daniela Benitez Espinoza', 'MUJER', 40, 1),\n",
              " (59, 'Edna Espinoza Díaz', 'MUJER', 31, 1),\n",
              " (60, 'Alberto Espinoza Díaz', 'HOMBRE', 34, 1),\n",
              " (61, 'Edna Díaz Díaz', 'MUJER', 29, 0),\n",
              " (62, 'Carla Camacho Ávila', 'MUJER', 26, 1),\n",
              " (63, 'Carlos Díaz Díaz', 'HOMBRE', 31, 1),\n",
              " (64, 'Daniel Camacho Díaz', 'HOMBRE', 30, 1),\n",
              " (65, 'Edna Ávila Ávila', 'MUJER', 25, 0),\n",
              " (66, 'Edna Ávila Camacho', 'MUJER', 38, 1),\n",
              " (67, 'Benito Díaz Benitez', 'HOMBRE', 32, 1),\n",
              " (68, 'Ana Ávila Benitez', 'MUJER', 21, 1),\n",
              " (69, 'Ana Espinoza Espinoza', 'MUJER', 27, 0),\n",
              " (70, 'Carlos Camacho Benitez', 'HOMBRE', 31, 1),\n",
              " (71, 'Benito Benitez Espinoza', 'HOMBRE', 26, 0),\n",
              " (72, 'Carlos Ávila Espinoza', 'HOMBRE', 29, 0),\n",
              " (73, 'Ana Ávila Espinoza', 'MUJER', 39, 1),\n",
              " (74, 'Carla Camacho Ávila', 'MUJER', 38, 1),\n",
              " (75, 'Benito Camacho Díaz', 'HOMBRE', 26, 0),\n",
              " (76, 'Alberto Benitez Benitez', 'HOMBRE', 41, 1),\n",
              " (77, 'Daniela Ávila Díaz', 'MUJER', 19, 0),\n",
              " (78, 'Ana Camacho Espinoza', 'MUJER', 32, 1),\n",
              " (79, 'Beatriz Benitez Benitez', 'MUJER', 46, 1),\n",
              " (80, 'Edna Espinoza Ávila', 'MUJER', 22, 0),\n",
              " (81, 'Daniel Díaz Ávila', 'HOMBRE', 25, 0),\n",
              " (82, 'Daniel Díaz Ávila', 'HOMBRE', 35, 0),\n",
              " (83, 'Daniel Benitez Camacho', 'HOMBRE', 34, 1),\n",
              " (84, 'Eduardo Espinoza Camacho', 'HOMBRE', 26, 0),\n",
              " (85, 'Beatriz Camacho Benitez', 'MUJER', 19, 0),\n",
              " (86, 'Edna Ávila Benitez', 'MUJER', 34, 1),\n",
              " (87, 'Ana Espinoza Camacho', 'MUJER', 24, 0),\n",
              " (88, 'Edna Ávila Camacho', 'MUJER', 29, 1),\n",
              " (89, 'Carla Ávila Benitez', 'MUJER', 39, 1),\n",
              " (90, 'Daniela Ávila Espinoza', 'MUJER', 39, 1),\n",
              " (91, 'Beatriz Camacho Benitez', 'MUJER', 22, 0),\n",
              " (92, 'Beatriz Ávila Espinoza', 'MUJER', 26, 0),\n",
              " (93, 'Ana Díaz Benitez', 'MUJER', 36, 1),\n",
              " (94, 'Benito Ávila Benitez', 'HOMBRE', 20, 1),\n",
              " (95, 'Eduardo Ávila Ávila', 'HOMBRE', 24, 0),\n",
              " (96, 'Carla Benitez Espinoza', 'MUJER', 14, 0),\n",
              " (97, 'Eduardo Espinoza Espinoza', 'HOMBRE', 24, 0),\n",
              " (98, 'Beatriz Camacho Espinoza', 'MUJER', 19, 0),\n",
              " (99, 'Alberto Ávila Benitez', 'HOMBRE', 35, 0),\n",
              " (100, 'Daniel Espinoza Ávila', 'HOMBRE', 24, 0)]"
            ]
          },
          "metadata": {},
          "execution_count": 69
        }
      ]
    },
    {
      "cell_type": "code",
      "source": [
        "clientes = pandas.DataFrame(obtenerClientes(),\n",
        "                            columns=[\"ID\", \"Nombre\", \"Sexo\", \"Edad\", \"Casado\"])\n",
        "\n",
        "clientes = clientes.set_index(\"ID\")\n",
        "\n",
        "clientes.head()"
      ],
      "metadata": {
        "colab": {
          "base_uri": "https://localhost:8080/",
          "height": 236
        },
        "id": "Zd1iq_pH7RyI",
        "outputId": "02d61ae3-ad84-4739-e284-59b5ec25348f"
      },
      "execution_count": 70,
      "outputs": [
        {
          "output_type": "execute_result",
          "data": {
            "text/plain": [
              "                      Nombre    Sexo  Edad  Casado\n",
              "ID                                                \n",
              "1        Carla Ávila Camacho   MUJER    55       0\n",
              "2     Carlos Camacho Benitez  HOMBRE    34       1\n",
              "3   Daniela Camacho Espinoza   MUJER    42       1\n",
              "4       Benito Ávila Benitez  HOMBRE    35       1\n",
              "5    Daniela Camacho Benitez   MUJER    22       1"
            ],
            "text/html": [
              "\n",
              "  <div id=\"df-34b10b19-ecd5-4e2d-b4c5-dc1818251bdf\" class=\"colab-df-container\">\n",
              "    <div>\n",
              "<style scoped>\n",
              "    .dataframe tbody tr th:only-of-type {\n",
              "        vertical-align: middle;\n",
              "    }\n",
              "\n",
              "    .dataframe tbody tr th {\n",
              "        vertical-align: top;\n",
              "    }\n",
              "\n",
              "    .dataframe thead th {\n",
              "        text-align: right;\n",
              "    }\n",
              "</style>\n",
              "<table border=\"1\" class=\"dataframe\">\n",
              "  <thead>\n",
              "    <tr style=\"text-align: right;\">\n",
              "      <th></th>\n",
              "      <th>Nombre</th>\n",
              "      <th>Sexo</th>\n",
              "      <th>Edad</th>\n",
              "      <th>Casado</th>\n",
              "    </tr>\n",
              "    <tr>\n",
              "      <th>ID</th>\n",
              "      <th></th>\n",
              "      <th></th>\n",
              "      <th></th>\n",
              "      <th></th>\n",
              "    </tr>\n",
              "  </thead>\n",
              "  <tbody>\n",
              "    <tr>\n",
              "      <th>1</th>\n",
              "      <td>Carla Ávila Camacho</td>\n",
              "      <td>MUJER</td>\n",
              "      <td>55</td>\n",
              "      <td>0</td>\n",
              "    </tr>\n",
              "    <tr>\n",
              "      <th>2</th>\n",
              "      <td>Carlos Camacho Benitez</td>\n",
              "      <td>HOMBRE</td>\n",
              "      <td>34</td>\n",
              "      <td>1</td>\n",
              "    </tr>\n",
              "    <tr>\n",
              "      <th>3</th>\n",
              "      <td>Daniela Camacho Espinoza</td>\n",
              "      <td>MUJER</td>\n",
              "      <td>42</td>\n",
              "      <td>1</td>\n",
              "    </tr>\n",
              "    <tr>\n",
              "      <th>4</th>\n",
              "      <td>Benito Ávila Benitez</td>\n",
              "      <td>HOMBRE</td>\n",
              "      <td>35</td>\n",
              "      <td>1</td>\n",
              "    </tr>\n",
              "    <tr>\n",
              "      <th>5</th>\n",
              "      <td>Daniela Camacho Benitez</td>\n",
              "      <td>MUJER</td>\n",
              "      <td>22</td>\n",
              "      <td>1</td>\n",
              "    </tr>\n",
              "  </tbody>\n",
              "</table>\n",
              "</div>\n",
              "    <div class=\"colab-df-buttons\">\n",
              "\n",
              "  <div class=\"colab-df-container\">\n",
              "    <button class=\"colab-df-convert\" onclick=\"convertToInteractive('df-34b10b19-ecd5-4e2d-b4c5-dc1818251bdf')\"\n",
              "            title=\"Convert this dataframe to an interactive table.\"\n",
              "            style=\"display:none;\">\n",
              "\n",
              "  <svg xmlns=\"http://www.w3.org/2000/svg\" height=\"24px\" viewBox=\"0 -960 960 960\">\n",
              "    <path d=\"M120-120v-720h720v720H120Zm60-500h600v-160H180v160Zm220 220h160v-160H400v160Zm0 220h160v-160H400v160ZM180-400h160v-160H180v160Zm440 0h160v-160H620v160ZM180-180h160v-160H180v160Zm440 0h160v-160H620v160Z\"/>\n",
              "  </svg>\n",
              "    </button>\n",
              "\n",
              "  <style>\n",
              "    .colab-df-container {\n",
              "      display:flex;\n",
              "      gap: 12px;\n",
              "    }\n",
              "\n",
              "    .colab-df-convert {\n",
              "      background-color: #E8F0FE;\n",
              "      border: none;\n",
              "      border-radius: 50%;\n",
              "      cursor: pointer;\n",
              "      display: none;\n",
              "      fill: #1967D2;\n",
              "      height: 32px;\n",
              "      padding: 0 0 0 0;\n",
              "      width: 32px;\n",
              "    }\n",
              "\n",
              "    .colab-df-convert:hover {\n",
              "      background-color: #E2EBFA;\n",
              "      box-shadow: 0px 1px 2px rgba(60, 64, 67, 0.3), 0px 1px 3px 1px rgba(60, 64, 67, 0.15);\n",
              "      fill: #174EA6;\n",
              "    }\n",
              "\n",
              "    .colab-df-buttons div {\n",
              "      margin-bottom: 4px;\n",
              "    }\n",
              "\n",
              "    [theme=dark] .colab-df-convert {\n",
              "      background-color: #3B4455;\n",
              "      fill: #D2E3FC;\n",
              "    }\n",
              "\n",
              "    [theme=dark] .colab-df-convert:hover {\n",
              "      background-color: #434B5C;\n",
              "      box-shadow: 0px 1px 3px 1px rgba(0, 0, 0, 0.15);\n",
              "      filter: drop-shadow(0px 1px 2px rgba(0, 0, 0, 0.3));\n",
              "      fill: #FFFFFF;\n",
              "    }\n",
              "  </style>\n",
              "\n",
              "    <script>\n",
              "      const buttonEl =\n",
              "        document.querySelector('#df-34b10b19-ecd5-4e2d-b4c5-dc1818251bdf button.colab-df-convert');\n",
              "      buttonEl.style.display =\n",
              "        google.colab.kernel.accessAllowed ? 'block' : 'none';\n",
              "\n",
              "      async function convertToInteractive(key) {\n",
              "        const element = document.querySelector('#df-34b10b19-ecd5-4e2d-b4c5-dc1818251bdf');\n",
              "        const dataTable =\n",
              "          await google.colab.kernel.invokeFunction('convertToInteractive',\n",
              "                                                    [key], {});\n",
              "        if (!dataTable) return;\n",
              "\n",
              "        const docLinkHtml = 'Like what you see? Visit the ' +\n",
              "          '<a target=\"_blank\" href=https://colab.research.google.com/notebooks/data_table.ipynb>data table notebook</a>'\n",
              "          + ' to learn more about interactive tables.';\n",
              "        element.innerHTML = '';\n",
              "        dataTable['output_type'] = 'display_data';\n",
              "        await google.colab.output.renderOutput(dataTable, element);\n",
              "        const docLink = document.createElement('div');\n",
              "        docLink.innerHTML = docLinkHtml;\n",
              "        element.appendChild(docLink);\n",
              "      }\n",
              "    </script>\n",
              "  </div>\n",
              "\n",
              "\n",
              "    <div id=\"df-87a89858-81e0-45b3-b85a-aa2a682811a8\">\n",
              "      <button class=\"colab-df-quickchart\" onclick=\"quickchart('df-87a89858-81e0-45b3-b85a-aa2a682811a8')\"\n",
              "                title=\"Suggest charts\"\n",
              "                style=\"display:none;\">\n",
              "\n",
              "<svg xmlns=\"http://www.w3.org/2000/svg\" height=\"24px\"viewBox=\"0 0 24 24\"\n",
              "     width=\"24px\">\n",
              "    <g>\n",
              "        <path d=\"M19 3H5c-1.1 0-2 .9-2 2v14c0 1.1.9 2 2 2h14c1.1 0 2-.9 2-2V5c0-1.1-.9-2-2-2zM9 17H7v-7h2v7zm4 0h-2V7h2v10zm4 0h-2v-4h2v4z\"/>\n",
              "    </g>\n",
              "</svg>\n",
              "      </button>\n",
              "\n",
              "<style>\n",
              "  .colab-df-quickchart {\n",
              "      --bg-color: #E8F0FE;\n",
              "      --fill-color: #1967D2;\n",
              "      --hover-bg-color: #E2EBFA;\n",
              "      --hover-fill-color: #174EA6;\n",
              "      --disabled-fill-color: #AAA;\n",
              "      --disabled-bg-color: #DDD;\n",
              "  }\n",
              "\n",
              "  [theme=dark] .colab-df-quickchart {\n",
              "      --bg-color: #3B4455;\n",
              "      --fill-color: #D2E3FC;\n",
              "      --hover-bg-color: #434B5C;\n",
              "      --hover-fill-color: #FFFFFF;\n",
              "      --disabled-bg-color: #3B4455;\n",
              "      --disabled-fill-color: #666;\n",
              "  }\n",
              "\n",
              "  .colab-df-quickchart {\n",
              "    background-color: var(--bg-color);\n",
              "    border: none;\n",
              "    border-radius: 50%;\n",
              "    cursor: pointer;\n",
              "    display: none;\n",
              "    fill: var(--fill-color);\n",
              "    height: 32px;\n",
              "    padding: 0;\n",
              "    width: 32px;\n",
              "  }\n",
              "\n",
              "  .colab-df-quickchart:hover {\n",
              "    background-color: var(--hover-bg-color);\n",
              "    box-shadow: 0 1px 2px rgba(60, 64, 67, 0.3), 0 1px 3px 1px rgba(60, 64, 67, 0.15);\n",
              "    fill: var(--button-hover-fill-color);\n",
              "  }\n",
              "\n",
              "  .colab-df-quickchart-complete:disabled,\n",
              "  .colab-df-quickchart-complete:disabled:hover {\n",
              "    background-color: var(--disabled-bg-color);\n",
              "    fill: var(--disabled-fill-color);\n",
              "    box-shadow: none;\n",
              "  }\n",
              "\n",
              "  .colab-df-spinner {\n",
              "    border: 2px solid var(--fill-color);\n",
              "    border-color: transparent;\n",
              "    border-bottom-color: var(--fill-color);\n",
              "    animation:\n",
              "      spin 1s steps(1) infinite;\n",
              "  }\n",
              "\n",
              "  @keyframes spin {\n",
              "    0% {\n",
              "      border-color: transparent;\n",
              "      border-bottom-color: var(--fill-color);\n",
              "      border-left-color: var(--fill-color);\n",
              "    }\n",
              "    20% {\n",
              "      border-color: transparent;\n",
              "      border-left-color: var(--fill-color);\n",
              "      border-top-color: var(--fill-color);\n",
              "    }\n",
              "    30% {\n",
              "      border-color: transparent;\n",
              "      border-left-color: var(--fill-color);\n",
              "      border-top-color: var(--fill-color);\n",
              "      border-right-color: var(--fill-color);\n",
              "    }\n",
              "    40% {\n",
              "      border-color: transparent;\n",
              "      border-right-color: var(--fill-color);\n",
              "      border-top-color: var(--fill-color);\n",
              "    }\n",
              "    60% {\n",
              "      border-color: transparent;\n",
              "      border-right-color: var(--fill-color);\n",
              "    }\n",
              "    80% {\n",
              "      border-color: transparent;\n",
              "      border-right-color: var(--fill-color);\n",
              "      border-bottom-color: var(--fill-color);\n",
              "    }\n",
              "    90% {\n",
              "      border-color: transparent;\n",
              "      border-bottom-color: var(--fill-color);\n",
              "    }\n",
              "  }\n",
              "</style>\n",
              "\n",
              "      <script>\n",
              "        async function quickchart(key) {\n",
              "          const quickchartButtonEl =\n",
              "            document.querySelector('#' + key + ' button');\n",
              "          quickchartButtonEl.disabled = true;  // To prevent multiple clicks.\n",
              "          quickchartButtonEl.classList.add('colab-df-spinner');\n",
              "          try {\n",
              "            const charts = await google.colab.kernel.invokeFunction(\n",
              "                'suggestCharts', [key], {});\n",
              "          } catch (error) {\n",
              "            console.error('Error during call to suggestCharts:', error);\n",
              "          }\n",
              "          quickchartButtonEl.classList.remove('colab-df-spinner');\n",
              "          quickchartButtonEl.classList.add('colab-df-quickchart-complete');\n",
              "        }\n",
              "        (() => {\n",
              "          let quickchartButtonEl =\n",
              "            document.querySelector('#df-87a89858-81e0-45b3-b85a-aa2a682811a8 button');\n",
              "          quickchartButtonEl.style.display =\n",
              "            google.colab.kernel.accessAllowed ? 'block' : 'none';\n",
              "        })();\n",
              "      </script>\n",
              "    </div>\n",
              "\n",
              "    </div>\n",
              "  </div>\n"
            ],
            "application/vnd.google.colaboratory.intrinsic+json": {
              "type": "dataframe",
              "variable_name": "clientes",
              "summary": "{\n  \"name\": \"clientes\",\n  \"rows\": 100,\n  \"fields\": [\n    {\n      \"column\": \"ID\",\n      \"properties\": {\n        \"dtype\": \"number\",\n        \"std\": 29,\n        \"min\": 1,\n        \"max\": 100,\n        \"num_unique_values\": 100,\n        \"samples\": [\n          84,\n          54,\n          71\n        ],\n        \"semantic_type\": \"\",\n        \"description\": \"\"\n      }\n    },\n    {\n      \"column\": \"Nombre\",\n      \"properties\": {\n        \"dtype\": \"string\",\n        \"num_unique_values\": 79,\n        \"samples\": [\n          \"Carla D\\u00edaz Benitez\",\n          \"Carla \\u00c1vila Camacho\",\n          \"Alberto D\\u00edaz Camacho\"\n        ],\n        \"semantic_type\": \"\",\n        \"description\": \"\"\n      }\n    },\n    {\n      \"column\": \"Sexo\",\n      \"properties\": {\n        \"dtype\": \"category\",\n        \"num_unique_values\": 2,\n        \"samples\": [\n          \"HOMBRE\",\n          \"MUJER\"\n        ],\n        \"semantic_type\": \"\",\n        \"description\": \"\"\n      }\n    },\n    {\n      \"column\": \"Edad\",\n      \"properties\": {\n        \"dtype\": \"number\",\n        \"std\": 8,\n        \"min\": 14,\n        \"max\": 62,\n        \"num_unique_values\": 31,\n        \"samples\": [\n          39,\n          24\n        ],\n        \"semantic_type\": \"\",\n        \"description\": \"\"\n      }\n    },\n    {\n      \"column\": \"Casado\",\n      \"properties\": {\n        \"dtype\": \"number\",\n        \"std\": 0,\n        \"min\": 0,\n        \"max\": 1,\n        \"num_unique_values\": 2,\n        \"samples\": [\n          1,\n          0\n        ],\n        \"semantic_type\": \"\",\n        \"description\": \"\"\n      }\n    }\n  ]\n}"
            }
          },
          "metadata": {},
          "execution_count": 70
        }
      ]
    },
    {
      "cell_type": "code",
      "source": [
        "clientes[\"Sexo\"].value_counts()"
      ],
      "metadata": {
        "colab": {
          "base_uri": "https://localhost:8080/",
          "height": 177
        },
        "id": "YNO5yMgr7u-N",
        "outputId": "d3f4d4fd-dd4b-42ed-dc76-728b78a1b003"
      },
      "execution_count": 72,
      "outputs": [
        {
          "output_type": "execute_result",
          "data": {
            "text/plain": [
              "Sexo\n",
              "MUJER     55\n",
              "HOMBRE    45\n",
              "Name: count, dtype: int64"
            ],
            "text/html": [
              "<div>\n",
              "<style scoped>\n",
              "    .dataframe tbody tr th:only-of-type {\n",
              "        vertical-align: middle;\n",
              "    }\n",
              "\n",
              "    .dataframe tbody tr th {\n",
              "        vertical-align: top;\n",
              "    }\n",
              "\n",
              "    .dataframe thead th {\n",
              "        text-align: right;\n",
              "    }\n",
              "</style>\n",
              "<table border=\"1\" class=\"dataframe\">\n",
              "  <thead>\n",
              "    <tr style=\"text-align: right;\">\n",
              "      <th></th>\n",
              "      <th>count</th>\n",
              "    </tr>\n",
              "    <tr>\n",
              "      <th>Sexo</th>\n",
              "      <th></th>\n",
              "    </tr>\n",
              "  </thead>\n",
              "  <tbody>\n",
              "    <tr>\n",
              "      <th>MUJER</th>\n",
              "      <td>55</td>\n",
              "    </tr>\n",
              "    <tr>\n",
              "      <th>HOMBRE</th>\n",
              "      <td>45</td>\n",
              "    </tr>\n",
              "  </tbody>\n",
              "</table>\n",
              "</div><br><label><b>dtype:</b> int64</label>"
            ]
          },
          "metadata": {},
          "execution_count": 72
        }
      ]
    },
    {
      "cell_type": "code",
      "source": [
        "clientes[\"Edad\"].plot.hist()"
      ],
      "metadata": {
        "colab": {
          "base_uri": "https://localhost:8080/",
          "height": 448
        },
        "id": "BNh_SpdT8Hy1",
        "outputId": "9b02ddf4-ce92-4128-fc40-9d7cf00a5618"
      },
      "execution_count": 76,
      "outputs": [
        {
          "output_type": "execute_result",
          "data": {
            "text/plain": [
              "<Axes: ylabel='Frequency'>"
            ]
          },
          "metadata": {},
          "execution_count": 76
        },
        {
          "output_type": "display_data",
          "data": {
            "text/plain": [
              "<Figure size 640x480 with 1 Axes>"
            ],
            "image/png": "[encoded data removed]"
          },
          "metadata": {}
        }
      ]
    },
    {
      "cell_type": "code",
      "source": [
        "clientes[\"Casado\"].value_counts()"
      ],
      "metadata": {
        "colab": {
          "base_uri": "https://localhost:8080/",
          "height": 177
        },
        "id": "QLRN3GFo8XY3",
        "outputId": "0e0d37d4-0b56-4fb1-8fcf-16de1319777f"
      },
      "execution_count": 77,
      "outputs": [
        {
          "output_type": "execute_result",
          "data": {
            "text/plain": [
              "Casado\n",
              "1    52\n",
              "0    48\n",
              "Name: count, dtype: int64"
            ],
            "text/html": [
              "<div>\n",
              "<style scoped>\n",
              "    .dataframe tbody tr th:only-of-type {\n",
              "        vertical-align: middle;\n",
              "    }\n",
              "\n",
              "    .dataframe tbody tr th {\n",
              "        vertical-align: top;\n",
              "    }\n",
              "\n",
              "    .dataframe thead th {\n",
              "        text-align: right;\n",
              "    }\n",
              "</style>\n",
              "<table border=\"1\" class=\"dataframe\">\n",
              "  <thead>\n",
              "    <tr style=\"text-align: right;\">\n",
              "      <th></th>\n",
              "      <th>count</th>\n",
              "    </tr>\n",
              "    <tr>\n",
              "      <th>Casado</th>\n",
              "      <th></th>\n",
              "    </tr>\n",
              "  </thead>\n",
              "  <tbody>\n",
              "    <tr>\n",
              "      <th>1</th>\n",
              "      <td>52</td>\n",
              "    </tr>\n",
              "    <tr>\n",
              "      <th>0</th>\n",
              "      <td>48</td>\n",
              "    </tr>\n",
              "  </tbody>\n",
              "</table>\n",
              "</div><br><label><b>dtype:</b> int64</label>"
            ]
          },
          "metadata": {},
          "execution_count": 77
        }
      ]
    },
    {
      "cell_type": "code",
      "source": [
        "seaborn.histplot(clientes, x=\"Edad\", hue=\"Sexo\")"
      ],
      "metadata": {
        "colab": {
          "base_uri": "https://localhost:8080/",
          "height": 466
        },
        "id": "ohNZPrEM8apP",
        "outputId": "97d441c4-c80c-4f47-e6b7-0c84c4e6bb15"
      },
      "execution_count": 79,
      "outputs": [
        {
          "output_type": "execute_result",
          "data": {
            "text/plain": [
              "<Axes: xlabel='Edad', ylabel='Count'>"
            ]
          },
          "metadata": {},
          "execution_count": 79
        },
        {
          "output_type": "display_data",
          "data": {
            "text/plain": [
              "<Figure size 640x480 with 1 Axes>"
            ],
            "image/png": "[encoded data removed]"
          },
          "metadata": {}
        }
      ]
    },
    {
      "cell_type": "code",
      "source": [
        "seaborn.boxplot(clientes, x=\"Sexo\", y=\"Edad\", hue=\"Sexo\")"
      ],
      "metadata": {
        "colab": {
          "base_uri": "https://localhost:8080/",
          "height": 466
        },
        "id": "88Ngag-78qRL",
        "outputId": "630387ce-40fb-4ee5-e627-16abeb356ff3"
      },
      "execution_count": 85,
      "outputs": [
        {
          "output_type": "execute_result",
          "data": {
            "text/plain": [
              "<Axes: xlabel='Sexo', ylabel='Edad'>"
            ]
          },
          "metadata": {},
          "execution_count": 85
        },
        {
          "output_type": "display_data",
          "data": {
            "text/plain": [
              "<Figure size 640x480 with 1 Axes>"
            ],
            "image/png": "[encoded data removed]"
          },
          "metadata": {}
        }
      ]
    },
    {
      "cell_type": "code",
      "source": [
        "seaborn.boxplot(clientes, x=\"Casado\", y=\"Edad\", hue=\"Sexo\")"
      ],
      "metadata": {
        "colab": {
          "base_uri": "https://localhost:8080/",
          "height": 466
        },
        "id": "ti-ghhgi9Jk6",
        "outputId": "a33964ea-722d-42f7-98e1-2b47d719bddd"
      },
      "execution_count": 86,
      "outputs": [
        {
          "output_type": "execute_result",
          "data": {
            "text/plain": [
              "<Axes: xlabel='Casado', ylabel='Edad'>"
            ]
          },
          "metadata": {},
          "execution_count": 86
        },
        {
          "output_type": "display_data",
          "data": {
            "text/plain": [
              "<Figure size 640x480 with 1 Axes>"
            ],
            "image/png": "[encoded data removed]"
          },
          "metadata": {}
        }
      ]
    }
  ]
}