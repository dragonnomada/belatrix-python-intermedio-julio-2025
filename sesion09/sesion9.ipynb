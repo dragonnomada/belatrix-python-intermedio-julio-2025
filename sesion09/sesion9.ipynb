{
  "cells": [
    {
      "cell_type": "markdown",
      "metadata": {
        "id": "mLvLoNxvlYx2"
      },
      "source": [
        "# Python Intermedio - Sesión 9\n",
        "\n",
        "![logo](https://www.belatrix.com/wp-content/uploads/2023/08/belatrix-logosweb-1.png)"
      ]
    }
  ],
  "metadata": {
    "colab": {
      "provenance": []
    },
    "kernelspec": {
      "display_name": "Python 3",
      "name": "python3"
    },
    "language_info": {
      "name": "python"
    }
  },
  "nbformat": 4,
  "nbformat_minor": 0
}
