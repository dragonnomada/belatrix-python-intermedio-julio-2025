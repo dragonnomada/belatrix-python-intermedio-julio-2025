{
 "cells": [
  {
   "cell_type": "markdown",
   "id": "04080a02",
   "metadata": {},
   "source": [
    "# Python Intermedio - Práctica 4\n",
    "\n",
    "![logo](https://www.belatrix.com/wp-content/uploads/2023/08/belatrix-logosweb-1.png)"
   ]
  },
  {
   "cell_type": "markdown",
   "id": "4d14b68e",
   "metadata": {},
   "source": [
    "## Comprimir y descomprimir archivos y carpetas"
   ]
  },
  {
   "cell_type": "markdown",
   "id": "df3b3f6d",
   "metadata": {},
   "source": [
    "### Crear una carpeta"
   ]
  },
  {
   "cell_type": "code",
   "execution_count": 1,
   "id": "67231cd5",
   "metadata": {},
   "outputs": [],
   "source": [
    "import os\n",
    "\n",
    "os.makedirs(\"backup\")"
   ]
  },
  {
   "cell_type": "markdown",
   "id": "66868bbc",
   "metadata": {},
   "source": [
    "### Copiar archivos a la carpeta"
   ]
  },
  {
   "cell_type": "code",
   "execution_count": 19,
   "id": "eb3d323d",
   "metadata": {},
   "outputs": [
    {
     "name": "stdout",
     "output_type": "stream",
     "text": [
      "Reporte.pdf Reporte .pdf\n",
      "remuneraciones_da_qna_14_23.csv remuneraciones_da_qna_14_23 .csv\n",
      "practica3.ipynb practica3 .ipynb\n",
      "practica1.ipynb practica1 .ipynb\n",
      "practica2.ipynb practica2 .ipynb\n",
      "cliente_thumb.png cliente_thumb .png\n",
      "practica4.ipynb practica4 .ipynb\n",
      "sesion9.ipynb sesion9 .ipynb\n",
      "cliente.jpg cliente .jpg\n"
     ]
    }
   ],
   "source": [
    "archivos_copiar = [\n",
    "    \"Reporte.pdf\"\n",
    "]\n",
    "\n",
    "for raiz, carpetas, archivos in os.walk(\".\"):\n",
    "    if raiz == \".\":\n",
    "        for archivo in archivos:\n",
    "            nombre, extension = os.path.splitext(archivo)\n",
    "            print(archivo, nombre, extension)\n",
    "            if extension == \".jpg\" or extension == \".png\":\n",
    "                archivos_copiar.append(archivo)"
   ]
  },
  {
   "cell_type": "code",
   "execution_count": 20,
   "id": "bd44a542",
   "metadata": {},
   "outputs": [
    {
     "data": {
      "text/plain": [
       "['Reporte.pdf', 'cliente_thumb.png', 'cliente.jpg']"
      ]
     },
     "execution_count": 20,
     "metadata": {},
     "output_type": "execute_result"
    }
   ],
   "source": [
    "archivos_copiar"
   ]
  },
  {
   "cell_type": "code",
   "execution_count": 21,
   "id": "68016ccd",
   "metadata": {},
   "outputs": [],
   "source": [
    "import shutil\n",
    "\n",
    "for archivo in archivos_copiar:\n",
    "    shutil.copy(archivo, f\"backup/{archivo}\")"
   ]
  },
  {
   "cell_type": "markdown",
   "id": "4ff296f7",
   "metadata": {},
   "source": [
    "### Comprimir una carpeta"
   ]
  },
  {
   "cell_type": "code",
   "execution_count": 26,
   "id": "e60372c0",
   "metadata": {},
   "outputs": [
    {
     "data": {
      "text/plain": [
       "'2025/07/24 16:54:58'"
      ]
     },
     "execution_count": 26,
     "metadata": {},
     "output_type": "execute_result"
    }
   ],
   "source": [
    "from datetime import datetime\n",
    "\n",
    "datetime.now().strftime(\"%Y/%m/%d %H:%M:%S\")"
   ]
  },
  {
   "cell_type": "code",
   "execution_count": 27,
   "id": "c8e9e727",
   "metadata": {},
   "outputs": [
    {
     "data": {
      "text/plain": [
       "'/Users/dragonnomada/Documents/Cursos 2025/BELATRIX-PYTHON/curso/sesion09/backup_20250724165522.zip'"
      ]
     },
     "execution_count": 27,
     "metadata": {},
     "output_type": "execute_result"
    }
   ],
   "source": [
    "carpeta_a_comprimir = \"backup\"\n",
    "archivo_zip = f\"backup_{datetime.now().strftime('%Y%m%d%H%M%S')}\"\n",
    "\n",
    "shutil.make_archive(archivo_zip, \"zip\", carpeta_a_comprimir)"
   ]
  },
  {
   "cell_type": "markdown",
   "id": "a2b66207",
   "metadata": {},
   "source": [
    "### Descomprimir un zip"
   ]
  },
  {
   "cell_type": "code",
   "execution_count": 28,
   "id": "97497047",
   "metadata": {},
   "outputs": [],
   "source": [
    "archivo_zip = \"backup_20250724165522.zip\"\n",
    "carpeta_destino = \"backup_recuperado\"\n",
    "\n",
    "shutil.unpack_archive(archivo_zip, carpeta_destino)"
   ]
  }
 ],
 "metadata": {
  "kernelspec": {
   "display_name": "Python 3",
   "language": "python",
   "name": "python3"
  },
  "language_info": {
   "codemirror_mode": {
    "name": "ipython",
    "version": 3
   },
   "file_extension": ".py",
   "mimetype": "text/x-python",
   "name": "python",
   "nbconvert_exporter": "python",
   "pygments_lexer": "ipython3",
   "version": "3.12.4"
  }
 },
 "nbformat": 4,
 "nbformat_minor": 5
}
