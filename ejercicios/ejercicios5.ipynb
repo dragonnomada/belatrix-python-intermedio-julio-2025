{
  "nbformat": 4,
  "nbformat_minor": 0,
  "metadata": {
    "colab": {
      "provenance": []
    },
    "kernelspec": {
      "name": "python3",
      "display_name": "Python 3"
    },
    "language_info": {
      "name": "python"
    }
  },
  "cells": [
    {
      "cell_type": "markdown",
      "source": [
        "# Python Intermedio - Ejercicios 5\n",
        "\n",
        "---\n",
        "\n",
        "\n",
        "\n",
        "![logo](https://www.belatrix.com/wp-content/uploads/2023/08/belatrix-logosweb-1.png)"
      ],
      "metadata": {
        "id": "pIepQOSLVQjW"
      }
    },
    {
      "cell_type": "markdown",
      "source": [
        "> Crea una función que devuelva el mínimo y máximo de una lista"
      ],
      "metadata": {
        "id": "O8xjCGJpVfNl"
      }
    },
    {
      "cell_type": "code",
      "execution_count": null,
      "metadata": {
        "id": "BuS2YtdCVOb7"
      },
      "outputs": [],
      "source": [
        "# Tu código aquí"
      ]
    },
    {
      "cell_type": "markdown",
      "source": [
        "> Crea una función que divida una lista en dos partes iguales"
      ],
      "metadata": {
        "id": "8k5u2cNpWDZL"
      }
    },
    {
      "cell_type": "code",
      "source": [
        "# tu código aquí"
      ],
      "metadata": {
        "id": "MtUjyKZcWbE9"
      },
      "execution_count": null,
      "outputs": []
    },
    {
      "cell_type": "markdown",
      "source": [
        "> Crea una función que divida una lista con los elementos menores y mayores a un número dado\n",
        "\n",
        "Por ejemplo:\n",
        "\n",
        "```python\n",
        "edades = [33, 25, 46, 18, 96, 17]\n",
        "izquierda, derecha = divide(edades, 30)\n",
        "\n",
        "print(izquierda) # [25, 18, 17]\n",
        "print(derecha) # [33, 46, 96]\n",
        "```"
      ],
      "metadata": {
        "id": "Xf4XGBGiU4Oh"
      }
    },
    {
      "cell_type": "code",
      "source": [
        "# Tu código aquí"
      ],
      "metadata": {
        "id": "ifmGF4w1U2C3"
      },
      "execution_count": null,
      "outputs": []
    }
  ]
}