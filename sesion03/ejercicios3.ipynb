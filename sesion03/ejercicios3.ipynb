{
  "nbformat": 4,
  "nbformat_minor": 0,
  "metadata": {
    "colab": {
      "provenance": []
    },
    "kernelspec": {
      "name": "python3",
      "display_name": "Python 3"
    },
    "language_info": {
      "name": "python"
    }
  },
  "cells": [
    {
      "cell_type": "markdown",
      "source": [
        "# Python Intermedio - Ejercicios 3\n",
        "\n",
        "![logo](https://www.belatrix.com/wp-content/uploads/2023/08/belatrix-logosweb-1.png)"
      ],
      "metadata": {
        "id": "pIepQOSLVQjW"
      }
    },
    {
      "cell_type": "markdown",
      "source": [
        "> Define una lista de 2-tuplas con el nombre de la persona y su edad\n",
        "\n",
        "Imprime con formato las personas de la lista como:\n",
        "\n",
        "```text\n",
        "=========================\n",
        "Ana               23 años\n",
        "Benito            19 años\n",
        "Carla             32 años\n",
        "Daniel            54 años\n",
        "...                   ...\n",
        "Zaida             29 años\n",
        "=========================\n",
        "```"
      ],
      "metadata": {
        "id": "O8xjCGJpVfNl"
      }
    },
    {
      "cell_type": "code",
      "execution_count": null,
      "metadata": {
        "id": "BuS2YtdCVOb7"
      },
      "outputs": [],
      "source": [
        "# Tu código aquí"
      ]
    },
    {
      "cell_type": "markdown",
      "source": [
        "> Guarda el reporte de la lista de personas en un archivo\n",
        "\n",
        "Genera una variable llamada `reporte = \"\"` que vaya acumulando cada línea con los elementos de la lista de personas y su edad.\n",
        "\n",
        "Luego guarda el archivo llamado `lista_personas.txt` con el reporte como contenido."
      ],
      "metadata": {
        "id": "8k5u2cNpWDZL"
      }
    },
    {
      "cell_type": "code",
      "source": [
        "# tu código aquí"
      ],
      "metadata": {
        "id": "MtUjyKZcWbE9"
      },
      "execution_count": null,
      "outputs": []
    }
  ]
}