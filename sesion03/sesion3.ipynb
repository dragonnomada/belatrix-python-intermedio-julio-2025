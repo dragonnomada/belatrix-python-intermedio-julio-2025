{
  "nbformat": 4,
  "nbformat_minor": 0,
  "metadata": {
    "colab": {
      "provenance": []
    },
    "kernelspec": {
      "name": "python3",
      "display_name": "Python 3"
    },
    "language_info": {
      "name": "python"
    }
  },
  "cells": [
    {
      "cell_type": "markdown",
      "source": [
        "# Python Intermedio - Sesión 3\n",
        "\n",
        "![logo](https://www.belatrix.com/wp-content/uploads/2023/08/belatrix-logosweb-1.png)"
      ],
      "metadata": {
        "id": "hAHm-R2OdXAN"
      }
    },
    {
      "cell_type": "markdown",
      "source": [
        "> Módulo II – Aplicaciones de Python\n",
        "\n",
        "1. Manejo de Archivos de Texto\n",
        "2. Generación de Reportes de Texto y Formatos Avanzados\n",
        "3. Manejo de archivos de CSV y Excel\n",
        "4. Reportes Estadísticos Fundamentales"
      ],
      "metadata": {
        "id": "IaabT7jwdbIq"
      }
    },
    {
      "cell_type": "code",
      "execution_count": 1,
      "metadata": {
        "colab": {
          "base_uri": "https://localhost:8080/",
          "height": 56
        },
        "id": "PBqRHYmvdTwe",
        "outputId": "dd34fab8-f773-46f8-8237-b1cb857a2cae"
      },
      "outputs": [
        {
          "output_type": "execute_result",
          "data": {
            "text/plain": [
              "'José Antonio Díaz'"
            ],
            "application/vnd.google.colaboratory.intrinsic+json": {
              "type": "string"
            }
          },
          "metadata": {},
          "execution_count": 1
        }
      ],
      "source": [
        "nombre = \"José Antonio Díaz\" # 'José Antonio Díaz'\n",
        "\n",
        "nombre"
      ]
    },
    {
      "cell_type": "code",
      "source": [
        "type(nombre)"
      ],
      "metadata": {
        "colab": {
          "base_uri": "https://localhost:8080/"
        },
        "id": "7PlWtUhpguOt",
        "outputId": "e48e83de-ad2e-42ee-b2fc-96b8eabd8ec8"
      },
      "execution_count": 2,
      "outputs": [
        {
          "output_type": "execute_result",
          "data": {
            "text/plain": [
              "str"
            ]
          },
          "metadata": {},
          "execution_count": 2
        }
      ]
    },
    {
      "cell_type": "code",
      "source": [
        "correo = \"\"\"\n",
        "\n",
        "Hola José,\n",
        "\n",
        "Te escribo para solicitar información sobre la vacante que haz puesto en el sitio\n",
        "https://miempresa.com y te dejo mi correo pepe@ejemplo.com.\n",
        "\n",
        "Saludos cordiales.\n",
        "\n",
        "\"\"\"\n",
        "\n",
        "correo"
      ],
      "metadata": {
        "colab": {
          "base_uri": "https://localhost:8080/",
          "height": 72
        },
        "id": "mR9EBuE5g--g",
        "outputId": "324485ad-c5b8-4221-8c2b-5cda26713162"
      },
      "execution_count": 3,
      "outputs": [
        {
          "output_type": "execute_result",
          "data": {
            "text/plain": [
              "'\\n\\nHola José,\\n\\nTe escribo para solicitar información sobre la vacante que haz puesto en el sitio\\nhttps://miempresa.com y te dejo mi correo pepe@ejemplo.com.\\n\\nSaludos cordiales.\\n\\n'"
            ],
            "application/vnd.google.colaboratory.intrinsic+json": {
              "type": "string"
            }
          },
          "metadata": {},
          "execution_count": 3
        }
      ]
    },
    {
      "cell_type": "code",
      "source": [
        "mensaje = \"hola\\nmundo\\tmundial\"\n",
        "\n",
        "mensaje"
      ],
      "metadata": {
        "colab": {
          "base_uri": "https://localhost:8080/",
          "height": 56
        },
        "id": "d_nmDZZshlDy",
        "outputId": "ceea8459-788b-4aee-8329-71c34be46f07"
      },
      "execution_count": 5,
      "outputs": [
        {
          "output_type": "execute_result",
          "data": {
            "text/plain": [
              "'hola\\nmundo\\tmundial'"
            ],
            "application/vnd.google.colaboratory.intrinsic+json": {
              "type": "string"
            }
          },
          "metadata": {},
          "execution_count": 5
        }
      ]
    },
    {
      "cell_type": "code",
      "source": [
        "print(correo)"
      ],
      "metadata": {
        "colab": {
          "base_uri": "https://localhost:8080/"
        },
        "id": "qX8XgBhZhwEP",
        "outputId": "ba326f2b-58ac-4b7f-90d7-eba3af8b0f63"
      },
      "execution_count": 6,
      "outputs": [
        {
          "output_type": "stream",
          "name": "stdout",
          "text": [
            "\n",
            "\n",
            "Hola José,\n",
            "\n",
            "Te escribo para solicitar información sobre la vacante que haz puesto en el sitio\n",
            "https://miempresa.com y te dejo mi correo pepe@ejemplo.com.\n",
            "\n",
            "Saludos cordiales.\n",
            "\n",
            "\n"
          ]
        }
      ]
    },
    {
      "cell_type": "code",
      "source": [
        "print(mensaje)"
      ],
      "metadata": {
        "colab": {
          "base_uri": "https://localhost:8080/"
        },
        "id": "Rr695pQQh2bB",
        "outputId": "2a52d788-b150-4d1f-ebc1-1ef14a9c4724"
      },
      "execution_count": 7,
      "outputs": [
        {
          "output_type": "stream",
          "name": "stdout",
          "text": [
            "hola\n",
            "mundo\tmundial\n"
          ]
        }
      ]
    },
    {
      "cell_type": "markdown",
      "source": [
        "## Operaciones con textos"
      ],
      "metadata": {
        "id": "aPdfzAoAiLrC"
      }
    },
    {
      "cell_type": "code",
      "source": [
        "\"\\n  \\nhola\\nmundo   \""
      ],
      "metadata": {
        "colab": {
          "base_uri": "https://localhost:8080/",
          "height": 56
        },
        "id": "GiuL5o1ziHPL",
        "outputId": "e5e12c6c-0e2b-4c40-e8a6-5c1f9d7f8932"
      },
      "execution_count": 10,
      "outputs": [
        {
          "output_type": "execute_result",
          "data": {
            "text/plain": [
              "'\\n  \\nhola\\nmundo   '"
            ],
            "application/vnd.google.colaboratory.intrinsic+json": {
              "type": "string"
            }
          },
          "metadata": {},
          "execution_count": 10
        }
      ]
    },
    {
      "cell_type": "code",
      "source": [
        "\"\\n  \\nhola\\nmundo   \".strip() # Quita los caracteres blancos (\\n \\t) al principio y al final"
      ],
      "metadata": {
        "colab": {
          "base_uri": "https://localhost:8080/",
          "height": 56
        },
        "id": "28nGgzQFia4r",
        "outputId": "4a5734fe-cb54-4c7b-d52f-d88cf5f21bde"
      },
      "execution_count": 11,
      "outputs": [
        {
          "output_type": "execute_result",
          "data": {
            "text/plain": [
              "'hola\\nmundo'"
            ],
            "application/vnd.google.colaboratory.intrinsic+json": {
              "type": "string"
            }
          },
          "metadata": {},
          "execution_count": 11
        }
      ]
    },
    {
      "cell_type": "code",
      "source": [
        "\"\\n  \\nhola\\nmundo   \".replace(\"\\n\", \"#\")"
      ],
      "metadata": {
        "colab": {
          "base_uri": "https://localhost:8080/",
          "height": 56
        },
        "id": "cusx_DFCipq8",
        "outputId": "f23b8cf5-5cdf-4f14-972b-62567e124cf5"
      },
      "execution_count": 12,
      "outputs": [
        {
          "output_type": "execute_result",
          "data": {
            "text/plain": [
              "'#  #hola#mundo   '"
            ],
            "application/vnd.google.colaboratory.intrinsic+json": {
              "type": "string"
            }
          },
          "metadata": {},
          "execution_count": 12
        }
      ]
    },
    {
      "cell_type": "code",
      "source": [
        "\"\\n  \\nhola\\nmundo   \".replace(\"\\n\", \" \").strip()"
      ],
      "metadata": {
        "colab": {
          "base_uri": "https://localhost:8080/",
          "height": 56
        },
        "id": "xx3ryaK0iyLL",
        "outputId": "ac75fff2-045f-4d43-afeb-1f28e120c122"
      },
      "execution_count": 14,
      "outputs": [
        {
          "output_type": "execute_result",
          "data": {
            "text/plain": [
              "'hola mundo'"
            ],
            "application/vnd.google.colaboratory.intrinsic+json": {
              "type": "string"
            }
          },
          "metadata": {},
          "execution_count": 14
        }
      ]
    },
    {
      "cell_type": "code",
      "source": [
        "\"manzana,pera,piña,mango,fresa\""
      ],
      "metadata": {
        "colab": {
          "base_uri": "https://localhost:8080/",
          "height": 56
        },
        "id": "HttTdlcCi7Dt",
        "outputId": "962aa208-a81d-456e-cd3a-b9ed93255b71"
      },
      "execution_count": 15,
      "outputs": [
        {
          "output_type": "execute_result",
          "data": {
            "text/plain": [
              "'manzana,pera,piña,mango,fresa'"
            ],
            "application/vnd.google.colaboratory.intrinsic+json": {
              "type": "string"
            }
          },
          "metadata": {},
          "execution_count": 15
        }
      ]
    },
    {
      "cell_type": "code",
      "source": [
        "\"manzana,pera,piña,mango,fresa\".split(\",\") # -> Devuelve la lista de los textos cortados por el separador (texto de corte)"
      ],
      "metadata": {
        "colab": {
          "base_uri": "https://localhost:8080/"
        },
        "id": "nmbRq68pjCpt",
        "outputId": "594ca3e7-1083-4bd5-d8ce-6288c43d2851"
      },
      "execution_count": 16,
      "outputs": [
        {
          "output_type": "execute_result",
          "data": {
            "text/plain": [
              "['manzana', 'pera', 'piña', 'mango', 'fresa']"
            ]
          },
          "metadata": {},
          "execution_count": 16
        }
      ]
    },
    {
      "cell_type": "code",
      "source": [
        "\"pepe@ejemplo.com\".split(\"@\")"
      ],
      "metadata": {
        "colab": {
          "base_uri": "https://localhost:8080/"
        },
        "id": "qG19XBwhjMIL",
        "outputId": "fd8f9bd1-5d53-4df1-ca31-1ad5683a9b55"
      },
      "execution_count": 17,
      "outputs": [
        {
          "output_type": "execute_result",
          "data": {
            "text/plain": [
              "['pepe', 'ejemplo.com']"
            ]
          },
          "metadata": {},
          "execution_count": 17
        }
      ]
    },
    {
      "cell_type": "code",
      "source": [
        "\"abc123::def678::xyz993\".split(\"::\")"
      ],
      "metadata": {
        "colab": {
          "base_uri": "https://localhost:8080/"
        },
        "id": "5jQvsyTkjU2Q",
        "outputId": "88b2a097-47ef-4d8b-f6b0-061ce1bcbb88"
      },
      "execution_count": 18,
      "outputs": [
        {
          "output_type": "execute_result",
          "data": {
            "text/plain": [
              "['abc123', 'def678', 'xyz993']"
            ]
          },
          "metadata": {},
          "execution_count": 18
        }
      ]
    },
    {
      "cell_type": "code",
      "source": [
        "\"hola mundo\".capitalize()"
      ],
      "metadata": {
        "colab": {
          "base_uri": "https://localhost:8080/",
          "height": 56
        },
        "id": "QU91V2JTjiBC",
        "outputId": "20ea168b-d864-4f39-f61e-87dc75fb8043"
      },
      "execution_count": 19,
      "outputs": [
        {
          "output_type": "execute_result",
          "data": {
            "text/plain": [
              "'Hola mundo'"
            ],
            "application/vnd.google.colaboratory.intrinsic+json": {
              "type": "string"
            }
          },
          "metadata": {},
          "execution_count": 19
        }
      ]
    },
    {
      "cell_type": "code",
      "source": [
        "nombres = \"josé luis antonio sánchez ávila\".split(\" \")\n",
        "nombres"
      ],
      "metadata": {
        "colab": {
          "base_uri": "https://localhost:8080/"
        },
        "id": "l9OyDdWTjprC",
        "outputId": "05807742-0293-4857-d48a-3263da9798fa"
      },
      "execution_count": 21,
      "outputs": [
        {
          "output_type": "execute_result",
          "data": {
            "text/plain": [
              "['josé', 'luis', 'antonio', 'sánchez', 'ávila']"
            ]
          },
          "metadata": {},
          "execution_count": 21
        }
      ]
    },
    {
      "cell_type": "code",
      "source": [
        "nombres_capitalizados = [nombre.capitalize() for nombre in nombres]\n",
        "\n",
        "nombres_capitalizados"
      ],
      "metadata": {
        "colab": {
          "base_uri": "https://localhost:8080/"
        },
        "id": "YXzM_V1Hj0lJ",
        "outputId": "25f17156-a588-4f6a-e1f5-79d40f894b53"
      },
      "execution_count": 23,
      "outputs": [
        {
          "output_type": "execute_result",
          "data": {
            "text/plain": [
              "['José', 'Luis', 'Antonio', 'Sánchez', 'Ávila']"
            ]
          },
          "metadata": {},
          "execution_count": 23
        }
      ]
    },
    {
      "cell_type": "code",
      "source": [
        "\",\".join(nombres_capitalizados)"
      ],
      "metadata": {
        "colab": {
          "base_uri": "https://localhost:8080/",
          "height": 56
        },
        "id": "NOdsz1UWj9dd",
        "outputId": "a8011996-aecd-4828-9259-953f37e55780"
      },
      "execution_count": 24,
      "outputs": [
        {
          "output_type": "execute_result",
          "data": {
            "text/plain": [
              "'José,Luis,Antonio,Sánchez,Ávila'"
            ],
            "application/vnd.google.colaboratory.intrinsic+json": {
              "type": "string"
            }
          },
          "metadata": {},
          "execution_count": 24
        }
      ]
    },
    {
      "cell_type": "code",
      "source": [
        "\" \".join(nombres_capitalizados)"
      ],
      "metadata": {
        "colab": {
          "base_uri": "https://localhost:8080/",
          "height": 56
        },
        "id": "fe-Q0ZmCkE_R",
        "outputId": "88ab5310-fc6c-4f08-f102-bc042c5e6cf8"
      },
      "execution_count": 25,
      "outputs": [
        {
          "output_type": "execute_result",
          "data": {
            "text/plain": [
              "'José Luis Antonio Sánchez Ávila'"
            ],
            "application/vnd.google.colaboratory.intrinsic+json": {
              "type": "string"
            }
          },
          "metadata": {},
          "execution_count": 25
        }
      ]
    },
    {
      "cell_type": "code",
      "source": [
        "\"::\".join(nombres_capitalizados)"
      ],
      "metadata": {
        "colab": {
          "base_uri": "https://localhost:8080/",
          "height": 56
        },
        "id": "3Qea3Hg5kGhA",
        "outputId": "dc275b58-f37f-4b97-c59d-dd90f9eb9fb4"
      },
      "execution_count": 26,
      "outputs": [
        {
          "output_type": "execute_result",
          "data": {
            "text/plain": [
              "'José::Luis::Antonio::Sánchez::Ávila'"
            ],
            "application/vnd.google.colaboratory.intrinsic+json": {
              "type": "string"
            }
          },
          "metadata": {},
          "execution_count": 26
        }
      ]
    },
    {
      "cell_type": "code",
      "source": [
        "\"123\".isnumeric()"
      ],
      "metadata": {
        "colab": {
          "base_uri": "https://localhost:8080/"
        },
        "id": "t6rZ6XZzkOsU",
        "outputId": "31b709e9-3b75-4d99-a23b-2950a620af2c"
      },
      "execution_count": 27,
      "outputs": [
        {
          "output_type": "execute_result",
          "data": {
            "text/plain": [
              "True"
            ]
          },
          "metadata": {},
          "execution_count": 27
        }
      ]
    },
    {
      "cell_type": "code",
      "source": [
        "edad = int(input(\"Dame tu edad: \"))\n",
        "\n",
        "print(\"Tienes\", edad, \"años\")"
      ],
      "metadata": {
        "colab": {
          "base_uri": "https://localhost:8080/"
        },
        "id": "LaV6w1_TkvTp",
        "outputId": "351a65ee-ae38-4f70-8972-c4efd6c6710b"
      },
      "execution_count": 35,
      "outputs": [
        {
          "output_type": "stream",
          "name": "stdout",
          "text": [
            "Dame tu edad: 24\n",
            "Tienes 24 años\n"
          ]
        }
      ]
    },
    {
      "cell_type": "code",
      "source": [
        "respuesta = input(\"Dame tu edad: \")\n",
        "\n",
        "if respuesta.isnumeric():\n",
        "  edad = int(respuesta)\n",
        "  print(\"Tienes\", edad, \"años\")\n",
        "else:\n",
        "  print(\"La edad no es numérica\")"
      ],
      "metadata": {
        "colab": {
          "base_uri": "https://localhost:8080/"
        },
        "id": "5bloL09GkXvF",
        "outputId": "79312ea7-54bb-4afa-ee6f-47fd706effe8"
      },
      "execution_count": 32,
      "outputs": [
        {
          "output_type": "stream",
          "name": "stdout",
          "text": [
            "Dame tu edad: hola\n",
            "La edad no es numérica\n"
          ]
        }
      ]
    },
    {
      "cell_type": "code",
      "source": [
        "matricula = input(\"Dame la matrícula: \")\n",
        "\n",
        "if not (matricula.isalpha() or matricula.isalnum()):\n",
        "  print(\"La matrícula no es válida\")\n",
        "else:\n",
        "  print(\"La matrícula será aceptada\")"
      ],
      "metadata": {
        "colab": {
          "base_uri": "https://localhost:8080/"
        },
        "id": "_c5ZdN8Pk66Z",
        "outputId": "4407bab2-51a1-4926-91f0-8246ee1a6fa8"
      },
      "execution_count": 40,
      "outputs": [
        {
          "output_type": "stream",
          "name": "stdout",
          "text": [
            "Dame la matrícula: abc123?\n",
            "La matrícula no es válida\n"
          ]
        }
      ]
    },
    {
      "cell_type": "code",
      "source": [
        "ids = [\"cli123\", \"cli456\", \"cli993\"]\n",
        "\n",
        "ids"
      ],
      "metadata": {
        "colab": {
          "base_uri": "https://localhost:8080/"
        },
        "id": "x2TJFTJxllNu",
        "outputId": "a00b677e-fe0e-4f2c-f1d6-a8a3fc361206"
      },
      "execution_count": 41,
      "outputs": [
        {
          "output_type": "execute_result",
          "data": {
            "text/plain": [
              "['cli123', 'cli456', 'cli993']"
            ]
          },
          "metadata": {},
          "execution_count": 41
        }
      ]
    },
    {
      "cell_type": "code",
      "source": [
        "[ id.removeprefix(\"cli\") for id in ids ]"
      ],
      "metadata": {
        "colab": {
          "base_uri": "https://localhost:8080/"
        },
        "id": "ycejmBtRl7DR",
        "outputId": "45e5342b-6c4e-4686-d1c7-fc92c944000c"
      },
      "execution_count": 44,
      "outputs": [
        {
          "output_type": "execute_result",
          "data": {
            "text/plain": [
              "['123', '456', '993']"
            ]
          },
          "metadata": {},
          "execution_count": 44
        }
      ]
    },
    {
      "cell_type": "code",
      "source": [
        "[ int(id.removeprefix(\"cli\")) for id in ids ]"
      ],
      "metadata": {
        "colab": {
          "base_uri": "https://localhost:8080/"
        },
        "id": "85udnFzzmHhP",
        "outputId": "7a9434ba-35ea-4804-9441-bd570fd1e61b"
      },
      "execution_count": 45,
      "outputs": [
        {
          "output_type": "execute_result",
          "data": {
            "text/plain": [
              "[123, 456, 993]"
            ]
          },
          "metadata": {},
          "execution_count": 45
        }
      ]
    },
    {
      "cell_type": "markdown",
      "source": [
        "## Formato de textos"
      ],
      "metadata": {
        "id": "SJfJ9JURmRFj"
      }
    },
    {
      "cell_type": "code",
      "source": [
        "nombre = \"Coca Cola\"\n",
        "precio = 23.5\n",
        "existencias = 14\n",
        "alcoholica = False"
      ],
      "metadata": {
        "id": "4yJrEIPfmZ54"
      },
      "execution_count": 46,
      "outputs": []
    },
    {
      "cell_type": "code",
      "source": [
        "print(nombre)\n",
        "print(precio)\n",
        "print(existencias)\n",
        "print(alcoholica)"
      ],
      "metadata": {
        "colab": {
          "base_uri": "https://localhost:8080/"
        },
        "id": "mK8MaLEtmq9C",
        "outputId": "563b61b2-b9c3-4a6f-d339-7010d8ba686e"
      },
      "execution_count": 47,
      "outputs": [
        {
          "output_type": "stream",
          "name": "stdout",
          "text": [
            "Coca Cola\n",
            "23.5\n",
            "14\n",
            "False\n"
          ]
        }
      ]
    },
    {
      "cell_type": "code",
      "source": [
        "print(\"Nombre:\", nombre)\n",
        "print(\"Precio:\", precio)\n",
        "print(\"Existencias:\", existencias)\n",
        "print(\"Bebida alcohólica:\", alcoholica)"
      ],
      "metadata": {
        "colab": {
          "base_uri": "https://localhost:8080/"
        },
        "id": "Pn38QwM0mvYC",
        "outputId": "0df59876-f3c1-4980-cec8-40e8cfabde0d"
      },
      "execution_count": 48,
      "outputs": [
        {
          "output_type": "stream",
          "name": "stdout",
          "text": [
            "Nombre: Coca Cola\n",
            "Precio: 23.5\n",
            "Existencias: 14\n",
            "Bebida alcohólica: False\n"
          ]
        }
      ]
    },
    {
      "cell_type": "markdown",
      "source": [
        "### F-String (Texto con formato)\n",
        "\n",
        "Es una plantilla que permite incrustar valores dentro del texto para formar un reporte o un texto que incorpore esa información.\n",
        "\n",
        "> Sintaxis: Crear un f-string\n",
        "\n",
        "```python\n",
        "f\"Contenido del texto {<valor1>} ... {<valor2>} ... {...}\"\n",
        "```"
      ],
      "metadata": {
        "id": "FyWC2U4snBCg"
      }
    },
    {
      "cell_type": "code",
      "source": [
        "reporte1 = f\"Producto: {nombre} | Precio: {precio} | Existencias: {existencias} | ¿Alcohol?: {alcoholica}\"\n",
        "\n",
        "reporte1"
      ],
      "metadata": {
        "colab": {
          "base_uri": "https://localhost:8080/",
          "height": 56
        },
        "id": "neMnEAuWm7kg",
        "outputId": "a53be8a3-e0a6-4d0d-f666-0713ffa2923d"
      },
      "execution_count": 53,
      "outputs": [
        {
          "output_type": "execute_result",
          "data": {
            "text/plain": [
              "'Producto: Coca Cola | Precio: 23.5 | Existencias: 14 | ¿Alcohol?: False'"
            ],
            "application/vnd.google.colaboratory.intrinsic+json": {
              "type": "string"
            }
          },
          "metadata": {},
          "execution_count": 53
        }
      ]
    },
    {
      "cell_type": "code",
      "source": [
        "reporte2 = f\"\"\"\n",
        "\n",
        "Producto: {nombre}\n",
        "---------------------------------\n",
        "Precio: {precio} / Existencias: {existencias}\n",
        "---------------------------------\n",
        "¿Alcohol? {alcoholica}\n",
        "\n",
        "\"\"\"\n",
        "\n",
        "print(reporte2)"
      ],
      "metadata": {
        "colab": {
          "base_uri": "https://localhost:8080/"
        },
        "id": "nl1wguitnwya",
        "outputId": "3bfa5a57-9d54-4c50-b820-1d9049bde3a6"
      },
      "execution_count": 57,
      "outputs": [
        {
          "output_type": "stream",
          "name": "stdout",
          "text": [
            "\n",
            "\n",
            "Producto: Coca Cola\n",
            "---------------------------------\n",
            "Precio: 23.5 / Existencias: 14\n",
            "---------------------------------\n",
            "¿Alcohol? False\n",
            "\n",
            "\n"
          ]
        }
      ]
    },
    {
      "cell_type": "markdown",
      "source": [
        "Lista de configuraciones para los `f-string`\n",
        "\n",
        "* `:<n>` - Configura el número de caracteres que ocupará el dato incrustado\n",
        "* `:<n>.<m>f` - Establece cuántos caracteres usará el dato y de esos cuántos serán para los decimales\n",
        "* `:0<n>` - Podemos configurar rellenar con ceros en lugar de espacios\n",
        "* `:^<n>` - Centre el dato en los `n` caracteres que ocupará\n",
        "* `:><n>` - Justifique el dato a la derecha en los `n` caracteres que ocupará\n",
        "* `:<<n>` - Justifique el dato a la izquierda en los `n` caracteres que ocupará"
      ],
      "metadata": {
        "id": "Az-lKFT0oHlc"
      }
    },
    {
      "cell_type": "code",
      "source": [
        "reporte3 = f\"\"\"\n",
        "\n",
        "Producto: {nombre:>27}\n",
        "--------------------------------------\n",
        "Precio: ${precio:8.2f} / Existencias: {existencias:04}\n",
        "--------------------------------------\n",
        "¿Alcohol? {({True: \"✅ (SI)\", False: \"❌ (No)\"}[alcoholica]):^26}\n",
        "\n",
        "\"\"\"\n",
        "\n",
        "print(reporte3)"
      ],
      "metadata": {
        "colab": {
          "base_uri": "https://localhost:8080/"
        },
        "id": "jmhPDD1-ooIa",
        "outputId": "54e0d0fd-2133-4495-ef60-8c339d1d5979"
      },
      "execution_count": 79,
      "outputs": [
        {
          "output_type": "stream",
          "name": "stdout",
          "text": [
            "\n",
            "\n",
            "Producto:                   Coca Cola\n",
            "--------------------------------------\n",
            "Precio: $   23.50 / Existencias: 0014\n",
            "--------------------------------------\n",
            "¿Alcohol?           ❌ (No)          \n",
            "\n",
            "\n"
          ]
        }
      ]
    },
    {
      "cell_type": "markdown",
      "source": [
        "## Ejercicio - Generar un reporte para los datos de un estudiante\n",
        "\n",
        "Define 3 variables\n",
        "\n",
        "* **Matrícula**: Matrícula del alumno\n",
        "* **Nombre**: Nombre del alumno\n",
        "* **Materia**: Materia en la que está inscrito\n",
        "\n",
        "Genera el reporte que se vea similar a:\n",
        "\n",
        "```text\n",
        "=========================\n",
        "MATRÍCULA:         000123\n",
        "-------------------------\n",
        "  Sánchez Romero, Juan\n",
        "-------------------------\n",
        "                Filosofía\n",
        "=========================\n",
        "```"
      ],
      "metadata": {
        "id": "5vnZGwitqD8A"
      }
    },
    {
      "cell_type": "code",
      "source": [
        "matricula = 456\n",
        "nombre = \"Pedro Juárez Díaz\"\n",
        "materia = \"Matemáticas\"\n",
        "\n",
        "reporte4 = f\"\"\"\n",
        "=========================\n",
        "MATRÍCULA:         {matricula:06}\n",
        "-------------------------\n",
        "{nombre:^25}\n",
        "-------------------------\n",
        "{materia:>25}\n",
        "=========================\n",
        "\"\"\"\n",
        "\n",
        "print(reporte4)"
      ],
      "metadata": {
        "colab": {
          "base_uri": "https://localhost:8080/"
        },
        "id": "OPWH9RvLt_ou",
        "outputId": "5d5f2590-6329-4d89-f1ab-eaf1de06b3ac"
      },
      "execution_count": 89,
      "outputs": [
        {
          "output_type": "stream",
          "name": "stdout",
          "text": [
            "\n",
            "=========================\n",
            "MATRÍCULA:         000456\n",
            "-------------------------\n",
            "    Pedro Juárez Díaz    \n",
            "-------------------------\n",
            "              Matemáticas\n",
            "=========================\n",
            "\n"
          ]
        }
      ]
    },
    {
      "cell_type": "code",
      "source": [
        "productos = [\n",
        "    # { \"nombre\": \"Coca Cola\", \"precio\": 23.5, \"cantidad\": 2 },\n",
        "    # dict(nombre=\"Coca Cola\", precio=23.5, cantidad=2),\n",
        "    (\"Coca Cola\", 23.5, 2),\n",
        "    (\"Gansito\", 20.5, 3),\n",
        "    (\"Sabritas\", 45.0, 1),\n",
        "    (\"Chetos\", 38.5, 1),\n",
        "    (\"Trident\", 28.0, 1),\n",
        "    (\"Yog. Lala\", 12.0, 1),\n",
        "]\n",
        "\n",
        "productos"
      ],
      "metadata": {
        "colab": {
          "base_uri": "https://localhost:8080/"
        },
        "id": "1S_UlE9Lvdzd",
        "outputId": "050be007-affe-410b-fab3-e9769d407046"
      },
      "execution_count": 145,
      "outputs": [
        {
          "output_type": "execute_result",
          "data": {
            "text/plain": [
              "[('Coca Cola', 23.5, 2),\n",
              " ('Gansito', 20.5, 3),\n",
              " ('Sabritas', 45.0, 1),\n",
              " ('Chetos', 38.5, 1),\n",
              " ('Trident', 28.0, 1),\n",
              " ('Yog. Lala', 12.0, 1)]"
            ]
          },
          "metadata": {},
          "execution_count": 145
        }
      ]
    },
    {
      "cell_type": "code",
      "source": [
        "ticket = \"\"\n",
        "\n",
        "titulo = \"OTZO SA DE CV\"\n",
        "subtitulo = \"Jul 16, 2025 15:45:33\"\n",
        "\n",
        "ticket += f\"{titulo:^37}\\n\\n\"\n",
        "ticket += f\"{subtitulo:^37}\\n\\n\"\n",
        "\n",
        "ticket += \"-\" * 37 + \"\\n\"\n",
        "\n",
        "total = 0\n",
        "\n",
        "for nombre, precio, cantidad in productos:\n",
        "  total += precio * cantidad\n",
        "  ticket += f\"{nombre.upper():10} U{precio:7.2f}    x {cantidad:02}   {precio * cantidad:7.2f}\\n\"\n",
        "\n",
        "ticket += \"-\" * 37 + \"\\n\\n\"\n",
        "\n",
        "ticket += \" \" * 21 + f\"Total: ${total:8.2f}\"\n",
        "\n",
        "print(ticket)"
      ],
      "metadata": {
        "colab": {
          "base_uri": "https://localhost:8080/"
        },
        "id": "aBFPPqiAwcxK",
        "outputId": "32d964ee-c21b-4f1e-c280-418ed36ef66c"
      },
      "execution_count": 146,
      "outputs": [
        {
          "output_type": "stream",
          "name": "stdout",
          "text": [
            "            OTZO SA DE CV            \n",
            "\n",
            "        Jul 16, 2025 15:45:33        \n",
            "\n",
            "-------------------------------------\n",
            "COCA COLA  U  23.50    x 02     47.00\n",
            "GANSITO    U  20.50    x 03     61.50\n",
            "SABRITAS   U  45.00    x 01     45.00\n",
            "CHETOS     U  38.50    x 01     38.50\n",
            "TRIDENT    U  28.00    x 01     28.00\n",
            "YOG. LALA  U  12.00    x 01     12.00\n",
            "-------------------------------------\n",
            "\n",
            "                     Total: $  232.00\n"
          ]
        }
      ]
    },
    {
      "cell_type": "markdown",
      "source": [
        "# Manejo de Archivos de Texto\n",
        "\n",
        "Los archivos son referencias a archivos físicos de la computadora y se enlazan en python en el modo de escritura o lectura para poder leer o escribir (agregar o reemplazar) su contenido\n",
        "\n",
        "* **Lectura** - `r`, `rb`, `~+` es el modo en el que podemos leer el contenido\n",
        "* **Escritura** - `w`, `wb`, `a`, `~+` es el modo en el que podemos escribir o sobreescribir el contenido\n",
        "\n",
        "Para recibir el enlace o referencia al archivo y aplicar sus métodos necesitamos la función `open(<ruta>, <modo>)` donde `<modo>` puede ser `r`, `rb`, `w`, `wb`, `a`, etc.\n",
        "\n",
        "Según el modo tendrémos disponibles los métodos\n",
        "\n",
        "* `<archivo>.read()` - devuelve el contenido en modo de texto o *bytes*\n",
        "* `<archivo>.write(<contenido>)` - escribe el contenido de texto o *bytes*\n",
        "\n",
        "Al final de ocupar el archivo (leer o escribir) se recomienda cerrarlo con `<archivo>.close()`"
      ],
      "metadata": {
        "id": "zwj65tzqzimH"
      }
    },
    {
      "cell_type": "code",
      "source": [
        "archivo = open(\"ticket.txt\", \"w\") # .write(<contenido>)\n",
        "\n",
        "# ! Solo se permite escribir todo de golpe\n",
        "archivo.write(ticket)\n",
        "\n",
        "archivo.close()"
      ],
      "metadata": {
        "id": "TVSmph0Nzdeq"
      },
      "execution_count": 147,
      "outputs": []
    },
    {
      "cell_type": "markdown",
      "source": [
        "## Leer el contenido de archivos"
      ],
      "metadata": {
        "id": "kKimUXjA1sbs"
      }
    },
    {
      "cell_type": "code",
      "source": [
        "archivo = open(\"ticket.txt\", \"r\") # .read() -> <contenido>\n",
        "\n",
        "contenido = archivo.read()\n",
        "\n",
        "archivo.close()\n",
        "\n",
        "print(contenido)"
      ],
      "metadata": {
        "colab": {
          "base_uri": "https://localhost:8080/"
        },
        "id": "rVvOs3g31vtH",
        "outputId": "3e7ac492-3abe-49af-c9fb-570d485638a7"
      },
      "execution_count": 150,
      "outputs": [
        {
          "output_type": "stream",
          "name": "stdout",
          "text": [
            "            OTZO SA DE CV            \n",
            "\n",
            "        Jul 16, 2025 15:45:33        \n",
            "\n",
            "-------------------------------------\n",
            "COCA COLA  U  23.50    x 02     47.00\n",
            "GANSITO    U  20.50    x 03     61.50\n",
            "SABRITAS   U  45.00    x 01     45.00\n",
            "CHETOS     U  38.50    x 01     38.50\n",
            "TRIDENT    U  28.00    x 01     28.00\n",
            "YOG. LALA  U  12.00    x 01     12.00\n",
            "-------------------------------------\n",
            "\n",
            "                     Total: $  232.00\n"
          ]
        }
      ]
    },
    {
      "cell_type": "markdown",
      "source": [
        "## Forma segura al leer archivos"
      ],
      "metadata": {
        "id": "YHgR4U0I2LLn"
      }
    },
    {
      "cell_type": "code",
      "source": [
        "with open(\"ticket.txt\", \"r\") as archivo:\n",
        "  contenido = archivo.read()\n",
        "\n",
        "  print(contenido)"
      ],
      "metadata": {
        "colab": {
          "base_uri": "https://localhost:8080/"
        },
        "id": "3okTRWlS2K94",
        "outputId": "ec6e3f1b-acb6-4f4d-e74a-3106ba29c26a"
      },
      "execution_count": 155,
      "outputs": [
        {
          "output_type": "stream",
          "name": "stdout",
          "text": [
            "            OTZO SA DE CV            \n",
            "\n",
            "        Jul 16, 2025 15:45:33        \n",
            "\n",
            "-------------------------------------\n",
            "COCA COLA  U  23.50    x 02     47.00\n",
            "GANSITO    U  20.50    x 03     61.50\n",
            "SABRITAS   U  45.00    x 01     45.00\n",
            "CHETOS     U  38.50    x 01     38.50\n",
            "TRIDENT    U  28.00    x 01     28.00\n",
            "YOG. LALA  U  12.00    x 01     12.00\n",
            "-------------------------------------\n",
            "\n",
            "                     Total: $  232.00\n"
          ]
        }
      ]
    },
    {
      "cell_type": "code",
      "source": [
        "import re\n",
        "\n",
        "archivo = open(\"ticket.txt\", \"r\")\n",
        "\n",
        "patronProducto = r\"([^U]+)U\\s*(\\d+\\.\\d{2})\\s*x\\s*(\\d{2})\\s*(\\d+\\.\\d{2})\"\n",
        "\n",
        "productos = []\n",
        "\n",
        "for linea in archivo:\n",
        "  m = re.match(patronProducto, linea)\n",
        "  if not m is None:\n",
        "    nombre = m.group(1)\n",
        "    precio = float(m.group(2))\n",
        "    cantidad = int(m.group(3))\n",
        "    sub = float(m.group(4))\n",
        "    print(nombre, precio, cantidad, sub)\n",
        "\n",
        "    productos.append((nombre.strip(), precio, cantidad, sub))\n",
        "\n",
        "archivo.close()\n",
        "\n",
        "productos"
      ],
      "metadata": {
        "colab": {
          "base_uri": "https://localhost:8080/"
        },
        "id": "4is5dx3p2KTm",
        "outputId": "1469499f-2bc3-4242-b5f7-7027de18b758"
      },
      "execution_count": 165,
      "outputs": [
        {
          "output_type": "stream",
          "name": "stdout",
          "text": [
            "COCA COLA   23.5 2 47.0\n",
            "GANSITO     20.5 3 61.5\n",
            "SABRITAS    45.0 1 45.0\n",
            "CHETOS      38.5 1 38.5\n",
            "TRIDENT     28.0 1 28.0\n",
            "YOG. LALA   12.0 1 12.0\n"
          ]
        },
        {
          "output_type": "execute_result",
          "data": {
            "text/plain": [
              "[('COCA COLA', 23.5, 2, 47.0),\n",
              " ('GANSITO', 20.5, 3, 61.5),\n",
              " ('SABRITAS', 45.0, 1, 45.0),\n",
              " ('CHETOS', 38.5, 1, 38.5),\n",
              " ('TRIDENT', 28.0, 1, 28.0),\n",
              " ('YOG. LALA', 12.0, 1, 12.0)]"
            ]
          },
          "metadata": {},
          "execution_count": 165
        }
      ]
    }
  ]
}