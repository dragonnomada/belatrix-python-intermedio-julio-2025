{
  "nbformat": 4,
  "nbformat_minor": 0,
  "metadata": {
    "colab": {
      "provenance": []
    },
    "kernelspec": {
      "name": "python3",
      "display_name": "Python 3"
    },
    "language_info": {
      "name": "python"
    }
  },
  "cells": [
    {
      "cell_type": "markdown",
      "source": [
        "# Python Intermedio - Ejercicios 4\n",
        "\n",
        "---\n",
        "\n",
        "\n",
        "\n",
        "![logo](https://www.belatrix.com/wp-content/uploads/2023/08/belatrix-logosweb-1.png)"
      ],
      "metadata": {
        "id": "pIepQOSLVQjW"
      }
    },
    {
      "cell_type": "markdown",
      "source": [
        "> Carga la tabla de datos desde el archivo CSV `Personas.csv`\n",
        "\n",
        "https://github.com/dragonnomada/belatrix-python-intermedio-julio-2025/tree/main/datos"
      ],
      "metadata": {
        "id": "O8xjCGJpVfNl"
      }
    },
    {
      "cell_type": "code",
      "execution_count": null,
      "metadata": {
        "id": "BuS2YtdCVOb7"
      },
      "outputs": [],
      "source": [
        "# Tu código aquí"
      ]
    },
    {
      "cell_type": "markdown",
      "source": [
        "> Carga la tabla de datos desde el archivo de Excel `Personas.xlsx`\n",
        "\n",
        "https://github.com/dragonnomada/belatrix-python-intermedio-julio-2025/tree/main/datos"
      ],
      "metadata": {
        "id": "8k5u2cNpWDZL"
      }
    },
    {
      "cell_type": "code",
      "source": [
        "# tu código aquí"
      ],
      "metadata": {
        "id": "MtUjyKZcWbE9"
      },
      "execution_count": null,
      "outputs": []
    }
  ]
}