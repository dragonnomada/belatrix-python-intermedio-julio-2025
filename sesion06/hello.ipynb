{
 "cells": [
  {
   "cell_type": "markdown",
   "id": "6ecddfc1",
   "metadata": {},
   "source": [
    "# Hola Python\n",
    "\n",
    "Alan\n",
    "\n",
    "Julio 21, 2025"
   ]
  },
  {
   "cell_type": "code",
   "execution_count": 1,
   "id": "4105f9a0",
   "metadata": {},
   "outputs": [
    {
     "data": {
      "text/plain": [
       "4"
      ]
     },
     "execution_count": 1,
     "metadata": {},
     "output_type": "execute_result"
    }
   ],
   "source": [
    "2 + 2"
   ]
  },
  {
   "cell_type": "code",
   "execution_count": 2,
   "id": "15432536",
   "metadata": {},
   "outputs": [],
   "source": [
    "a = 123"
   ]
  },
  {
   "cell_type": "markdown",
   "id": "c66a7090",
   "metadata": {},
   "source": [
    "## Módulo 1 - Prueba 1"
   ]
  }
 ],
 "metadata": {
  "kernelspec": {
   "display_name": "Python 3",
   "language": "python",
   "name": "python3"
  },
  "language_info": {
   "codemirror_mode": {
    "name": "ipython",
    "version": 3
   },
   "file_extension": ".py",
   "mimetype": "text/x-python",
   "name": "python",
   "nbconvert_exporter": "python",
   "pygments_lexer": "ipython3",
   "version": "3.13.5"
  }
 },
 "nbformat": 4,
 "nbformat_minor": 5
}
