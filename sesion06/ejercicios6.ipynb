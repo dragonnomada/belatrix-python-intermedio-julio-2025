{
  "nbformat": 4,
  "nbformat_minor": 0,
  "metadata": {
    "colab": {
      "provenance": []
    },
    "kernelspec": {
      "name": "python3",
      "display_name": "Python 3"
    },
    "language_info": {
      "name": "python"
    }
  },
  "cells": [
    {
      "cell_type": "markdown",
      "source": [
        "# Python Intermedio - Ejercicios 6\n",
        "\n",
        "---\n",
        "\n",
        "\n",
        "\n",
        "![logo](https://www.belatrix.com/wp-content/uploads/2023/08/belatrix-logosweb-1.png)"
      ],
      "metadata": {
        "id": "pIepQOSLVQjW"
      }
    },
    {
      "cell_type": "markdown",
      "source": [
        "> Crea una clase llamada `Contador` que tenga un atributo para guardar un conteo y un método llamado `incrementar()` que aumente en uno el conteo"
      ],
      "metadata": {
        "id": "O8xjCGJpVfNl"
      }
    },
    {
      "cell_type": "code",
      "execution_count": null,
      "metadata": {
        "id": "BuS2YtdCVOb7"
      },
      "outputs": [],
      "source": [
        "# Tu código aquí"
      ]
    },
    {
      "cell_type": "markdown",
      "source": [
        "> Deriva la clase contador para agregar un método adicional llamado `decrementar()` que disminuya el conteo"
      ],
      "metadata": {
        "id": "8k5u2cNpWDZL"
      }
    },
    {
      "cell_type": "code",
      "source": [
        "# tu código aquí"
      ],
      "metadata": {
        "id": "MtUjyKZcWbE9"
      },
      "execution_count": null,
      "outputs": []
    },
    {
      "cell_type": "markdown",
      "source": [
        "> Crea un menú que muestre el valor actual del contador y dos opciones para aumentar y disminuir"
      ],
      "metadata": {
        "id": "Xf4XGBGiU4Oh"
      }
    },
    {
      "cell_type": "code",
      "source": [
        "# Tu código aquí"
      ],
      "metadata": {
        "id": "ifmGF4w1U2C3"
      },
      "execution_count": null,
      "outputs": []
    }
  ]
}