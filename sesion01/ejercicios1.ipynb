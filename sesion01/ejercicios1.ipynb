{
 "cells": [
  {
   "cell_type": "markdown",
   "id": "83e483ac",
   "metadata": {},
   "source": [
    "> Construye las variables necesarias para almacenar los datos de un producto, considera que contenga:\n",
    "\n",
    "* Nombre\n",
    "* Descripción\n",
    "* Precio\n",
    "* Existencias\n",
    "* Categoría\n",
    "* Departamento"
   ]
  },
  {
   "cell_type": "code",
   "execution_count": null,
   "id": "ff949b05",
   "metadata": {},
   "outputs": [],
   "source": [
    "# Tu código"
   ]
  },
  {
   "cell_type": "markdown",
   "id": "f20731d0",
   "metadata": {},
   "source": [
    "> Crea una función que reciba un precio y su categoría y devuelva el precio con los siguientes impuestos:\n",
    "\n",
    "* Aumentar el IVA (16%)\n",
    "\n",
    "Si la categoría es \"Alimento Básico\" devolver el precio más IVA\n",
    "\n",
    "Si la categoría es \"Alimento Chatarra\":\n",
    "\n",
    "* Aumentar IEPS de alimentos no básicos (8%)"
   ]
  },
  {
   "cell_type": "code",
   "execution_count": null,
   "id": "21c93227",
   "metadata": {},
   "outputs": [],
   "source": [
    "# Tu código"
   ]
  },
  {
   "cell_type": "markdown",
   "id": "763da90b",
   "metadata": {},
   "source": [
    "> Crea una variable llamada `aumentar_iva` que contenga una función lambda que aumente el 16% del precio recibido en la expresión"
   ]
  },
  {
   "cell_type": "code",
   "execution_count": null,
   "id": "44d7b480",
   "metadata": {},
   "outputs": [],
   "source": [
    "# Tu código"
   ]
  },
  {
   "cell_type": "markdown",
   "id": "58527c92",
   "metadata": {},
   "source": [
    "> Genera una lista con al menos 20 precios distintos\n",
    "\n",
    "* Obtén el total de precios (tamaño de la lista)\n",
    "* Obtén el precio máximo\n",
    "* Obtén el precio mínimo\n",
    "* Obtén la suma de precios\n",
    "* Obtén el precio promedio\n",
    "* Obtén la lista de precios ordenada de menor a mayor\n",
    "* Obtén la lista de precios ordenada de mayor a menor\n",
    "* Obtén los tres precios más bajos\n",
    "* Obtén los tres precios más altos\n",
    "* Obtén el precio mediano (al índice de enmedio)\n",
    "* Obtén el precio del cuartil 1 (al índice de una cuarta parte del tamaño de la lista) \n",
    "* Obtén el precio del cuartil 3 (al índice de tres cuartss partes del tamaño de la lista)"
   ]
  },
  {
   "cell_type": "code",
   "execution_count": null,
   "id": "7d16b30a",
   "metadata": {},
   "outputs": [],
   "source": [
    "# Tu código"
   ]
  },
  {
   "cell_type": "markdown",
   "id": "4199d490",
   "metadata": {},
   "source": [
    "> Crea una lista generada con los precios más IVA\n",
    "\n",
    "* Toma cada elemento de la lista de precios anterior y transforma el precio con la función lambda `aumentar_iva` y pon el resultado en una lista generada"
   ]
  },
  {
   "cell_type": "code",
   "execution_count": null,
   "id": "12201b51",
   "metadata": {},
   "outputs": [],
   "source": [
    "# Tu código"
   ]
  },
  {
   "cell_type": "markdown",
   "id": "ea8042f8",
   "metadata": {},
   "source": [
    "> Crea una lista de 2-tuplas que contenga el `(precio_anterior, precio_actual)`\n",
    "\n",
    "* Recorre cada tupla de la lista\n",
    "* Para cada tupla de precios, indica cual es la inflación de cada precio usando:\n",
    "\n",
    "$$\n",
    "inflacion = \\frac{precio_{actual} - precio_{anterior}}{precio_{anterior}}\n",
    "$$"
   ]
  },
  {
   "cell_type": "code",
   "execution_count": null,
   "id": "bd567835",
   "metadata": {},
   "outputs": [],
   "source": [
    "# Tu código"
   ]
  },
  {
   "cell_type": "markdown",
   "id": "961903d2",
   "metadata": {},
   "source": [
    "> Crea una lista de diccionarios con los datos de un producto\n",
    "\n",
    "* Recorre cada diccionario de la lista\n",
    "* Aumenta una nueva clave en el diccionario con el precio más IVA\n",
    "* Vuelve a recorrer cada diccionario de la lista\n",
    "* Imprime los datos del diccionario"
   ]
  },
  {
   "cell_type": "code",
   "execution_count": null,
   "id": "ffc9a3ed",
   "metadata": {},
   "outputs": [],
   "source": [
    "# tu código"
   ]
  }
 ],
 "metadata": {
  "kernelspec": {
   "display_name": "Python 3",
   "language": "python",
   "name": "python3"
  },
  "language_info": {
   "name": "python",
   "version": "3.12.4"
  }
 },
 "nbformat": 4,
 "nbformat_minor": 5
}
