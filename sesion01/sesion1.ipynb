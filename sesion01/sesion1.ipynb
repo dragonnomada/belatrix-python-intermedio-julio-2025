{
 "cells": [
  {
   "cell_type": "markdown",
   "id": "138cf131",
   "metadata": {},
   "source": [
    "# Python Intermedio - Sesión 1\n",
    "\n",
    "![logo](https://www.belatrix.com/wp-content/uploads/2023/08/belatrix-logosweb-1.png)"
   ]
  },
  {
   "cell_type": "markdown",
   "id": "b294e050",
   "metadata": {},
   "source": [
    "> Módulo I – Introducción a Python\n",
    "\n",
    "1. Uso de Variables y Tipos de Datos\n",
    "2. Funciones y Expresiones Lambda\n",
    "3. Listas y Listas Generadas\n",
    "4. Tuplas y Diccionarios "
   ]
  },
  {
   "cell_type": "markdown",
   "id": "223129d1",
   "metadata": {},
   "source": [
    "## Uso de Variables y Tipos de Datos\n",
    "\n",
    "Tipo | Nombre | Ejemplo de Valores\n",
    "---- | ------ | ------------------\n",
    "Número Entero | `int` | `1`, `123`, `1990`\n",
    "Número Decimal | `float` | `1.0`, `123.456`, `3.14159256`\n",
    "Texto | `str` | `\"Hola mundo\"`, `'Hola python'`, `f\"Hola {nombre}\"`\n",
    "Lógico | `bool` | `True`, `False`\n",
    "Nulo | `None` | `None`"
   ]
  },
  {
   "cell_type": "markdown",
   "id": "7df34f07",
   "metadata": {},
   "source": [
    "Ejemplo del uso de variables para representar los datos de un préstamo"
   ]
  },
  {
   "cell_type": "code",
   "execution_count": 2,
   "id": "e2b53d3d",
   "metadata": {},
   "outputs": [],
   "source": [
    "cliente = \"C001\"\n",
    "nombre = 'José Germán Sánchez Díaz'\n",
    "cantidad_prestada = 12_500.73\n",
    "tasa_anual = 0.08 # 8%\n",
    "total_prestamos = 3\n",
    "cliente_nuevo = True\n",
    "\n",
    "riesgo = None"
   ]
  },
  {
   "cell_type": "markdown",
   "id": "02ffd2ff",
   "metadata": {},
   "source": [
    "## Funciones y Expresiones Lambda\n",
    "\n",
    "> Sintaxis de la definición de una función simple\n",
    "\n",
    "```py\n",
    "def <nombre>():\n",
    "    return <resultado>\n",
    "```\n",
    "\n",
    "> Sintaxis de la definición de una función con parámetros\n",
    "\n",
    "```py\n",
    "def <nombre>(<parámtro1>, <parámetro2>, ...):\n",
    "    return <resultado>\n",
    "```\n",
    "\n",
    "> Sintaxis de la definición de una función con parámetros opcionales\n",
    "\n",
    "```py\n",
    "def <nombre>(<parámtro1>, <parámetro2>, ..., <parámetroA> = <valorA>, <parámetroB> = <valorB>, ...):\n",
    "    return <resultado>\n",
    "```"
   ]
  },
  {
   "cell_type": "markdown",
   "id": "5515eddc",
   "metadata": {},
   "source": [
    "Ejemplo de una función con parámetros opcionales"
   ]
  },
  {
   "cell_type": "code",
   "execution_count": 4,
   "id": "13aefc90",
   "metadata": {},
   "outputs": [],
   "source": [
    "def calcular_interes_anual(monto, tasa, porcentaje=False):\n",
    "    if porcentaje:\n",
    "        return monto * (1 + tasa / 100.0)\n",
    "    return monto * (1 + tasa)"
   ]
  },
  {
   "cell_type": "code",
   "execution_count": 5,
   "id": "2f4c8341",
   "metadata": {},
   "outputs": [
    {
     "data": {
      "text/plain": [
       "1120.0"
      ]
     },
     "execution_count": 5,
     "metadata": {},
     "output_type": "execute_result"
    }
   ],
   "source": [
    "calcular_interes_anual(1_000, 0.12)"
   ]
  },
  {
   "cell_type": "code",
   "execution_count": 7,
   "id": "f7c9f6e9",
   "metadata": {},
   "outputs": [
    {
     "data": {
      "text/plain": [
       "13000"
      ]
     },
     "execution_count": 7,
     "metadata": {},
     "output_type": "execute_result"
    }
   ],
   "source": [
    "calcular_interes_anual(1_000, 12)"
   ]
  },
  {
   "cell_type": "code",
   "execution_count": 6,
   "id": "b83862d1",
   "metadata": {},
   "outputs": [
    {
     "data": {
      "text/plain": [
       "1120.0"
      ]
     },
     "execution_count": 6,
     "metadata": {},
     "output_type": "execute_result"
    }
   ],
   "source": [
    "calcular_interes_anual(1_000, 12, porcentaje=True)"
   ]
  }
 ],
 "metadata": {
  "kernelspec": {
   "display_name": "Python 3",
   "language": "python",
   "name": "python3"
  },
  "language_info": {
   "codemirror_mode": {
    "name": "ipython",
    "version": 3
   },
   "file_extension": ".py",
   "mimetype": "text/x-python",
   "name": "python",
   "nbconvert_exporter": "python",
   "pygments_lexer": "ipython3",
   "version": "3.12.4"
  }
 },
 "nbformat": 4,
 "nbformat_minor": 5
}
