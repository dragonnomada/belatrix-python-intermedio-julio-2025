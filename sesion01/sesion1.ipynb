{
  "nbformat": 4,
  "nbformat_minor": 0,
  "metadata": {
    "colab": {
      "provenance": []
    },
    "kernelspec": {
      "name": "python3",
      "display_name": "Python 3"
    },
    "language_info": {
      "name": "python"
    }
  },
  "cells": [
    {
      "cell_type": "markdown",
      "source": [
        "# Python Intermedio - Sesión 1\n",
        "\n",
        "![logo](https://www.belatrix.com/wp-content/uploads/2023/08/belatrix-logosweb-1.png)"
      ],
      "metadata": {
        "id": "Z9XQVKw9JkGH"
      }
    },
    {
      "cell_type": "markdown",
      "source": [
        "> Módulo I – Introducción a Python\n",
        "\n",
        "1. Uso de Variables y Tipos de Datos\n",
        "2. Funciones y Expresiones Lambda\n",
        "3. Listas y Listas Generadas\n",
        "4. Tuplas y Diccionarios"
      ],
      "metadata": {
        "id": "O3rdop1PJnw3"
      }
    },
    {
      "cell_type": "markdown",
      "source": [
        "## Uso de Variables y Tipos de Datos\n",
        "\n",
        "Tipo | Nombre | Ejemplo de Valores\n",
        "---- | ------ | ------------------\n",
        "Número Entero | `int` | `1`, `123`, `1990`\n",
        "Número Decimal | `float` | `1.0`, `123.456`, `3.14159256`\n",
        "Texto | `str` | `\"Hola mundo\"`, `'Hola python'`, `f\"Hola {nombre}\"`\n",
        "Lógico | `bool` | `True`, `False`\n",
        "Nulo | `None` | `None`"
      ],
      "metadata": {
        "id": "SD47gZRlJor3"
      }
    },
    {
      "cell_type": "code",
      "execution_count": 2,
      "metadata": {
        "id": "U17oqwfMJfZ-"
      },
      "outputs": [],
      "source": [
        "estatura = 1.78 # estatura <- float\n",
        "peso = 84 # peso <- int"
      ]
    },
    {
      "cell_type": "code",
      "source": [
        "type(estatura)"
      ],
      "metadata": {
        "colab": {
          "base_uri": "https://localhost:8080/"
        },
        "id": "Ojh3-OakPlqJ",
        "outputId": "ed07f73b-425b-49a5-e8f6-01e9ca9fe4a3"
      },
      "execution_count": 3,
      "outputs": [
        {
          "output_type": "execute_result",
          "data": {
            "text/plain": [
              "float"
            ]
          },
          "metadata": {},
          "execution_count": 3
        }
      ]
    },
    {
      "cell_type": "code",
      "source": [
        "estatura"
      ],
      "metadata": {
        "colab": {
          "base_uri": "https://localhost:8080/"
        },
        "id": "FCz9MdhUPnjB",
        "outputId": "7e8b6303-c725-4953-82c6-aedb9c651dba"
      },
      "execution_count": 4,
      "outputs": [
        {
          "output_type": "execute_result",
          "data": {
            "text/plain": [
              "1.78"
            ]
          },
          "metadata": {},
          "execution_count": 4
        }
      ]
    },
    {
      "cell_type": "code",
      "source": [
        "imc = peso / estatura ** 2\n",
        "\n",
        "imc"
      ],
      "metadata": {
        "colab": {
          "base_uri": "https://localhost:8080/"
        },
        "id": "ZQZOsP3NPpBd",
        "outputId": "c82c4b89-4819-4db6-a0e3-951289c7a4fb"
      },
      "execution_count": 5,
      "outputs": [
        {
          "output_type": "execute_result",
          "data": {
            "text/plain": [
              "26.511804065143288"
            ]
          },
          "metadata": {},
          "execution_count": 5
        }
      ]
    },
    {
      "cell_type": "code",
      "source": [
        "monto = 12_500\n",
        "tasa_interes = 8 / 100.\n",
        "\n",
        "interes = monto * (1 + tasa_interes)\n",
        "\n",
        "interes"
      ],
      "metadata": {
        "colab": {
          "base_uri": "https://localhost:8080/"
        },
        "id": "P6dmXJ6tP4WK",
        "outputId": "72e134d6-7def-4116-f412-9b1ab3c4a463"
      },
      "execution_count": 7,
      "outputs": [
        {
          "output_type": "execute_result",
          "data": {
            "text/plain": [
              "13500.0"
            ]
          },
          "metadata": {},
          "execution_count": 7
        }
      ]
    },
    {
      "cell_type": "code",
      "source": [
        "interes_compuesto = monto * (1 + tasa_interes) ** 12\n",
        "\n",
        "interes_compuesto"
      ],
      "metadata": {
        "colab": {
          "base_uri": "https://localhost:8080/"
        },
        "id": "sO1TVfjbQJ7l",
        "outputId": "8eb4141c-4c72-4f99-b67f-18d097a88330"
      },
      "execution_count": 9,
      "outputs": [
        {
          "output_type": "execute_result",
          "data": {
            "text/plain": [
              "31477.126460237254"
            ]
          },
          "metadata": {},
          "execution_count": 9
        }
      ]
    },
    {
      "cell_type": "markdown",
      "source": [
        "> Ejemplo: Determinar la inflación simple\n",
        "\n",
        "$$\n",
        "inflacion = \\frac{valor_{actual} - valor_{anterior}}{valor_{anterior}} \\cdot 100\\%\n",
        "$$"
      ],
      "metadata": {
        "id": "hMnDqMydQeUZ"
      }
    },
    {
      "cell_type": "code",
      "source": [
        "valor_anterior = float(input(\"Valor anterior: \"))\n",
        "valor_actual = float(input(\"Valor actual: \"))\n",
        "\n",
        "inflacion = ((valor_actual - valor_anterior) / valor_anterior) * 100\n",
        "\n",
        "inflacion"
      ],
      "metadata": {
        "colab": {
          "base_uri": "https://localhost:8080/"
        },
        "id": "9Hx9oslvQ2-P",
        "outputId": "adff3ddd-acc1-461f-e37d-7c35fa4e0cf2"
      },
      "execution_count": 12,
      "outputs": [
        {
          "name": "stdout",
          "output_type": "stream",
          "text": [
            "Valor anterior: 12_000\n",
            "Valor actual: 15_000\n"
          ]
        },
        {
          "output_type": "execute_result",
          "data": {
            "text/plain": [
              "25.0"
            ]
          },
          "metadata": {},
          "execution_count": 12
        }
      ]
    },
    {
      "cell_type": "markdown",
      "source": [
        "## Funciones\n",
        "\n",
        "Estructuras de automatización que abstraen las tareas y generan cómputos para generalizar el consumo de operaciones complejas.\n",
        "\n",
        "> Sintaxis: Definición de la función\n",
        "\n",
        "```python\n",
        "def <nombre de la función>(<parámetros>):\n",
        "  ... sentencias (bloque de cómputo)\n",
        "  return <resultado | None>\n",
        "```\n",
        "\n",
        "> Sintaxis: Consumo o llamada a la función\n",
        "\n",
        "```python\n",
        "<nombre de la función>(<valores>)\n",
        "```"
      ],
      "metadata": {
        "id": "XX2OgpFHSYXh"
      }
    },
    {
      "cell_type": "code",
      "source": [
        "def calcular_inflacion(valor_anterior, valor_actual):\n",
        "  inflacion = (valor_actual - valor_anterior) / valor_anterior\n",
        "  return inflacion * 100"
      ],
      "metadata": {
        "id": "Sbc0u5VKSIea"
      },
      "execution_count": 18,
      "outputs": []
    },
    {
      "cell_type": "code",
      "source": [
        "calcular_inflacion(34, 48)"
      ],
      "metadata": {
        "colab": {
          "base_uri": "https://localhost:8080/"
        },
        "id": "SWCfDQYpTX0F",
        "outputId": "00063cc3-09e6-4b89-b433-f9afa15863fc"
      },
      "execution_count": 19,
      "outputs": [
        {
          "output_type": "execute_result",
          "data": {
            "text/plain": [
              "41.17647058823529"
            ]
          },
          "metadata": {},
          "execution_count": 19
        }
      ]
    },
    {
      "cell_type": "markdown",
      "source": [
        "## Expresiones lambda\n",
        "\n",
        "> Sintaxis: Defenir una expresión lambda\n",
        "\n",
        "```python\n",
        "<variable> = lambda <parámetros>: <resultado>\n",
        "```\n",
        "\n",
        "Es equilavente:\n",
        "\n",
        "```python\n",
        "def <nombre>(<parámetros>):\n",
        "  return <resultado>\n",
        "```"
      ],
      "metadata": {
        "id": "lzCXJu17UOH4"
      }
    },
    {
      "cell_type": "code",
      "source": [
        "aumentar_iva = lambda precio: precio * 1.16"
      ],
      "metadata": {
        "id": "JV2ntWDlT8id"
      },
      "execution_count": 30,
      "outputs": []
    },
    {
      "cell_type": "code",
      "source": [
        "validar_precio = lambda precio: precio > 0.01 and precio < 1_000_000.0"
      ],
      "metadata": {
        "id": "ji9Wh5mLVJ74"
      },
      "execution_count": 36,
      "outputs": []
    },
    {
      "cell_type": "code",
      "source": [
        "aumentar_iva(100)"
      ],
      "metadata": {
        "colab": {
          "base_uri": "https://localhost:8080/"
        },
        "id": "KzQTs5kwVcVv",
        "outputId": "d630781d-3920-42b7-e52f-69adc61bf9e9"
      },
      "execution_count": 31,
      "outputs": [
        {
          "output_type": "execute_result",
          "data": {
            "text/plain": [
              "115.99999999999999"
            ]
          },
          "metadata": {},
          "execution_count": 31
        }
      ]
    },
    {
      "cell_type": "code",
      "source": [
        "validar_precio(-10)"
      ],
      "metadata": {
        "colab": {
          "base_uri": "https://localhost:8080/"
        },
        "id": "hrmiasQtVw8s",
        "outputId": "1f0b509b-0f57-4660-87b3-7f4015015740"
      },
      "execution_count": 37,
      "outputs": [
        {
          "output_type": "execute_result",
          "data": {
            "text/plain": [
              "False"
            ]
          },
          "metadata": {},
          "execution_count": 37
        }
      ]
    },
    {
      "cell_type": "code",
      "source": [
        "validar_precio(100)"
      ],
      "metadata": {
        "colab": {
          "base_uri": "https://localhost:8080/"
        },
        "id": "yq7uqAW7V5dA",
        "outputId": "9f9d0db2-2d36-43b8-8a3e-7b7640645153"
      },
      "execution_count": 38,
      "outputs": [
        {
          "output_type": "execute_result",
          "data": {
            "text/plain": [
              "True"
            ]
          },
          "metadata": {},
          "execution_count": 38
        }
      ]
    },
    {
      "cell_type": "markdown",
      "source": [
        "## Colecciones: Lista\n",
        "\n",
        "Es un mecanismo para indexar linealmente datos, como una serie de datos.\n",
        "\n",
        "> Sintaxis: Definir una lista\n",
        "\n",
        "```python\n",
        "<variable> = [ <elementos separados por coma> ]\n",
        "```"
      ],
      "metadata": {
        "id": "tkYEc8v2Yud7"
      }
    },
    {
      "cell_type": "code",
      "source": [
        "precios = [18, 19.5, 20.5, 21.5, 23, 25, 26.5, 28, 32, 40, 42]\n",
        "\n",
        "precios"
      ],
      "metadata": {
        "colab": {
          "base_uri": "https://localhost:8080/"
        },
        "id": "0kL8Av3ZYxYd",
        "outputId": "61b8c48d-b32f-4443-ee75-5b6773ef42a6"
      },
      "execution_count": 39,
      "outputs": [
        {
          "output_type": "execute_result",
          "data": {
            "text/plain": [
              "[18, 19.5, 20.5, 21.5, 23, 25, 26.5, 28, 32, 40, 42]"
            ]
          },
          "metadata": {},
          "execution_count": 39
        }
      ]
    },
    {
      "cell_type": "code",
      "source": [
        "type(precios)"
      ],
      "metadata": {
        "colab": {
          "base_uri": "https://localhost:8080/"
        },
        "id": "3p3I6jc3aNs6",
        "outputId": "17f7d6bb-53b4-4040-947f-dedc1f245335"
      },
      "execution_count": 40,
      "outputs": [
        {
          "output_type": "execute_result",
          "data": {
            "text/plain": [
              "list"
            ]
          },
          "metadata": {},
          "execution_count": 40
        }
      ]
    },
    {
      "cell_type": "code",
      "source": [
        "precios.append(43)\n",
        "\n",
        "precios"
      ],
      "metadata": {
        "colab": {
          "base_uri": "https://localhost:8080/"
        },
        "id": "Ldgmc5IgbRRG",
        "outputId": "d10a2656-a302-4138-bdfe-56094db32458"
      },
      "execution_count": 41,
      "outputs": [
        {
          "output_type": "execute_result",
          "data": {
            "text/plain": [
              "[18, 19.5, 20.5, 21.5, 23, 25, 26.5, 28, 32, 40, 42, 43]"
            ]
          },
          "metadata": {},
          "execution_count": 41
        }
      ]
    },
    {
      "cell_type": "markdown",
      "source": [
        "## Métodos de lista\n",
        "\n",
        "* **.append(`<elemento>`)** - Agrega al final de lista\n",
        "* **.insert(`<índice>, <elemento>`)** - Agrega en el índice y desplaza\n",
        "* **.pop()** - Quita el último\n",
        "* **.pop(`<índica>`)** - Agrega el del índice\n",
        "* **.remove(`<elemento>`)** - Quita el primero encontrado (cuidado)"
      ],
      "metadata": {
        "id": "0Qlx1wgzbXkX"
      }
    },
    {
      "cell_type": "code",
      "source": [
        "precios = []\n",
        "\n",
        "for i in range(10):\n",
        "  precio = float(input(f\"Dame el precio {i + 1}: \"))\n",
        "  precios.append(precio)\n",
        "\n",
        "precios"
      ],
      "metadata": {
        "colab": {
          "base_uri": "https://localhost:8080/"
        },
        "id": "b-X3XhofbcLN",
        "outputId": "4cd80555-6acb-4968-a2ba-474a02642d75"
      },
      "execution_count": 43,
      "outputs": [
        {
          "name": "stdout",
          "output_type": "stream",
          "text": [
            "Dame el precio 1: 18\n",
            "Dame el precio 2: 18.5\n",
            "Dame el precio 3: 19\n",
            "Dame el precio 4: 1.5\n",
            "Dame el precio 5: 20.5\n",
            "Dame el precio 6: 21.80\n",
            "Dame el precio 7: 32.5\n",
            "Dame el precio 8: 34\n",
            "Dame el precio 9: 36\n",
            "Dame el precio 10: 48\n"
          ]
        },
        {
          "output_type": "execute_result",
          "data": {
            "text/plain": [
              "[18.0, 18.5, 19.0, 1.5, 20.5, 21.8, 32.5, 34.0, 36.0, 48.0]"
            ]
          },
          "metadata": {},
          "execution_count": 43
        }
      ]
    },
    {
      "cell_type": "code",
      "source": [
        "precios.pop(3) # [18.0, 18.5, 19.0, 20.5, 21.8, 32.5, 34.0, 36.0, 48.0]\n",
        "precios.insert(3, 19.5) # [18.0, 18.5, 19.0, (19.5) -> 20.5, 21.8, 32.5, 34.0, 36.0, 48.0]\n",
        "\n",
        "precios"
      ],
      "metadata": {
        "colab": {
          "base_uri": "https://localhost:8080/"
        },
        "id": "b1F7Q9b3cbLo",
        "outputId": "46386e1a-9e7c-46f4-c3cd-be3f636dec6f"
      },
      "execution_count": 44,
      "outputs": [
        {
          "output_type": "execute_result",
          "data": {
            "text/plain": [
              "[18.0, 18.5, 19.0, 19.5, 20.5, 21.8, 32.5, 34.0, 36.0, 48.0]"
            ]
          },
          "metadata": {},
          "execution_count": 44
        }
      ]
    },
    {
      "cell_type": "markdown",
      "source": [
        "## Operadores de lista\n",
        "\n",
        "* **len(`<lista>`)** - Tamaño o total de elementos\n",
        "* **sum(`<lista>`)** - Sumar todos los elementos\n",
        "* **min(`<lista>`)** - Devuelve el menor elemento de todos\n",
        "* **max(`<lista>`)** - Devuelve el mayor elemento de todos\n",
        "* **sorted(`<lista>`, reversed=False)** - Devuelve la lista ordenada"
      ],
      "metadata": {
        "id": "7L7WGjR6bb4S"
      }
    },
    {
      "cell_type": "code",
      "source": [
        "len(precios)"
      ],
      "metadata": {
        "colab": {
          "base_uri": "https://localhost:8080/"
        },
        "id": "TLcxrxUNbbp4",
        "outputId": "fb357c02-86e6-44e5-9a5d-98394a095ec0"
      },
      "execution_count": 45,
      "outputs": [
        {
          "output_type": "execute_result",
          "data": {
            "text/plain": [
              "10"
            ]
          },
          "metadata": {},
          "execution_count": 45
        }
      ]
    },
    {
      "cell_type": "code",
      "source": [
        "n = len(precios)\n",
        "\n",
        "for i in range(n):\n",
        "  print(i, precios[i])"
      ],
      "metadata": {
        "colab": {
          "base_uri": "https://localhost:8080/"
        },
        "id": "S8ungaY3dPju",
        "outputId": "bbe40ec2-04e9-4bdc-bcf4-8a0dca7ba4c6"
      },
      "execution_count": 46,
      "outputs": [
        {
          "output_type": "stream",
          "name": "stdout",
          "text": [
            "0 18.0\n",
            "1 18.5\n",
            "2 19.0\n",
            "3 19.5\n",
            "4 20.5\n",
            "5 21.8\n",
            "6 32.5\n",
            "7 34.0\n",
            "8 36.0\n",
            "9 48.0\n"
          ]
        }
      ]
    },
    {
      "cell_type": "markdown",
      "source": [
        "### Ejemplo: Reporte estadísticos principales"
      ],
      "metadata": {
        "id": "89EC_hoPdb98"
      }
    },
    {
      "cell_type": "code",
      "source": [
        "print(f\"\"\"\n",
        "Precios: {precios}\n",
        "\n",
        "Total: {len(precios)}\n",
        "---------------------------\n",
        "Mínimo: {min(precios)}\n",
        "Máximo: {max(precios)}\n",
        "---------------------------\n",
        "Suma: {sum(precios)}\n",
        "Promedio: {sum(precios) / len(precios)}\n",
        "\"\"\")"
      ],
      "metadata": {
        "colab": {
          "base_uri": "https://localhost:8080/"
        },
        "id": "F6d4Ern-daui",
        "outputId": "b63d6496-bb47-477f-cfce-e66b04c1cc4c"
      },
      "execution_count": 48,
      "outputs": [
        {
          "output_type": "stream",
          "name": "stdout",
          "text": [
            "\n",
            "Precios: [18.0, 18.5, 19.0, 19.5, 20.5, 21.8, 32.5, 34.0, 36.0, 48.0]\n",
            "\n",
            "Total: 10\n",
            "---------------------------\n",
            "Mínimo: 18.0\n",
            "Máximo: 48.0\n",
            "---------------------------\n",
            "Suma: 267.8\n",
            "Promedio: 26.78\n",
            "\n"
          ]
        }
      ]
    },
    {
      "cell_type": "code",
      "source": [
        "edades = [80, 45, 32, 34, 29, 17, 14, 67, 54, 32, 29]\n",
        "\n",
        "edades"
      ],
      "metadata": {
        "colab": {
          "base_uri": "https://localhost:8080/"
        },
        "id": "K3KD2J5PeKJs",
        "outputId": "cbac2bad-5626-472b-c173-c065e1789cbb"
      },
      "execution_count": 50,
      "outputs": [
        {
          "output_type": "execute_result",
          "data": {
            "text/plain": [
              "[80, 45, 32, 34, 29, 17, 14, 67, 54, 32, 29]"
            ]
          },
          "metadata": {},
          "execution_count": 50
        }
      ]
    },
    {
      "cell_type": "code",
      "source": [
        "edades_o = sorted(edades)\n",
        "\n",
        "edades_o"
      ],
      "metadata": {
        "colab": {
          "base_uri": "https://localhost:8080/"
        },
        "id": "AOaNnTG0eeS2",
        "outputId": "2e89cc3a-6ed2-4911-edd6-1dfa4f9639fc"
      },
      "execution_count": 51,
      "outputs": [
        {
          "output_type": "execute_result",
          "data": {
            "text/plain": [
              "[14, 17, 29, 29, 32, 32, 34, 45, 54, 67, 80]"
            ]
          },
          "metadata": {},
          "execution_count": 51
        }
      ]
    },
    {
      "cell_type": "code",
      "source": [
        "edades_o[:3] # [0:3] -> <0, 1, 2>"
      ],
      "metadata": {
        "colab": {
          "base_uri": "https://localhost:8080/"
        },
        "id": "11-WpsJGeiZp",
        "outputId": "252c042b-b2d3-4325-cba4-1b39b65951b3"
      },
      "execution_count": 52,
      "outputs": [
        {
          "output_type": "execute_result",
          "data": {
            "text/plain": [
              "[14, 17, 29]"
            ]
          },
          "metadata": {},
          "execution_count": 52
        }
      ]
    },
    {
      "cell_type": "code",
      "source": [
        "edades_o[-3:] # [-3:n] -> <-3, -2, -1>"
      ],
      "metadata": {
        "colab": {
          "base_uri": "https://localhost:8080/"
        },
        "id": "rFTkds5ZekvR",
        "outputId": "cd18deb0-234d-44a1-c41e-ef4d0b9d89cf"
      },
      "execution_count": 53,
      "outputs": [
        {
          "output_type": "execute_result",
          "data": {
            "text/plain": [
              "[54, 67, 80]"
            ]
          },
          "metadata": {},
          "execution_count": 53
        }
      ]
    },
    {
      "cell_type": "code",
      "source": [
        "edades_o[-1]"
      ],
      "metadata": {
        "colab": {
          "base_uri": "https://localhost:8080/"
        },
        "id": "X5HTdLP_exVm",
        "outputId": "a2135135-09db-49ad-fff5-caccf3cf0eab"
      },
      "execution_count": 54,
      "outputs": [
        {
          "output_type": "execute_result",
          "data": {
            "text/plain": [
              "80"
            ]
          },
          "metadata": {},
          "execution_count": 54
        }
      ]
    },
    {
      "cell_type": "code",
      "source": [
        "edades_o[-2]"
      ],
      "metadata": {
        "colab": {
          "base_uri": "https://localhost:8080/"
        },
        "id": "CQMRhnkFezaU",
        "outputId": "4a2c76c0-29e4-4fcf-e5c7-eb9fbb00d6ea"
      },
      "execution_count": 55,
      "outputs": [
        {
          "output_type": "execute_result",
          "data": {
            "text/plain": [
              "67"
            ]
          },
          "metadata": {},
          "execution_count": 55
        }
      ]
    },
    {
      "cell_type": "markdown",
      "source": [
        "## Ejercicio:\n",
        "\n",
        "Genera una lista de estaturas y una lista de pesos del mismo tamaño (ambas listas con el mismo número de elementos)\n",
        "\n",
        "Crea un iterador (un `for`) que recorra una `i` desde `0` hasta `n - 1` (range(`n`)) y que recupere la estatura y el peso correspondientes al índice `i`.\n",
        "\n",
        "Imprime la estatura, el peso y el índice de masa corporal dado por:\n",
        "\n",
        "$$\n",
        "IMC = \\frac{peso}{estatura^2}\n",
        "$$"
      ],
      "metadata": {
        "id": "RwZmo2jtfapL"
      }
    },
    {
      "cell_type": "code",
      "source": [
        "estaturas = [1.72, 1.64, 1.56, 1.51, 1.85, 1.92, 1.91]\n",
        "pesos = [84, 62.5, 58.3, 49.6, 101, 93, 120]\n",
        "\n",
        "n = len(estaturas)\n",
        "\n",
        "for i in range(n): # range(0, n) -> i in <0, 1, ..., n - 2, n - 1>\n",
        "  estatura = estaturas[i]\n",
        "  peso = pesos[i]\n",
        "\n",
        "  imc = peso / (estatura ** 2)\n",
        "\n",
        "  # print(i, estatura, peso, imc)\n",
        "\n",
        "  print(f\"{i}: Estatura: {estatura} Peso: {peso:6.2f} -> IMC: {imc:.3f}\")"
      ],
      "metadata": {
        "colab": {
          "base_uri": "https://localhost:8080/"
        },
        "id": "iT8Sv38rial2",
        "outputId": "41332e46-55d5-4651-d36c-48e03fa8fe8a"
      },
      "execution_count": 64,
      "outputs": [
        {
          "output_type": "stream",
          "name": "stdout",
          "text": [
            "0: Estatura: 1.72 Peso:  84.00 -> IMC: 28.394\n",
            "1: Estatura: 1.64 Peso:  62.50 -> IMC: 23.238\n",
            "2: Estatura: 1.56 Peso:  58.30 -> IMC: 23.956\n",
            "3: Estatura: 1.51 Peso:  49.60 -> IMC: 21.753\n",
            "4: Estatura: 1.85 Peso: 101.00 -> IMC: 29.511\n",
            "5: Estatura: 1.92 Peso:  93.00 -> IMC: 25.228\n",
            "6: Estatura: 1.91 Peso: 120.00 -> IMC: 32.894\n"
          ]
        }
      ]
    },
    {
      "cell_type": "markdown",
      "source": [
        "## Secuenciadores\n",
        "\n",
        "* **enumerate(`<lista>`)** - Genera una secuencia entre los índices y los elementos de la lista\n",
        "* **zip(`<lista1>`, `<lista2>`)** - Genera una secuencia con cada elemento de cada lista (dos o más) y permite recorrerlas al mismo tiempo"
      ],
      "metadata": {
        "id": "Lkn7UwirkJLM"
      }
    },
    {
      "cell_type": "code",
      "source": [
        "for i, estatura in enumerate(estaturas):\n",
        "  print(i, estatura)"
      ],
      "metadata": {
        "colab": {
          "base_uri": "https://localhost:8080/"
        },
        "id": "ya-af-QRknFx",
        "outputId": "0d7350be-4e17-490e-9cde-4fc2f482d357"
      },
      "execution_count": 65,
      "outputs": [
        {
          "output_type": "stream",
          "name": "stdout",
          "text": [
            "0 1.72\n",
            "1 1.64\n",
            "2 1.56\n",
            "3 1.51\n",
            "4 1.85\n",
            "5 1.92\n",
            "6 1.91\n"
          ]
        }
      ]
    },
    {
      "cell_type": "code",
      "source": [
        "for estatura, peso in zip(estaturas, pesos):\n",
        "  imc = peso / estatura ** 2\n",
        "  # print(estatura, peso, imc)\n",
        "  print(f\"{estatura:.2f} {peso:6.2f} {imc:.2f}\")"
      ],
      "metadata": {
        "colab": {
          "base_uri": "https://localhost:8080/"
        },
        "id": "YY00uc6_k5em",
        "outputId": "de6c916d-aa0d-4258-ed50-f5caaffe80a1"
      },
      "execution_count": 69,
      "outputs": [
        {
          "output_type": "stream",
          "name": "stdout",
          "text": [
            "1.72  84.00 28.39\n",
            "1.64  62.50 23.24\n",
            "1.56  58.30 23.96\n",
            "1.51  49.60 21.75\n",
            "1.85 101.00 29.51\n",
            "1.92  93.00 25.23\n",
            "1.91 120.00 32.89\n"
          ]
        }
      ]
    },
    {
      "cell_type": "code",
      "source": [
        "for i, (estatura, peso) in enumerate(zip(estaturas, pesos)):\n",
        "  imc = peso / estatura ** 2\n",
        "  # print(estatura, peso, imc)\n",
        "  print(f\"{i}: {estatura:.2f} {peso:6.2f} {imc:.2f}\")"
      ],
      "metadata": {
        "colab": {
          "base_uri": "https://localhost:8080/"
        },
        "id": "3FEDC7jrlQLn",
        "outputId": "2ccf526b-9eb9-45d4-d835-ca5aa26352a6"
      },
      "execution_count": 70,
      "outputs": [
        {
          "output_type": "stream",
          "name": "stdout",
          "text": [
            "0: 1.72  84.00 28.39\n",
            "1: 1.64  62.50 23.24\n",
            "2: 1.56  58.30 23.96\n",
            "3: 1.51  49.60 21.75\n",
            "4: 1.85 101.00 29.51\n",
            "5: 1.92  93.00 25.23\n",
            "6: 1.91 120.00 32.89\n"
          ]
        }
      ]
    }
  ]
}